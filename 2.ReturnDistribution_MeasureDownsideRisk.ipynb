{
 "cells": [
  {
   "cell_type": "markdown",
   "id": "4d15c162-8c84-40af-9883-a71d1f2064b0",
   "metadata": {},
   "source": [
    "# 2. Going beyond normality"
   ]
  },
  {
   "cell_type": "code",
   "execution_count": 2,
   "id": "d6c86cf8-6290-4915-accd-1b228976c46f",
   "metadata": {
    "tags": []
   },
   "outputs": [
    {
     "name": "stdout",
     "output_type": "stream",
     "text": [
      "The autoreload extension is already loaded. To reload it, use:\n",
      "  %reload_ext autoreload\n"
     ]
    }
   ],
   "source": [
    "%load_ext autoreload\n",
    "%autoreload 2"
   ]
  },
  {
   "cell_type": "code",
   "execution_count": 5,
   "id": "ae0ea62c-f51e-42d2-ab64-e56fff869d5c",
   "metadata": {
    "tags": []
   },
   "outputs": [],
   "source": [
    "import numpy as np\n",
    "import pandas as pd\n",
    "import scipy.stats as scs  #has easy functions for skewness and kurtosis"
   ]
  },
  {
   "cell_type": "code",
   "execution_count": 6,
   "id": "e5dd04ef-a1cb-4da5-a2c0-923f3deac755",
   "metadata": {
    "tags": []
   },
   "outputs": [
    {
     "data": {
      "text/html": [
       "<div>\n",
       "<style scoped>\n",
       "    .dataframe tbody tr th:only-of-type {\n",
       "        vertical-align: middle;\n",
       "    }\n",
       "\n",
       "    .dataframe tbody tr th {\n",
       "        vertical-align: top;\n",
       "    }\n",
       "\n",
       "    .dataframe thead th {\n",
       "        text-align: right;\n",
       "    }\n",
       "</style>\n",
       "<table border=\"1\" class=\"dataframe\">\n",
       "  <thead>\n",
       "    <tr style=\"text-align: right;\">\n",
       "      <th></th>\n",
       "      <th>SmallCap</th>\n",
       "      <th>LargeCap</th>\n",
       "    </tr>\n",
       "  </thead>\n",
       "  <tbody>\n",
       "    <tr>\n",
       "      <th>192607</th>\n",
       "      <td>-0.0142</td>\n",
       "      <td>0.0348</td>\n",
       "    </tr>\n",
       "    <tr>\n",
       "      <th>192608</th>\n",
       "      <td>0.0461</td>\n",
       "      <td>0.0352</td>\n",
       "    </tr>\n",
       "    <tr>\n",
       "      <th>192609</th>\n",
       "      <td>0.0091</td>\n",
       "      <td>0.0068</td>\n",
       "    </tr>\n",
       "    <tr>\n",
       "      <th>192610</th>\n",
       "      <td>-0.0472</td>\n",
       "      <td>-0.0237</td>\n",
       "    </tr>\n",
       "    <tr>\n",
       "      <th>192611</th>\n",
       "      <td>-0.0077</td>\n",
       "      <td>0.0268</td>\n",
       "    </tr>\n",
       "  </tbody>\n",
       "</table>\n",
       "</div>"
      ],
      "text/plain": [
       "        SmallCap  LargeCap\n",
       "192607   -0.0142    0.0348\n",
       "192608    0.0461    0.0352\n",
       "192609    0.0091    0.0068\n",
       "192610   -0.0472   -0.0237\n",
       "192611   -0.0077    0.0268"
      ]
     },
     "execution_count": 6,
     "metadata": {},
     "output_type": "execute_result"
    }
   ],
   "source": [
    "returns = pd.read_csv(\"data/data2_Portfolios_Formed_on_ME_EW_monthly.csv\",\n",
    "                     header=0, index_col=0,na_values=-99.99)  #FF decided -99.99 as the na values\n",
    "columns = ['Lo 10','Hi 10']  \n",
    "returns = returns[columns]\n",
    "returns.columns = ['SmallCap','LargeCap']  #renaming the columns\n",
    "returns = returns/100\n",
    "returns.head()\n"
   ]
  },
  {
   "cell_type": "code",
   "execution_count": 9,
   "id": "14e66927-703d-4c52-92b0-d2497697120f",
   "metadata": {
    "tags": []
   },
   "outputs": [
    {
     "data": {
      "text/plain": [
       "array([4.32602503, 0.21217585])"
      ]
     },
     "execution_count": 9,
     "metadata": {},
     "output_type": "execute_result"
    }
   ],
   "source": [
    "#Calculate Skewness and Kurtosis\n",
    "scs.skew(returns)"
   ]
  },
  {
   "cell_type": "code",
   "execution_count": 11,
   "id": "5fec4d94-bb9c-4a22-a534-b4687fb4ea41",
   "metadata": {
    "tags": []
   },
   "outputs": [
    {
     "data": {
      "text/plain": [
       "array([43.26219757,  7.52011156])"
      ]
     },
     "execution_count": 11,
     "metadata": {},
     "output_type": "execute_result"
    }
   ],
   "source": [
    "scs.kurtosis(returns) #This is actually the excess kurtosis= kurtosis - 3"
   ]
  },
  {
   "cell_type": "markdown",
   "id": "5f056f93-e75d-4074-95c9-783cbeb50358",
   "metadata": {},
   "source": [
    "## 1. Semi-deviation"
   ]
  },
  {
   "cell_type": "code",
   "execution_count": 12,
   "id": "5d4cd80a-555a-4ab0-8736-581d2482858f",
   "metadata": {
    "tags": []
   },
   "outputs": [
    {
     "data": {
      "text/plain": [
       "SmallCap    0.105529\n",
       "LargeCap    0.053829\n",
       "dtype: float64"
      ]
     },
     "execution_count": 12,
     "metadata": {},
     "output_type": "execute_result"
    }
   ],
   "source": [
    "returns.std()"
   ]
  },
  {
   "cell_type": "code",
   "execution_count": 13,
   "id": "8645ee45-31ad-4513-b6ea-a4db88f3a84c",
   "metadata": {
    "tags": []
   },
   "outputs": [
    {
     "data": {
      "text/html": [
       "<div>\n",
       "<style scoped>\n",
       "    .dataframe tbody tr th:only-of-type {\n",
       "        vertical-align: middle;\n",
       "    }\n",
       "\n",
       "    .dataframe tbody tr th {\n",
       "        vertical-align: top;\n",
       "    }\n",
       "\n",
       "    .dataframe thead th {\n",
       "        text-align: right;\n",
       "    }\n",
       "</style>\n",
       "<table border=\"1\" class=\"dataframe\">\n",
       "  <thead>\n",
       "    <tr style=\"text-align: right;\">\n",
       "      <th></th>\n",
       "      <th>SmallCap</th>\n",
       "      <th>LargeCap</th>\n",
       "    </tr>\n",
       "  </thead>\n",
       "  <tbody>\n",
       "    <tr>\n",
       "      <th>192607</th>\n",
       "      <td>True</td>\n",
       "      <td>False</td>\n",
       "    </tr>\n",
       "    <tr>\n",
       "      <th>192608</th>\n",
       "      <td>False</td>\n",
       "      <td>False</td>\n",
       "    </tr>\n",
       "    <tr>\n",
       "      <th>192609</th>\n",
       "      <td>False</td>\n",
       "      <td>False</td>\n",
       "    </tr>\n",
       "    <tr>\n",
       "      <th>192610</th>\n",
       "      <td>True</td>\n",
       "      <td>True</td>\n",
       "    </tr>\n",
       "    <tr>\n",
       "      <th>192611</th>\n",
       "      <td>True</td>\n",
       "      <td>False</td>\n",
       "    </tr>\n",
       "    <tr>\n",
       "      <th>...</th>\n",
       "      <td>...</td>\n",
       "      <td>...</td>\n",
       "    </tr>\n",
       "    <tr>\n",
       "      <th>202107</th>\n",
       "      <td>True</td>\n",
       "      <td>False</td>\n",
       "    </tr>\n",
       "    <tr>\n",
       "      <th>202108</th>\n",
       "      <td>False</td>\n",
       "      <td>False</td>\n",
       "    </tr>\n",
       "    <tr>\n",
       "      <th>202109</th>\n",
       "      <td>True</td>\n",
       "      <td>True</td>\n",
       "    </tr>\n",
       "    <tr>\n",
       "      <th>202110</th>\n",
       "      <td>True</td>\n",
       "      <td>False</td>\n",
       "    </tr>\n",
       "    <tr>\n",
       "      <th>202111</th>\n",
       "      <td>True</td>\n",
       "      <td>True</td>\n",
       "    </tr>\n",
       "  </tbody>\n",
       "</table>\n",
       "<p>1145 rows × 2 columns</p>\n",
       "</div>"
      ],
      "text/plain": [
       "        SmallCap  LargeCap\n",
       "192607      True     False\n",
       "192608     False     False\n",
       "192609     False     False\n",
       "192610      True      True\n",
       "192611      True     False\n",
       "...          ...       ...\n",
       "202107      True     False\n",
       "202108     False     False\n",
       "202109      True      True\n",
       "202110      True     False\n",
       "202111      True      True\n",
       "\n",
       "[1145 rows x 2 columns]"
      ]
     },
     "execution_count": 13,
     "metadata": {},
     "output_type": "execute_result"
    }
   ],
   "source": [
    "returns<0  #creates booleans"
   ]
  },
  {
   "cell_type": "code",
   "execution_count": 17,
   "id": "312fd3f3-5fca-408a-972c-481dec54e537",
   "metadata": {
    "tags": []
   },
   "outputs": [
    {
     "data": {
      "text/plain": [
       "SmallCap    0.052185\n",
       "LargeCap    0.040057\n",
       "dtype: float64"
      ]
     },
     "execution_count": 17,
     "metadata": {},
     "output_type": "execute_result"
    }
   ],
   "source": [
    "returns[returns<returns.mean()].std() #The standard deviation of the sub-sample of below-average returns"
   ]
  },
  {
   "cell_type": "code",
   "execution_count": 19,
   "id": "90af5083-3815-4efd-849b-9ea8ec01b681",
   "metadata": {
    "tags": []
   },
   "outputs": [
    {
     "data": {
      "text/plain": [
       "SmallCap    0.051923\n",
       "LargeCap    0.040267\n",
       "dtype: float64"
      ]
     },
     "execution_count": 19,
     "metadata": {},
     "output_type": "execute_result"
    }
   ],
   "source": [
    "returns[returns<0].std() #The standard deviation of the sub-sample of below-zero returns"
   ]
  },
  {
   "cell_type": "markdown",
   "id": "e6941a9b-b3b9-4542-bf1e-93f0782f5f9a",
   "metadata": {},
   "source": [
    "# 2. Value at Risk\n",
    "## Historical VaR"
   ]
  },
  {
   "cell_type": "code",
   "execution_count": 22,
   "id": "69f67e21-2a49-48d4-abeb-be60543a1836",
   "metadata": {
    "tags": []
   },
   "outputs": [
    {
     "data": {
      "text/plain": [
       "array([0.10736, 0.07554])"
      ]
     },
     "execution_count": 22,
     "metadata": {},
     "output_type": "execute_result"
    }
   ],
   "source": [
    "np.percentile(returns, 5, axis=0)*-1 \n",
    "#with 95 % confidence the monthly return will not lose more than 10.74% for the SmallCaps and 7.55% for LargeCaps."
   ]
  },
  {
   "cell_type": "markdown",
   "id": "8d9a9330-45ce-4b59-a309-18de33c2df40",
   "metadata": {},
   "source": [
    "## Parametric VaR"
   ]
  },
  {
   "cell_type": "code",
   "execution_count": 23,
   "id": "02657a02-ca1b-4581-abff-93ba69cdcc24",
   "metadata": {
    "tags": []
   },
   "outputs": [
    {
     "data": {
      "text/plain": [
       "-1.6448536269514729"
      ]
     },
     "execution_count": 23,
     "metadata": {},
     "output_type": "execute_result"
    }
   ],
   "source": [
    "z = scs.norm.ppf(0.05) #ppf(q, loc=0, scale=1) Percent point function (inverse of ``cdf`` --- percentiles).\n",
    "z"
   ]
  },
  {
   "cell_type": "code",
   "execution_count": 26,
   "id": "8808ff2a-1cb7-4f36-a20a-99c9ad29fcc0",
   "metadata": {
    "tags": []
   },
   "outputs": [
    {
     "data": {
      "text/plain": [
       "SmallCap    0.155646\n",
       "LargeCap    0.079383\n",
       "dtype: float64"
      ]
     },
     "execution_count": 26,
     "metadata": {},
     "output_type": "execute_result"
    }
   ],
   "source": [
    "var_norm = -1*(returns.mean()+z*returns.std())\n",
    "var_norm  #Try to compare with the historical VaR"
   ]
  },
  {
   "cell_type": "markdown",
   "id": "726b4650-cc8d-4e4c-b519-900f6d68c496",
   "metadata": {},
   "source": [
    "## Semi-parametric VaR"
   ]
  },
  {
   "cell_type": "code",
   "execution_count": 27,
   "id": "5e694985-bf53-47cf-b428-79c69bc926f4",
   "metadata": {
    "tags": []
   },
   "outputs": [
    {
     "data": {
      "text/plain": [
       "array([-1.40135066, -1.73384688])"
      ]
     },
     "execution_count": 27,
     "metadata": {},
     "output_type": "execute_result"
    }
   ],
   "source": [
    "z = scs.norm.ppf(0.05)\n",
    "s = scs.skew(returns[-120:])  #taking the last 120 months(rows) of returns\n",
    "k = scs.kurtosis(returns[-120:])\n",
    "z_cf = (z\n",
    "        +(z**2-1)*s/6\n",
    "        +(z**3-3*z)*k/24\n",
    "        -(2*z**3-5*z)*(s**2)/36)\n",
    "z_cf\n",
    "        "
   ]
  },
  {
   "cell_type": "code",
   "execution_count": 29,
   "id": "5e9acdcf-0285-4496-be1e-ac23fd732eeb",
   "metadata": {
    "tags": []
   },
   "outputs": [
    {
     "data": {
      "text/plain": [
       "SmallCap    0.075827\n",
       "LargeCap    0.054740\n",
       "dtype: float64"
      ]
     },
     "execution_count": 29,
     "metadata": {},
     "output_type": "execute_result"
    }
   ],
   "source": [
    "var_cf = -1*(returns[-120:].mean()+z_cf*returns[-120:].std())\n",
    "var_cf"
   ]
  },
  {
   "cell_type": "markdown",
   "id": "3b226cf3-9ab8-46f0-8ac0-aee98b58371d",
   "metadata": {},
   "source": [
    "## 3. Max Drawdown"
   ]
  },
  {
   "cell_type": "code",
   "execution_count": 30,
   "id": "7fc91e35-9dba-41eb-9c56-16e88c9e446f",
   "metadata": {
    "tags": []
   },
   "outputs": [
    {
     "data": {
      "text/html": [
       "<div>\n",
       "<style scoped>\n",
       "    .dataframe tbody tr th:only-of-type {\n",
       "        vertical-align: middle;\n",
       "    }\n",
       "\n",
       "    .dataframe tbody tr th {\n",
       "        vertical-align: top;\n",
       "    }\n",
       "\n",
       "    .dataframe thead th {\n",
       "        text-align: right;\n",
       "    }\n",
       "</style>\n",
       "<table border=\"1\" class=\"dataframe\">\n",
       "  <thead>\n",
       "    <tr style=\"text-align: right;\">\n",
       "      <th></th>\n",
       "      <th>SmallCap</th>\n",
       "      <th>LargeCap</th>\n",
       "    </tr>\n",
       "  </thead>\n",
       "  <tbody>\n",
       "    <tr>\n",
       "      <th>192607</th>\n",
       "      <td>-0.0142</td>\n",
       "      <td>0.0348</td>\n",
       "    </tr>\n",
       "    <tr>\n",
       "      <th>192608</th>\n",
       "      <td>0.0461</td>\n",
       "      <td>0.0352</td>\n",
       "    </tr>\n",
       "    <tr>\n",
       "      <th>192609</th>\n",
       "      <td>0.0091</td>\n",
       "      <td>0.0068</td>\n",
       "    </tr>\n",
       "  </tbody>\n",
       "</table>\n",
       "</div>"
      ],
      "text/plain": [
       "        SmallCap  LargeCap\n",
       "192607   -0.0142    0.0348\n",
       "192608    0.0461    0.0352\n",
       "192609    0.0091    0.0068"
      ]
     },
     "execution_count": 30,
     "metadata": {},
     "output_type": "execute_result"
    }
   ],
   "source": [
    "# 1. Construct a wealth index: take the price time series and compute the value of buy-and-hold investment over time\n",
    "returns.head(3)"
   ]
  },
  {
   "cell_type": "code",
   "execution_count": 31,
   "id": "cbca8a50-7006-40fc-b789-004053f174d2",
   "metadata": {
    "tags": []
   },
   "outputs": [
    {
     "data": {
      "text/plain": [
       "Index([192607, 192608, 192609, 192610, 192611, 192612, 192701, 192702, 192703,\n",
       "       192704,\n",
       "       ...\n",
       "       202102, 202103, 202104, 202105, 202106, 202107, 202108, 202109, 202110,\n",
       "       202111],\n",
       "      dtype='int64', length=1145)"
      ]
     },
     "execution_count": 31,
     "metadata": {},
     "output_type": "execute_result"
    }
   ],
   "source": [
    "returns.index"
   ]
  },
  {
   "cell_type": "code",
   "execution_count": 32,
   "id": "2ebdc374-615d-41e8-9b8d-4cd8335586c7",
   "metadata": {
    "tags": []
   },
   "outputs": [
    {
     "data": {
      "text/plain": [
       "PeriodIndex(['1926-07', '1926-08', '1926-09', '1926-10', '1926-11', '1926-12',\n",
       "             '1927-01', '1927-02', '1927-03', '1927-04',\n",
       "             ...\n",
       "             '2021-02', '2021-03', '2021-04', '2021-05', '2021-06', '2021-07',\n",
       "             '2021-08', '2021-09', '2021-10', '2021-11'],\n",
       "            dtype='period[M]', length=1145)"
      ]
     },
     "execution_count": 32,
     "metadata": {},
     "output_type": "execute_result"
    }
   ],
   "source": [
    "returns.index = pd.to_datetime(returns.index, format='%Y%m').to_period('M')\n",
    "returns.index"
   ]
  },
  {
   "cell_type": "code",
   "execution_count": 33,
   "id": "a3e5189f-84b3-47a8-889d-f54a0334db66",
   "metadata": {
    "tags": []
   },
   "outputs": [
    {
     "data": {
      "text/html": [
       "<div>\n",
       "<style scoped>\n",
       "    .dataframe tbody tr th:only-of-type {\n",
       "        vertical-align: middle;\n",
       "    }\n",
       "\n",
       "    .dataframe tbody tr th {\n",
       "        vertical-align: top;\n",
       "    }\n",
       "\n",
       "    .dataframe thead th {\n",
       "        text-align: right;\n",
       "    }\n",
       "</style>\n",
       "<table border=\"1\" class=\"dataframe\">\n",
       "  <thead>\n",
       "    <tr style=\"text-align: right;\">\n",
       "      <th></th>\n",
       "      <th>SmallCap</th>\n",
       "      <th>LargeCap</th>\n",
       "    </tr>\n",
       "  </thead>\n",
       "  <tbody>\n",
       "    <tr>\n",
       "      <th>1926-07</th>\n",
       "      <td>-0.0142</td>\n",
       "      <td>0.0348</td>\n",
       "    </tr>\n",
       "    <tr>\n",
       "      <th>1926-08</th>\n",
       "      <td>0.0461</td>\n",
       "      <td>0.0352</td>\n",
       "    </tr>\n",
       "    <tr>\n",
       "      <th>1926-09</th>\n",
       "      <td>0.0091</td>\n",
       "      <td>0.0068</td>\n",
       "    </tr>\n",
       "  </tbody>\n",
       "</table>\n",
       "</div>"
      ],
      "text/plain": [
       "         SmallCap  LargeCap\n",
       "1926-07   -0.0142    0.0348\n",
       "1926-08    0.0461    0.0352\n",
       "1926-09    0.0091    0.0068"
      ]
     },
     "execution_count": 33,
     "metadata": {},
     "output_type": "execute_result"
    }
   ],
   "source": [
    "returns.head(3)"
   ]
  },
  {
   "cell_type": "code",
   "execution_count": 34,
   "id": "f07914c0-9cdb-45b2-b210-42d5bb66ece8",
   "metadata": {
    "tags": []
   },
   "outputs": [
    {
     "data": {
      "text/plain": [
       "<Axes: title={'center': 'Wealth Index for Large Cap'}>"
      ]
     },
     "execution_count": 34,
     "metadata": {},
     "output_type": "execute_result"
    },
    {
     "data": {
      "image/png": "[encoded data removed]",
      "text/plain": [
       "<Figure size 640x480 with 1 Axes>"
      ]
     },
     "metadata": {},
     "output_type": "display_data"
    }
   ],
   "source": [
    "wealth = (1+returns['LargeCap']).cumprod()   # wealth index: the cumulative product of the returns during the period\n",
    "wealth['1980':].plot(title= \"Wealth Index for Large Cap\")"
   ]
  },
  {
   "cell_type": "code",
   "execution_count": 35,
   "id": "04fab674-793a-4d81-a0de-6f33091d7707",
   "metadata": {
    "tags": []
   },
   "outputs": [
    {
     "data": {
      "text/plain": [
       "<Axes: title={'center': 'Historical Peak for Large Cap'}>"
      ]
     },
     "execution_count": 35,
     "metadata": {},
     "output_type": "execute_result"
    },
    {
     "data": {
      "image/png": "[encoded data removed]",
      "text/plain": [
       "<Figure size 640x480 with 1 Axes>"
      ]
     },
     "metadata": {},
     "output_type": "display_data"
    }
   ],
   "source": [
    "lastpeak = wealth.cummax()\n",
    "lastpeak['1980':].plot(title=\"Historical Peak for Large Cap\")"
   ]
  },
  {
   "cell_type": "code",
   "execution_count": 36,
   "id": "240bcca2-f460-4ff9-9c12-05e42c89d1f8",
   "metadata": {
    "tags": []
   },
   "outputs": [
    {
     "data": {
      "text/plain": [
       "<Axes: title={'center': 'Drawdown for Large Cap'}>"
      ]
     },
     "execution_count": 36,
     "metadata": {},
     "output_type": "execute_result"
    },
    {
     "data": {
      "image/png": "[encoded data removed]",
      "text/plain": [
       "<Figure size 640x480 with 1 Axes>"
      ]
     },
     "metadata": {},
     "output_type": "display_data"
    }
   ],
   "source": [
    "#Drawdown= Wealth -Peak (percentage of the wealth)\n",
    "drawdown = (wealth - lastpeak)/lastpeak\n",
    "drawdown['1980':].plot(title=\"Drawdown for Large Cap\")"
   ]
  },
  {
   "cell_type": "code",
   "execution_count": 37,
   "id": "aded9bd0-4eac-4095-a468-6a615e76c222",
   "metadata": {
    "tags": []
   },
   "outputs": [
    {
     "data": {
      "text/plain": [
       "-0.5258438484161783"
      ]
     },
     "execution_count": 37,
     "metadata": {},
     "output_type": "execute_result"
    }
   ],
   "source": [
    "drawdown['1980':].min()"
   ]
  },
  {
   "cell_type": "code",
   "execution_count": 38,
   "id": "b0c58351-be4a-4068-9664-27a5aa3ad6f4",
   "metadata": {
    "tags": []
   },
   "outputs": [
    {
     "data": {
      "text/plain": [
       "Period('2009-02', 'M')"
      ]
     },
     "execution_count": 38,
     "metadata": {},
     "output_type": "execute_result"
    }
   ],
   "source": [
    "drawdown['1980':].idxmin()  #the index associated with the min value"
   ]
  },
  {
   "cell_type": "code",
   "execution_count": 40,
   "id": "a47bdd3b-7d23-44c8-828b-8d79f7bba189",
   "metadata": {
    "tags": []
   },
   "outputs": [
    {
     "data": {
      "text/plain": [
       "Period('1932-05', 'M')"
      ]
     },
     "execution_count": 40,
     "metadata": {},
     "output_type": "execute_result"
    }
   ],
   "source": [
    "drawdown.idxmin()  #the great depression 1932(whole data max drawdown)"
   ]
  },
  {
   "cell_type": "code",
   "execution_count": null,
   "id": "5ceefd4f-b2d8-4811-b1f5-9b54b9c85ca3",
   "metadata": {},
   "outputs": [],
   "source": []
  }
 ],
 "metadata": {
  "kernelspec": {
   "display_name": "Python 3 (ipykernel)",
   "language": "python",
   "name": "python3"
  },
  "language_info": {
   "codemirror_mode": {
    "name": "ipython",
    "version": 3
   },
   "file_extension": ".py",
   "mimetype": "text/x-python",
   "name": "python",
   "nbconvert_exporter": "python",
   "pygments_lexer": "ipython3",
   "version": "3.11.9"
  }
 },
 "nbformat": 4,
 "nbformat_minor": 5
}
