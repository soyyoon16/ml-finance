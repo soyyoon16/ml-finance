{
 "cells": [
  {
   "cell_type": "markdown",
   "id": "7d70b79b-a31d-4eb7-bd78-e2e2e526e88a",
   "metadata": {},
   "source": [
    "## Multi-Asset Efficient Frontier Analysis:"
   ]
  },
  {
   "cell_type": "code",
   "execution_count": 1,
   "id": "14025b15-8bfa-4f9a-86de-68a64534f3e1",
   "metadata": {
    "tags": []
   },
   "outputs": [],
   "source": [
    "import numpy as np\n",
    "import pandas as pd\n",
    "import scipy.stats as scs  "
   ]
  },
  {
   "cell_type": "code",
   "execution_count": 2,
   "id": "23a2ac3b-d66a-44da-bb40-ea0a0ca1c25b",
   "metadata": {
    "tags": []
   },
   "outputs": [],
   "source": [
    "ret = pd.read_csv(\"data/IndustryPortfolios.xlsx.csv\",\n",
    "                 header=0, index_col=0)/100   #percentage to decimals right away\n",
    "ret.index=pd.to_datetime(ret.index,format=\"%Y%m\").to_period(\"m\")\n",
    "ret.columns=ret.columns.str.strip()"
   ]
  },
  {
   "cell_type": "code",
   "execution_count": 3,
   "id": "8b08e0de-bfab-4c88-aabd-a5a0209f160e",
   "metadata": {
    "tags": []
   },
   "outputs": [],
   "source": [
    "n_years=ret[\"2002\":].shape[0]/12 #number of months/12\n",
    "eret=((1+ret[\"2002\":]).prod())**(1/n_years)-1 #annualized expected returns\n",
    "cov=ret[\"2002\":].cov()*12 #.cov() covariance matrix monthly*12--> annualized covariance\n"
   ]
  },
  {
   "cell_type": "code",
   "execution_count": 4,
   "id": "a60b0bc6-389c-46d5-b8a3-8efc81c6c076",
   "metadata": {
    "tags": []
   },
   "outputs": [
    {
     "data": {
      "text/html": [
       "<div>\n",
       "<style scoped>\n",
       "    .dataframe tbody tr th:only-of-type {\n",
       "        vertical-align: middle;\n",
       "    }\n",
       "\n",
       "    .dataframe tbody tr th {\n",
       "        vertical-align: top;\n",
       "    }\n",
       "\n",
       "    .dataframe thead th {\n",
       "        text-align: right;\n",
       "    }\n",
       "</style>\n",
       "<table border=\"1\" class=\"dataframe\">\n",
       "  <thead>\n",
       "    <tr style=\"text-align: right;\">\n",
       "      <th></th>\n",
       "      <th>Food</th>\n",
       "      <th>Soda</th>\n",
       "      <th>Toys</th>\n",
       "      <th>Fun</th>\n",
       "      <th>Books</th>\n",
       "      <th>Clths</th>\n",
       "      <th>Rtail</th>\n",
       "      <th>Fin</th>\n",
       "      <th>Gold</th>\n",
       "      <th>Comps</th>\n",
       "    </tr>\n",
       "  </thead>\n",
       "  <tbody>\n",
       "    <tr>\n",
       "      <th>Food</th>\n",
       "      <td>0.015987</td>\n",
       "      <td>0.014128</td>\n",
       "      <td>0.015303</td>\n",
       "      <td>0.017767</td>\n",
       "      <td>0.015322</td>\n",
       "      <td>0.014606</td>\n",
       "      <td>0.011485</td>\n",
       "      <td>0.015126</td>\n",
       "      <td>0.006392</td>\n",
       "      <td>0.013886</td>\n",
       "    </tr>\n",
       "    <tr>\n",
       "      <th>Soda</th>\n",
       "      <td>0.014128</td>\n",
       "      <td>0.039114</td>\n",
       "      <td>0.021884</td>\n",
       "      <td>0.028954</td>\n",
       "      <td>0.022458</td>\n",
       "      <td>0.022966</td>\n",
       "      <td>0.015746</td>\n",
       "      <td>0.021919</td>\n",
       "      <td>0.006744</td>\n",
       "      <td>0.019251</td>\n",
       "    </tr>\n",
       "    <tr>\n",
       "      <th>Toys</th>\n",
       "      <td>0.015303</td>\n",
       "      <td>0.021884</td>\n",
       "      <td>0.062910</td>\n",
       "      <td>0.045793</td>\n",
       "      <td>0.035725</td>\n",
       "      <td>0.038446</td>\n",
       "      <td>0.027974</td>\n",
       "      <td>0.037835</td>\n",
       "      <td>0.015421</td>\n",
       "      <td>0.032587</td>\n",
       "    </tr>\n",
       "    <tr>\n",
       "      <th>Fun</th>\n",
       "      <td>0.017767</td>\n",
       "      <td>0.028954</td>\n",
       "      <td>0.045793</td>\n",
       "      <td>0.084375</td>\n",
       "      <td>0.046380</td>\n",
       "      <td>0.045188</td>\n",
       "      <td>0.033750</td>\n",
       "      <td>0.048267</td>\n",
       "      <td>0.014153</td>\n",
       "      <td>0.042959</td>\n",
       "    </tr>\n",
       "    <tr>\n",
       "      <th>Books</th>\n",
       "      <td>0.015322</td>\n",
       "      <td>0.022458</td>\n",
       "      <td>0.035725</td>\n",
       "      <td>0.046380</td>\n",
       "      <td>0.049721</td>\n",
       "      <td>0.033768</td>\n",
       "      <td>0.024613</td>\n",
       "      <td>0.037471</td>\n",
       "      <td>0.010102</td>\n",
       "      <td>0.031242</td>\n",
       "    </tr>\n",
       "    <tr>\n",
       "      <th>Clths</th>\n",
       "      <td>0.014606</td>\n",
       "      <td>0.022966</td>\n",
       "      <td>0.038446</td>\n",
       "      <td>0.045188</td>\n",
       "      <td>0.033768</td>\n",
       "      <td>0.048098</td>\n",
       "      <td>0.027810</td>\n",
       "      <td>0.035096</td>\n",
       "      <td>0.006429</td>\n",
       "      <td>0.031651</td>\n",
       "    </tr>\n",
       "    <tr>\n",
       "      <th>Rtail</th>\n",
       "      <td>0.011485</td>\n",
       "      <td>0.015746</td>\n",
       "      <td>0.027974</td>\n",
       "      <td>0.033750</td>\n",
       "      <td>0.024613</td>\n",
       "      <td>0.027810</td>\n",
       "      <td>0.028192</td>\n",
       "      <td>0.027015</td>\n",
       "      <td>0.006865</td>\n",
       "      <td>0.024816</td>\n",
       "    </tr>\n",
       "    <tr>\n",
       "      <th>Fin</th>\n",
       "      <td>0.015126</td>\n",
       "      <td>0.021919</td>\n",
       "      <td>0.037835</td>\n",
       "      <td>0.048267</td>\n",
       "      <td>0.037471</td>\n",
       "      <td>0.035096</td>\n",
       "      <td>0.027015</td>\n",
       "      <td>0.052521</td>\n",
       "      <td>0.010013</td>\n",
       "      <td>0.037811</td>\n",
       "    </tr>\n",
       "    <tr>\n",
       "      <th>Gold</th>\n",
       "      <td>0.006392</td>\n",
       "      <td>0.006744</td>\n",
       "      <td>0.015421</td>\n",
       "      <td>0.014153</td>\n",
       "      <td>0.010102</td>\n",
       "      <td>0.006429</td>\n",
       "      <td>0.006865</td>\n",
       "      <td>0.010013</td>\n",
       "      <td>0.129780</td>\n",
       "      <td>0.008896</td>\n",
       "    </tr>\n",
       "    <tr>\n",
       "      <th>Comps</th>\n",
       "      <td>0.013886</td>\n",
       "      <td>0.019251</td>\n",
       "      <td>0.032587</td>\n",
       "      <td>0.042959</td>\n",
       "      <td>0.031242</td>\n",
       "      <td>0.031651</td>\n",
       "      <td>0.024816</td>\n",
       "      <td>0.037811</td>\n",
       "      <td>0.008896</td>\n",
       "      <td>0.048790</td>\n",
       "    </tr>\n",
       "  </tbody>\n",
       "</table>\n",
       "</div>"
      ],
      "text/plain": [
       "           Food      Soda      Toys       Fun     Books     Clths     Rtail  \\\n",
       "Food   0.015987  0.014128  0.015303  0.017767  0.015322  0.014606  0.011485   \n",
       "Soda   0.014128  0.039114  0.021884  0.028954  0.022458  0.022966  0.015746   \n",
       "Toys   0.015303  0.021884  0.062910  0.045793  0.035725  0.038446  0.027974   \n",
       "Fun    0.017767  0.028954  0.045793  0.084375  0.046380  0.045188  0.033750   \n",
       "Books  0.015322  0.022458  0.035725  0.046380  0.049721  0.033768  0.024613   \n",
       "Clths  0.014606  0.022966  0.038446  0.045188  0.033768  0.048098  0.027810   \n",
       "Rtail  0.011485  0.015746  0.027974  0.033750  0.024613  0.027810  0.028192   \n",
       "Fin    0.015126  0.021919  0.037835  0.048267  0.037471  0.035096  0.027015   \n",
       "Gold   0.006392  0.006744  0.015421  0.014153  0.010102  0.006429  0.006865   \n",
       "Comps  0.013886  0.019251  0.032587  0.042959  0.031242  0.031651  0.024816   \n",
       "\n",
       "            Fin      Gold     Comps  \n",
       "Food   0.015126  0.006392  0.013886  \n",
       "Soda   0.021919  0.006744  0.019251  \n",
       "Toys   0.037835  0.015421  0.032587  \n",
       "Fun    0.048267  0.014153  0.042959  \n",
       "Books  0.037471  0.010102  0.031242  \n",
       "Clths  0.035096  0.006429  0.031651  \n",
       "Rtail  0.027015  0.006865  0.024816  \n",
       "Fin    0.052521  0.010013  0.037811  \n",
       "Gold   0.010013  0.129780  0.008896  \n",
       "Comps  0.037811  0.008896  0.048790  "
      ]
     },
     "execution_count": 4,
     "metadata": {},
     "output_type": "execute_result"
    }
   ],
   "source": [
    "l=[\"Food\",\"Soda\",\"Toys\",\"Fun\",\"Books\",\"Clths\",\"Rtail\",\"Fin\",\"Gold\",\"Comps\"]\n",
    "eret[l]\n",
    "cov.loc[l,l]"
   ]
  },
  {
   "cell_type": "code",
   "execution_count": 5,
   "id": "adeb4b03-2f99-47f7-822c-7a269c3137ba",
   "metadata": {
    "tags": []
   },
   "outputs": [],
   "source": [
    "#build functions for portfolio returns and portfolio volatility\n",
    "def portfolio_ret(weights, returns):\n",
    "    return weights.T@returns    "
   ]
  },
  {
   "cell_type": "code",
   "execution_count": 6,
   "id": "83b6c60d-a3e2-4e51-93ca-1410cebdc5e0",
   "metadata": {
    "tags": []
   },
   "outputs": [],
   "source": [
    "def portfolio_vol(weights,covmat):\n",
    "    return (weights.T@covmat@weights)**.5 #or use np.sqrt()"
   ]
  },
  {
   "cell_type": "code",
   "execution_count": 7,
   "id": "7919f275-d87a-46c4-916f-d8ffc587372d",
   "metadata": {
    "tags": []
   },
   "outputs": [],
   "source": [
    "from scipy.optimize import minimize"
   ]
  },
  {
   "cell_type": "code",
   "execution_count": 8,
   "id": "07644ee8-eaa6-4e24-b88f-061dd82490f6",
   "metadata": {
    "tags": []
   },
   "outputs": [],
   "source": [
    "def minimize_vol(target_return,ereturns,covmat):\n",
    "    \"\"\"\n",
    "    target return--> weights in a minimum-variance portfolio that generates target return\n",
    "    \"\"\"\n",
    "    n=ereturns.shape[0] #number of assets\n",
    "    init_values=np.repeat(1/n,n) #an array of numbers\n",
    "    \n",
    "    bounds=((0,1),)*n  #an array on n elements(tuples)  0<each weights<1\n",
    "    \n",
    "    #Constraints:\n",
    "    weights_sum_to_1={'type':'eq',\n",
    "                     'fun':lambda weights:np.sum(weights)-1}\n",
    "    return_is_target={'type':'eq',\n",
    "                     'args':(ereturns,),\n",
    "                     'fun':lambda weights,ereturns: portfolio_ret(weights,ereturns)-target_return}\n",
    "    \n",
    "    results=minimize(portfolio_vol,\n",
    "                    init_values,\n",
    "                    args=(covmat),\n",
    "                    method='SLSQP',   #Sequential least Squares of quadratic problems?\n",
    "                    bounds=bounds,\n",
    "                    constraints=(weights_sum_to_1,return_is_target),\n",
    "                    options={'disp':False}) \n",
    "    weights=results.x  #The solution(output)\n",
    "    return weights\n",
    "    "
   ]
  },
  {
   "cell_type": "code",
   "execution_count": 9,
   "id": "fccf900c-a2ba-417e-af51-575396874a3e",
   "metadata": {
    "tags": []
   },
   "outputs": [
    {
     "data": {
      "text/plain": [
       "array([4.39539893e-17, 4.20839404e-01, 0.00000000e+00, 0.00000000e+00,\n",
       "       0.00000000e+00, 5.06267367e-01, 7.28932287e-02, 9.28301722e-17,\n",
       "       2.08406124e-16, 0.00000000e+00])"
      ]
     },
     "execution_count": 9,
     "metadata": {},
     "output_type": "execute_result"
    }
   ],
   "source": [
    "w11=minimize_vol(0.11,eret[l],cov.loc[l,l])\n",
    "w11"
   ]
  },
  {
   "cell_type": "code",
   "execution_count": 10,
   "id": "2bc97610-93ff-4c56-bcfa-eb99b0c50060",
   "metadata": {
    "tags": []
   },
   "outputs": [
    {
     "data": {
      "text/plain": [
       "0.10999999998106653"
      ]
     },
     "execution_count": 10,
     "metadata": {},
     "output_type": "execute_result"
    }
   ],
   "source": [
    "portfolio_ret(w11,eret[l])"
   ]
  },
  {
   "cell_type": "code",
   "execution_count": 11,
   "id": "8c6f153c-1fa6-48df-b8f5-84b6e9de23fb",
   "metadata": {
    "tags": []
   },
   "outputs": [
    {
     "data": {
      "text/plain": [
       "0.17947022261634613"
      ]
     },
     "execution_count": 11,
     "metadata": {},
     "output_type": "execute_result"
    }
   ],
   "source": [
    "portfolio_vol(w11,cov.loc[l,l])"
   ]
  },
  {
   "cell_type": "code",
   "execution_count": 12,
   "id": "965eacbc-beba-4c4f-a5db-a78d55be9fe2",
   "metadata": {
    "tags": []
   },
   "outputs": [],
   "source": [
    "def optimal_weights(n_points,ereturns,covmat):\n",
    "    \"\"\"\n",
    "    takes expected returns and vols + # of gridpoints--> weights of the efficient frontier portfolio\n",
    "    \"\"\"\n",
    "    target_returns=np.linspace(ereturns.min(),ereturns.max(),n_points)\n",
    "    optimal_weights=[minimize_vol(tr,ereturns,covmat) for tr in target_returns]\n",
    "    \n",
    "    return optimal_weights"
   ]
  },
  {
   "cell_type": "code",
   "execution_count": 13,
   "id": "dba0a88b-07a6-4686-a102-c7c95f987805",
   "metadata": {
    "tags": []
   },
   "outputs": [
    {
     "data": {
      "text/plain": [
       "<Axes: xlabel='V'>"
      ]
     },
     "execution_count": 13,
     "metadata": {},
     "output_type": "execute_result"
    },
    {
     "data": {
      "image/png": "[encoded data removed]",
      "text/plain": [
       "<Figure size 640x480 with 1 Axes>"
      ]
     },
     "metadata": {},
     "output_type": "display_data"
    }
   ],
   "source": [
    "efweights=optimal_weights(50,eret[l],cov.loc[l,l])\n",
    "pret=[portfolio_ret(w,eret[l]) for w in efweights]\n",
    "pvol=[portfolio_vol(w,cov.loc[l,l]) for w in efweights]\n",
    "\n",
    "ef=pd.DataFrame({\"R\": pret,\n",
    "               \"V\": pvol})\n",
    "ef.plot.line(x=\"V\",y=\"R\",style=\".-\")"
   ]
  },
  {
   "cell_type": "code",
   "execution_count": 26,
   "id": "b36216d0-2b2c-463f-b7a5-314a25c5678b",
   "metadata": {},
   "outputs": [],
   "source": [
    "#ef.sort_values(by='R')\n",
    "#ef.sort_values(by='V')"
   ]
  },
  {
   "cell_type": "markdown",
   "id": "6e6b7c1e-008c-42b1-a91f-b223aa9c42e4",
   "metadata": {},
   "source": [
    "## Global Minimum Variance Portfolio: "
   ]
  },
  {
   "cell_type": "code",
   "execution_count": 32,
   "id": "c5282f76-ddb5-458a-9b69-1436b6407f85",
   "metadata": {
    "tags": []
   },
   "outputs": [],
   "source": [
    "def gmv(ereturns, covmat):\n",
    "    \"\"\"\n",
    "    Optimal weights for the GMV portfolio.\n",
    "    \"\"\"\n",
    "    n = ereturns.shape[0]  # Number of assets\n",
    "    init_values = np.repeat(1/n, n)  # Initial guess for weights\n",
    "    \n",
    "    bounds = ((0, 1),) * n  # Bounds for weights (0 <= weight <= 1 for each asset)\n",
    "    \n",
    "    # Constraint: Weights sum to 1\n",
    "    weights_sum_to_1 = {'type': 'eq',\n",
    "                        'fun': lambda weights: np.sum(weights) - 1}\n",
    "  \n",
    "    # Perform optimization\n",
    "    results = minimize(portfolio_vol, \n",
    "                       init_values, \n",
    "                       args=(covmat),\n",
    "                       method='SLSQP', \n",
    "                       bounds=bounds, \n",
    "                       constraints=[weights_sum_to_1],\n",
    "                       options={'disp': False})\n",
    "    \n",
    "    weights = results.x  # Extract optimal weights\n",
    "    \n",
    "    return weights"
   ]
  },
  {
   "cell_type": "code",
   "execution_count": 33,
   "id": "b4358d3e-c884-447c-bcb8-adbdfbfacd14",
   "metadata": {
    "tags": []
   },
   "outputs": [
    {
     "data": {
      "text/plain": [
       "array([7.23461694e-01, 2.00360752e-02, 3.57786717e-18, 0.00000000e+00,\n",
       "       9.43255890e-18, 3.68628739e-18, 1.90960997e-01, 4.11996826e-18,\n",
       "       6.55412338e-02, 0.00000000e+00])"
      ]
     },
     "execution_count": 33,
     "metadata": {},
     "output_type": "execute_result"
    }
   ],
   "source": [
    "GMV_weights=gmv(eret[l],cov.loc[l,l])\n",
    "GMV_weights"
   ]
  },
  {
   "cell_type": "code",
   "execution_count": 34,
   "id": "275fae98-9b36-454d-9c21-d83ba33c20fe",
   "metadata": {
    "tags": []
   },
   "outputs": [
    {
     "data": {
      "text/plain": [
       "0.08067297224187908"
      ]
     },
     "execution_count": 34,
     "metadata": {},
     "output_type": "execute_result"
    }
   ],
   "source": [
    "portfolio_ret(GMV_weights,eret[l])"
   ]
  },
  {
   "cell_type": "code",
   "execution_count": 35,
   "id": "8ceb8196-a8d1-429a-9f24-8ed3df83d119",
   "metadata": {
    "tags": []
   },
   "outputs": [
    {
     "data": {
      "text/plain": [
       "0.12028300488985476"
      ]
     },
     "execution_count": 35,
     "metadata": {},
     "output_type": "execute_result"
    }
   ],
   "source": [
    "portfolio_vol(GMV_weights,cov.loc[l,l])"
   ]
  },
  {
   "cell_type": "markdown",
   "id": "0c49e097-60df-4465-8f68-8f11154bd8ad",
   "metadata": {},
   "source": [
    "## Maximum Sharpe Ratio Portfolio: "
   ]
  },
  {
   "cell_type": "code",
   "execution_count": 49,
   "id": "bc76ae74-264e-4aee-a0d8-905999d0f53b",
   "metadata": {
    "tags": []
   },
   "outputs": [],
   "source": [
    "# -Sharpe ratio function\n",
    "def negative_sharpe_ratio(weights, ereturns, covmat,risk_free_rate):\n",
    "    portfolio_return = portfolio_ret(weights, ereturns)\n",
    "    portfolio_volatility = portfolio_vol(weights, covmat)\n",
    "    sharpe_ratio = (portfolio_return - risk_free_rate) / portfolio_volatility\n",
    "    return -sharpe_ratio"
   ]
  },
  {
   "cell_type": "code",
   "execution_count": 50,
   "id": "3da0b6e6-9f82-45c5-b3a4-27ff0fa19fd3",
   "metadata": {
    "tags": []
   },
   "outputs": [],
   "source": [
    "def msr(ereturns, covmat, risk_free_rate):\n",
    "    \"\"\"\n",
    "    Weights for the MSR portfolio.\n",
    "    \"\"\"\n",
    "    n = ereturns.shape[0]  # Number of assets\n",
    "    init_values = np.repeat(1/n, n)  # Initial guess for weights\n",
    "    \n",
    "    bounds = ((0, 1),) * n  # Bounds for weights (0 <= weight <= 1 for each asset)\n",
    "    \n",
    "    # Constraint: Weights sum to 1\n",
    "    weights_sum_to_1 = {'type': 'eq',\n",
    "                        'fun': lambda weights: np.sum(weights) - 1}\n",
    "      \n",
    "    # Perform optimization\n",
    "    results = minimize(negative_sharpe_ratio,\n",
    "                       init_values,\n",
    "                       args=(ereturns, covmat, risk_free_rate),\n",
    "                       method='SLSQP', \n",
    "                       bounds=bounds, \n",
    "                       constraints=[weights_sum_to_1],\n",
    "                       options={'disp': False})\n",
    "    \n",
    "    weights = results.x  # Extract optimal weights\n",
    "    \n",
    "    return weights"
   ]
  },
  {
   "cell_type": "code",
   "execution_count": 51,
   "id": "dc9489e6-5ace-410a-97a7-19907be65d9b",
   "metadata": {
    "tags": []
   },
   "outputs": [
    {
     "data": {
      "text/plain": [
       "array([2.41998395e-01, 2.80719895e-01, 0.00000000e+00, 0.00000000e+00,\n",
       "       0.00000000e+00, 9.85872582e-04, 4.76295837e-01, 0.00000000e+00,\n",
       "       0.00000000e+00, 7.58507840e-16])"
      ]
     },
     "execution_count": 51,
     "metadata": {},
     "output_type": "execute_result"
    }
   ],
   "source": [
    "#Assuming that the risk-free rate is 3%\n",
    "rf=0.03\n",
    "MSR_weights=msr(eret[l],cov.loc[l,l],rf)\n",
    "MSR_weights"
   ]
  },
  {
   "cell_type": "code",
   "execution_count": 52,
   "id": "19cab5f5-3b2f-4a91-aa2b-b0af9860c7c7",
   "metadata": {
    "tags": []
   },
   "outputs": [
    {
     "data": {
      "text/plain": [
       "0.09835506266204155"
      ]
     },
     "execution_count": 52,
     "metadata": {},
     "output_type": "execute_result"
    }
   ],
   "source": [
    "portfolio_ret(MSR_weights,eret[l])"
   ]
  },
  {
   "cell_type": "code",
   "execution_count": 53,
   "id": "ed534163-447d-44b5-9bc8-787e12728c0f",
   "metadata": {
    "tags": []
   },
   "outputs": [
    {
     "data": {
      "text/plain": [
       "0.13870073845670564"
      ]
     },
     "execution_count": 53,
     "metadata": {},
     "output_type": "execute_result"
    }
   ],
   "source": [
    "portfolio_vol(MSR_weights,cov.loc[l,l])"
   ]
  },
  {
   "cell_type": "code",
   "execution_count": null,
   "id": "dfbb382b-217b-4385-9474-1e682bc3932b",
   "metadata": {},
   "outputs": [],
   "source": []
  }
 ],
 "metadata": {
  "kernelspec": {
   "display_name": "Python 3 (ipykernel)",
   "language": "python",
   "name": "python3"
  },
  "language_info": {
   "codemirror_mode": {
    "name": "ipython",
    "version": 3
   },
   "file_extension": ".py",
   "mimetype": "text/x-python",
   "name": "python",
   "nbconvert_exporter": "python",
   "pygments_lexer": "ipython3",
   "version": "3.11.9"
  }
 },
 "nbformat": 4,
 "nbformat_minor": 5
}
