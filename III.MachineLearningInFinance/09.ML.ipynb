{
 "cells": [
  {
   "cell_type": "markdown",
   "id": "23c2d92c-f8e6-412c-a51c-ecef78c62871",
   "metadata": {},
   "source": [
    "# 9. Intro to ML in Finance "
   ]
  },
  {
   "cell_type": "code",
   "execution_count": 1,
   "id": "259f69c0-5147-4b3b-a86b-f13c6fd5c081",
   "metadata": {
    "tags": []
   },
   "outputs": [],
   "source": [
    "import pandas as pd\n",
    "import numpy as np"
   ]
  },
  {
   "cell_type": "code",
   "execution_count": 2,
   "id": "fd508012-7811-4971-bd16-85be043fa136",
   "metadata": {
    "tags": []
   },
   "outputs": [
    {
     "data": {
      "text/html": [
       "<div>\n",
       "<style scoped>\n",
       "    .dataframe tbody tr th:only-of-type {\n",
       "        vertical-align: middle;\n",
       "    }\n",
       "\n",
       "    .dataframe tbody tr th {\n",
       "        vertical-align: top;\n",
       "    }\n",
       "\n",
       "    .dataframe thead th {\n",
       "        text-align: right;\n",
       "    }\n",
       "</style>\n",
       "<table border=\"1\" class=\"dataframe\">\n",
       "  <thead>\n",
       "    <tr style=\"text-align: right;\">\n",
       "      <th></th>\n",
       "      <th>total_bill</th>\n",
       "      <th>tip</th>\n",
       "      <th>sex</th>\n",
       "      <th>smoker</th>\n",
       "      <th>day</th>\n",
       "      <th>time</th>\n",
       "      <th>size</th>\n",
       "    </tr>\n",
       "  </thead>\n",
       "  <tbody>\n",
       "    <tr>\n",
       "      <th>0</th>\n",
       "      <td>16.99</td>\n",
       "      <td>1.01</td>\n",
       "      <td>Female</td>\n",
       "      <td>No</td>\n",
       "      <td>Sun</td>\n",
       "      <td>Dinner</td>\n",
       "      <td>2</td>\n",
       "    </tr>\n",
       "    <tr>\n",
       "      <th>1</th>\n",
       "      <td>10.34</td>\n",
       "      <td>1.66</td>\n",
       "      <td>Male</td>\n",
       "      <td>No</td>\n",
       "      <td>Sun</td>\n",
       "      <td>Dinner</td>\n",
       "      <td>3</td>\n",
       "    </tr>\n",
       "    <tr>\n",
       "      <th>2</th>\n",
       "      <td>21.01</td>\n",
       "      <td>3.50</td>\n",
       "      <td>Male</td>\n",
       "      <td>No</td>\n",
       "      <td>Sun</td>\n",
       "      <td>Dinner</td>\n",
       "      <td>3</td>\n",
       "    </tr>\n",
       "  </tbody>\n",
       "</table>\n",
       "</div>"
      ],
      "text/plain": [
       "   total_bill   tip     sex smoker  day    time  size\n",
       "0       16.99  1.01  Female     No  Sun  Dinner     2\n",
       "1       10.34  1.66    Male     No  Sun  Dinner     3\n",
       "2       21.01  3.50    Male     No  Sun  Dinner     3"
      ]
     },
     "execution_count": 2,
     "metadata": {},
     "output_type": "execute_result"
    }
   ],
   "source": [
    "tdf = pd.read_csv(\"data/data9_tips.csv\")\n",
    "tdf.head(3)"
   ]
  },
  {
   "cell_type": "code",
   "execution_count": 3,
   "id": "7b1e4f1c-c368-4e37-a170-bf91b183d3f1",
   "metadata": {
    "tags": []
   },
   "outputs": [],
   "source": [
    "import patsy as pts\n",
    "#y & x are 2 seperate dataframes\n",
    "y, x = pts.dmatrices('tip ~ total_bill + size + C(time)', data=tdf, return_type='dataframe')"
   ]
  },
  {
   "cell_type": "code",
   "execution_count": 4,
   "id": "30953e76-9b53-4cbe-a24b-2bae7b0161d8",
   "metadata": {
    "tags": []
   },
   "outputs": [
    {
     "data": {
      "text/html": [
       "<div>\n",
       "<style scoped>\n",
       "    .dataframe tbody tr th:only-of-type {\n",
       "        vertical-align: middle;\n",
       "    }\n",
       "\n",
       "    .dataframe tbody tr th {\n",
       "        vertical-align: top;\n",
       "    }\n",
       "\n",
       "    .dataframe thead th {\n",
       "        text-align: right;\n",
       "    }\n",
       "</style>\n",
       "<table border=\"1\" class=\"dataframe\">\n",
       "  <thead>\n",
       "    <tr style=\"text-align: right;\">\n",
       "      <th></th>\n",
       "      <th>Intercept</th>\n",
       "      <th>C(time)[T.Lunch]</th>\n",
       "      <th>total_bill</th>\n",
       "      <th>size</th>\n",
       "    </tr>\n",
       "  </thead>\n",
       "  <tbody>\n",
       "    <tr>\n",
       "      <th>0</th>\n",
       "      <td>1.0</td>\n",
       "      <td>0.0</td>\n",
       "      <td>16.99</td>\n",
       "      <td>2.0</td>\n",
       "    </tr>\n",
       "    <tr>\n",
       "      <th>1</th>\n",
       "      <td>1.0</td>\n",
       "      <td>0.0</td>\n",
       "      <td>10.34</td>\n",
       "      <td>3.0</td>\n",
       "    </tr>\n",
       "    <tr>\n",
       "      <th>2</th>\n",
       "      <td>1.0</td>\n",
       "      <td>0.0</td>\n",
       "      <td>21.01</td>\n",
       "      <td>3.0</td>\n",
       "    </tr>\n",
       "  </tbody>\n",
       "</table>\n",
       "</div>"
      ],
      "text/plain": [
       "   Intercept  C(time)[T.Lunch]  total_bill  size\n",
       "0        1.0               0.0       16.99   2.0\n",
       "1        1.0               0.0       10.34   3.0\n",
       "2        1.0               0.0       21.01   3.0"
      ]
     },
     "execution_count": 4,
     "metadata": {},
     "output_type": "execute_result"
    }
   ],
   "source": [
    "x.head(3)"
   ]
  },
  {
   "cell_type": "code",
   "execution_count": 5,
   "id": "577f0cf3-1513-44f8-b43d-a5eece0862e8",
   "metadata": {
    "tags": []
   },
   "outputs": [],
   "source": [
    "#the scikit library\n",
    "from sklearn.model_selection import train_test_split\n",
    "\n",
    "#spliting the data into 4 parts: random_state is setting a seed\n",
    "ind_train, ind_test, dep_train, dep_test = train_test_split(x,y,test_size=.5, random_state=110)"
   ]
  },
  {
   "cell_type": "code",
   "execution_count": 6,
   "id": "8ff4bbb4-58b1-4295-85ad-195325aef51a",
   "metadata": {
    "tags": []
   },
   "outputs": [],
   "source": [
    "# linear regression(using sklearn instead of statsmodels library)\n",
    "from sklearn.linear_model import LinearRegression"
   ]
  },
  {
   "cell_type": "code",
   "execution_count": 7,
   "id": "497f7ace-50d5-4b1c-bdec-e7912f13c6bf",
   "metadata": {
    "tags": []
   },
   "outputs": [
    {
     "data": {
      "text/plain": [
       "array([0.43713821])"
      ]
     },
     "execution_count": 7,
     "metadata": {},
     "output_type": "execute_result"
    }
   ],
   "source": [
    "model = LinearRegression()\n",
    "model.fit(ind_train, dep_train)  #estimating the model using the training data\n",
    "\n",
    "model.intercept_"
   ]
  },
  {
   "cell_type": "code",
   "execution_count": 8,
   "id": "935f9a99-b0fe-42a0-8ce7-79285c3115eb",
   "metadata": {
    "tags": []
   },
   "outputs": [
    {
     "data": {
      "text/plain": [
       "array([[0.        , 0.12422268, 0.1107945 , 0.10891579]])"
      ]
     },
     "execution_count": 8,
     "metadata": {},
     "output_type": "execute_result"
    }
   ],
   "source": [
    "model.coef_"
   ]
  },
  {
   "cell_type": "code",
   "execution_count": 10,
   "id": "ddb390c2-9720-4642-a657-41207b48dffb",
   "metadata": {
    "tags": []
   },
   "outputs": [
    {
     "name": "stdout",
     "output_type": "stream",
     "text": [
      "tip = 0.437 + 0.124 Lunch + 0.111 total_bill + 0.109 size\n"
     ]
    }
   ],
   "source": [
    "print(f\"tip = {model.intercept_[0]:.3f} + \" +\n",
    "     f\"{model.coef_[0][1]:.3f} Lunch + \" +\n",
    "     f\"{model.coef_[0][2]:.3f} total_bill + \" +\n",
    "     f\"{model.coef_[0][3]:.3f} size\"\n",
    "     )"
   ]
  },
  {
   "cell_type": "code",
   "execution_count": 12,
   "id": "5fda32b0-c56a-4c8e-ba57-afb0117269fa",
   "metadata": {
    "tags": []
   },
   "outputs": [
    {
     "data": {
      "text/plain": [
       "(122, 1)"
      ]
     },
     "execution_count": 12,
     "metadata": {},
     "output_type": "execute_result"
    }
   ],
   "source": [
    "#predictions\n",
    "pred = model.predict(ind_test)\n",
    "pred.shape"
   ]
  },
  {
   "cell_type": "code",
   "execution_count": 13,
   "id": "d293829e-ed29-4028-9488-66f30d0734d1",
   "metadata": {
    "tags": []
   },
   "outputs": [
    {
     "data": {
      "text/plain": [
       "(122, 1)"
      ]
     },
     "execution_count": 13,
     "metadata": {},
     "output_type": "execute_result"
    }
   ],
   "source": [
    "dep_test.shape"
   ]
  },
  {
   "cell_type": "code",
   "execution_count": 14,
   "id": "33b22a83-defb-4cee-b3fd-c27c7c546779",
   "metadata": {
    "tags": []
   },
   "outputs": [
    {
     "name": "stdout",
     "output_type": "stream",
     "text": [
      "LR Model Score = 0.378\n"
     ]
    }
   ],
   "source": [
    "#score() for R-squared value\n",
    "score = model.score(ind_test,dep_test)\n",
    "print(f\"LR Model Score = {score:.3f}\")"
   ]
  },
  {
   "cell_type": "code",
   "execution_count": 15,
   "id": "d4ce71b8-a6d9-4237-a853-faad065192b0",
   "metadata": {
    "tags": []
   },
   "outputs": [
    {
     "data": {
      "text/html": [
       "<table class=\"simpletable\">\n",
       "<caption>OLS Regression Results</caption>\n",
       "<tr>\n",
       "  <th>Dep. Variable:</th>           <td>tip</td>       <th>  R-squared:         </th> <td>   0.468</td>\n",
       "</tr>\n",
       "<tr>\n",
       "  <th>Model:</th>                   <td>OLS</td>       <th>  Adj. R-squared:    </th> <td>   0.461</td>\n",
       "</tr>\n",
       "<tr>\n",
       "  <th>Method:</th>             <td>Least Squares</td>  <th>  F-statistic:       </th> <td>   70.34</td>\n",
       "</tr>\n",
       "<tr>\n",
       "  <th>Date:</th>             <td>Mon, 25 Mar 2024</td> <th>  Prob (F-statistic):</th> <td>1.13e-32</td>\n",
       "</tr>\n",
       "<tr>\n",
       "  <th>Time:</th>                 <td>16:46:20</td>     <th>  Log-Likelihood:    </th> <td> -347.98</td>\n",
       "</tr>\n",
       "<tr>\n",
       "  <th>No. Observations:</th>      <td>   244</td>      <th>  AIC:               </th> <td>   704.0</td>\n",
       "</tr>\n",
       "<tr>\n",
       "  <th>Df Residuals:</th>          <td>   240</td>      <th>  BIC:               </th> <td>   718.0</td>\n",
       "</tr>\n",
       "<tr>\n",
       "  <th>Df Model:</th>              <td>     3</td>      <th>                     </th>     <td> </td>   \n",
       "</tr>\n",
       "<tr>\n",
       "  <th>Covariance Type:</th>      <td>nonrobust</td>    <th>                     </th>     <td> </td>   \n",
       "</tr>\n",
       "</table>\n",
       "<table class=\"simpletable\">\n",
       "<tr>\n",
       "          <td></td>            <th>coef</th>     <th>std err</th>      <th>t</th>      <th>P>|t|</th>  <th>[0.025</th>    <th>0.975]</th>  \n",
       "</tr>\n",
       "<tr>\n",
       "  <th>Intercept</th>        <td>    0.6671</td> <td>    0.205</td> <td>    3.249</td> <td> 0.001</td> <td>    0.263</td> <td>    1.072</td>\n",
       "</tr>\n",
       "<tr>\n",
       "  <th>C(time)[T.Lunch]</th> <td>    0.0041</td> <td>    0.148</td> <td>    0.028</td> <td> 0.978</td> <td>   -0.286</td> <td>    0.295</td>\n",
       "</tr>\n",
       "<tr>\n",
       "  <th>total_bill</th>       <td>    0.0928</td> <td>    0.009</td> <td>   10.037</td> <td> 0.000</td> <td>    0.075</td> <td>    0.111</td>\n",
       "</tr>\n",
       "<tr>\n",
       "  <th>size</th>             <td>    0.1926</td> <td>    0.085</td> <td>    2.253</td> <td> 0.025</td> <td>    0.024</td> <td>    0.361</td>\n",
       "</tr>\n",
       "</table>\n",
       "<table class=\"simpletable\">\n",
       "<tr>\n",
       "  <th>Omnibus:</th>       <td>24.790</td> <th>  Durbin-Watson:     </th> <td>   2.100</td>\n",
       "</tr>\n",
       "<tr>\n",
       "  <th>Prob(Omnibus):</th> <td> 0.000</td> <th>  Jarque-Bera (JB):  </th> <td>  46.226</td>\n",
       "</tr>\n",
       "<tr>\n",
       "  <th>Skew:</th>          <td> 0.546</td> <th>  Prob(JB):          </th> <td>9.17e-11</td>\n",
       "</tr>\n",
       "<tr>\n",
       "  <th>Kurtosis:</th>      <td> 4.831</td> <th>  Cond. No.          </th> <td>    73.7</td>\n",
       "</tr>\n",
       "</table><br/><br/>Notes:<br/>[1] Standard Errors assume that the covariance matrix of the errors is correctly specified."
      ],
      "text/latex": [
       "\\begin{center}\n",
       "\\begin{tabular}{lclc}\n",
       "\\toprule\n",
       "\\textbf{Dep. Variable:}    &       tip        & \\textbf{  R-squared:         } &     0.468   \\\\\n",
       "\\textbf{Model:}            &       OLS        & \\textbf{  Adj. R-squared:    } &     0.461   \\\\\n",
       "\\textbf{Method:}           &  Least Squares   & \\textbf{  F-statistic:       } &     70.34   \\\\\n",
       "\\textbf{Date:}             & Mon, 25 Mar 2024 & \\textbf{  Prob (F-statistic):} &  1.13e-32   \\\\\n",
       "\\textbf{Time:}             &     16:46:20     & \\textbf{  Log-Likelihood:    } &   -347.98   \\\\\n",
       "\\textbf{No. Observations:} &         244      & \\textbf{  AIC:               } &     704.0   \\\\\n",
       "\\textbf{Df Residuals:}     &         240      & \\textbf{  BIC:               } &     718.0   \\\\\n",
       "\\textbf{Df Model:}         &           3      & \\textbf{                     } &             \\\\\n",
       "\\textbf{Covariance Type:}  &    nonrobust     & \\textbf{                     } &             \\\\\n",
       "\\bottomrule\n",
       "\\end{tabular}\n",
       "\\begin{tabular}{lcccccc}\n",
       "                          & \\textbf{coef} & \\textbf{std err} & \\textbf{t} & \\textbf{P$> |$t$|$} & \\textbf{[0.025} & \\textbf{0.975]}  \\\\\n",
       "\\midrule\n",
       "\\textbf{Intercept}        &       0.6671  &        0.205     &     3.249  &         0.001        &        0.263    &        1.072     \\\\\n",
       "\\textbf{C(time)[T.Lunch]} &       0.0041  &        0.148     &     0.028  &         0.978        &       -0.286    &        0.295     \\\\\n",
       "\\textbf{total\\_bill}      &       0.0928  &        0.009     &    10.037  &         0.000        &        0.075    &        0.111     \\\\\n",
       "\\textbf{size}             &       0.1926  &        0.085     &     2.253  &         0.025        &        0.024    &        0.361     \\\\\n",
       "\\bottomrule\n",
       "\\end{tabular}\n",
       "\\begin{tabular}{lclc}\n",
       "\\textbf{Omnibus:}       & 24.790 & \\textbf{  Durbin-Watson:     } &    2.100  \\\\\n",
       "\\textbf{Prob(Omnibus):} &  0.000 & \\textbf{  Jarque-Bera (JB):  } &   46.226  \\\\\n",
       "\\textbf{Skew:}          &  0.546 & \\textbf{  Prob(JB):          } & 9.17e-11  \\\\\n",
       "\\textbf{Kurtosis:}      &  4.831 & \\textbf{  Cond. No.          } &     73.7  \\\\\n",
       "\\bottomrule\n",
       "\\end{tabular}\n",
       "%\\caption{OLS Regression Results}\n",
       "\\end{center}\n",
       "\n",
       "Notes: \\newline\n",
       " [1] Standard Errors assume that the covariance matrix of the errors is correctly specified."
      ],
      "text/plain": [
       "<class 'statsmodels.iolib.summary.Summary'>\n",
       "\"\"\"\n",
       "                            OLS Regression Results                            \n",
       "==============================================================================\n",
       "Dep. Variable:                    tip   R-squared:                       0.468\n",
       "Model:                            OLS   Adj. R-squared:                  0.461\n",
       "Method:                 Least Squares   F-statistic:                     70.34\n",
       "Date:                Mon, 25 Mar 2024   Prob (F-statistic):           1.13e-32\n",
       "Time:                        16:46:20   Log-Likelihood:                -347.98\n",
       "No. Observations:                 244   AIC:                             704.0\n",
       "Df Residuals:                     240   BIC:                             718.0\n",
       "Df Model:                           3                                         \n",
       "Covariance Type:            nonrobust                                         \n",
       "====================================================================================\n",
       "                       coef    std err          t      P>|t|      [0.025      0.975]\n",
       "------------------------------------------------------------------------------------\n",
       "Intercept            0.6671      0.205      3.249      0.001       0.263       1.072\n",
       "C(time)[T.Lunch]     0.0041      0.148      0.028      0.978      -0.286       0.295\n",
       "total_bill           0.0928      0.009     10.037      0.000       0.075       0.111\n",
       "size                 0.1926      0.085      2.253      0.025       0.024       0.361\n",
       "==============================================================================\n",
       "Omnibus:                       24.790   Durbin-Watson:                   2.100\n",
       "Prob(Omnibus):                  0.000   Jarque-Bera (JB):               46.226\n",
       "Skew:                           0.546   Prob(JB):                     9.17e-11\n",
       "Kurtosis:                       4.831   Cond. No.                         73.7\n",
       "==============================================================================\n",
       "\n",
       "Notes:\n",
       "[1] Standard Errors assume that the covariance matrix of the errors is correctly specified.\n",
       "\"\"\""
      ]
     },
     "execution_count": 15,
     "metadata": {},
     "output_type": "execute_result"
    }
   ],
   "source": [
    "# Linear regression using the statsmodel NOW (full sample)\n",
    "import statsmodels.formula.api as smf\n",
    "\n",
    "result = smf.ols(formula = 'tip ~ total_bill + size + C(time)', data=tdf).fit()  #OR result.fit() in the next line\n",
    "result.summary()"
   ]
  },
  {
   "cell_type": "code",
   "execution_count": null,
   "id": "259c21ca-4dc5-42be-be6f-c3eb9155c3b9",
   "metadata": {},
   "outputs": [],
   "source": []
  }
 ],
 "metadata": {
  "kernelspec": {
   "display_name": "Python 3 (ipykernel)",
   "language": "python",
   "name": "python3"
  },
  "language_info": {
   "codemirror_mode": {
    "name": "ipython",
    "version": 3
   },
   "file_extension": ".py",
   "mimetype": "text/x-python",
   "name": "python",
   "nbconvert_exporter": "python",
   "pygments_lexer": "ipython3",
   "version": "3.11.9"
  }
 },
 "nbformat": 4,
 "nbformat_minor": 5
}
