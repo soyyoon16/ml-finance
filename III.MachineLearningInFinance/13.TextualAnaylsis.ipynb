{
 "cells": [
  {
   "cell_type": "markdown",
   "id": "e2a3889b-8477-408c-a12b-21a4f920149f",
   "metadata": {},
   "source": [
    "# 13. Textual Analysis (NLP)"
   ]
  },
  {
   "cell_type": "code",
   "execution_count": 1,
   "id": "1f3fab2f-0277-4a99-9eef-8aa44cc22464",
   "metadata": {
    "tags": []
   },
   "outputs": [],
   "source": [
    "import pandas as pd\n",
    "import numpy as np\n",
    "import matplotlib as plt\n",
    "import seaborn"
   ]
  },
  {
   "cell_type": "code",
   "execution_count": 2,
   "id": "a810fbe3-0298-4022-88a6-46734a50d75f",
   "metadata": {
    "tags": []
   },
   "outputs": [],
   "source": [
    "from sklearn.model_selection import train_test_split\n",
    "from sklearn.metrics import classification_report, accuracy_score, ConfusionMatrixDisplay\n",
    "\n",
    "import nltk\n",
    "import string\n",
    "from nltk.corpus import stopwords\n",
    "from nltk.stem.porter import PorterStemmer\n",
    "\n",
    "from sklearn.feature_extraction.text import CountVectorizer, TfidfVectorizer\n",
    "from sklearn.naive_bayes import MultinomialNB"
   ]
  },
  {
   "cell_type": "code",
   "execution_count": 3,
   "id": "a344d2ab-ac28-496f-a919-3c5a3cb513d8",
   "metadata": {
    "tags": []
   },
   "outputs": [
    {
     "data": {
      "text/html": [
       "<div>\n",
       "<style scoped>\n",
       "    .dataframe tbody tr th:only-of-type {\n",
       "        vertical-align: middle;\n",
       "    }\n",
       "\n",
       "    .dataframe tbody tr th {\n",
       "        vertical-align: top;\n",
       "    }\n",
       "\n",
       "    .dataframe thead th {\n",
       "        text-align: right;\n",
       "    }\n",
       "</style>\n",
       "<table border=\"1\" class=\"dataframe\">\n",
       "  <thead>\n",
       "    <tr style=\"text-align: right;\">\n",
       "      <th></th>\n",
       "      <th>datetime</th>\n",
       "      <th>headline</th>\n",
       "      <th>ticker</th>\n",
       "      <th>sentiment</th>\n",
       "    </tr>\n",
       "  </thead>\n",
       "  <tbody>\n",
       "    <tr>\n",
       "      <th>7768</th>\n",
       "      <td>1/12/19 7:35</td>\n",
       "      <td>As United Technologies Corp (UTX) Shares Decli...</td>\n",
       "      <td>UTX</td>\n",
       "      <td>0</td>\n",
       "    </tr>\n",
       "    <tr>\n",
       "      <th>3309</th>\n",
       "      <td>4/29/19 12:18</td>\n",
       "      <td>$XOM - Exxon Mobil: Strong Buy</td>\n",
       "      <td>XOM</td>\n",
       "      <td>1</td>\n",
       "    </tr>\n",
       "    <tr>\n",
       "      <th>7058</th>\n",
       "      <td>4/23/19 6:07</td>\n",
       "      <td>$PG: Procter &amp; Gamble beats by $0.02, reports ...</td>\n",
       "      <td>PG</td>\n",
       "      <td>1</td>\n",
       "    </tr>\n",
       "    <tr>\n",
       "      <th>6324</th>\n",
       "      <td>12/19/19 19:50</td>\n",
       "      <td>$NKE Nike quarterly revenue beats estimates</td>\n",
       "      <td>NKE</td>\n",
       "      <td>1</td>\n",
       "    </tr>\n",
       "    <tr>\n",
       "      <th>3957</th>\n",
       "      <td>7/18/19 12:35</td>\n",
       "      <td>IBM trades higher on Q2 results as investors a...</td>\n",
       "      <td>IBM</td>\n",
       "      <td>1</td>\n",
       "    </tr>\n",
       "  </tbody>\n",
       "</table>\n",
       "</div>"
      ],
      "text/plain": [
       "            datetime                                           headline  \\\n",
       "7768    1/12/19 7:35  As United Technologies Corp (UTX) Shares Decli...   \n",
       "3309   4/29/19 12:18                    $XOM - Exxon Mobil: Strong Buy    \n",
       "7058    4/23/19 6:07  $PG: Procter & Gamble beats by $0.02, reports ...   \n",
       "6324  12/19/19 19:50       $NKE Nike quarterly revenue beats estimates    \n",
       "3957   7/18/19 12:35  IBM trades higher on Q2 results as investors a...   \n",
       "\n",
       "     ticker  sentiment  \n",
       "7768    UTX          0  \n",
       "3309    XOM          1  \n",
       "7058     PG          1  \n",
       "6324    NKE          1  \n",
       "3957    IBM          1  "
      ]
     },
     "execution_count": 3,
     "metadata": {},
     "output_type": "execute_result"
    }
   ],
   "source": [
    "#predict sentiment based on news headlines\n",
    "df = pd.read_csv('data13_LabeledNewsData.csv', encoding = \"ISO-8859-1\")\n",
    "df.sample(5)"
   ]
  },
  {
   "cell_type": "code",
   "execution_count": 4,
   "id": "21b3cdbb-248d-4d89-85c1-a7aa953fe802",
   "metadata": {
    "tags": []
   },
   "outputs": [
    {
     "data": {
      "text/plain": [
       "6225    $NKE rallied to new all time highs and aiming ...\n",
       "5651    $MRK beats the Estimize EPS Consensus by 23c a...\n",
       "2422    Insider Selling: The Coca-Cola Co $KO SVP Sell...\n",
       "Name: headline, dtype: object"
      ]
     },
     "execution_count": 4,
     "metadata": {},
     "output_type": "execute_result"
    }
   ],
   "source": [
    "# Sentiment(1,0--> labeled data): supervised\n",
    "y = df['sentiment']\n",
    "text = df['headline']\n",
    "\n",
    "text_train, text_test, y_train, y_test = train_test_split(text, y, test_size=.25, random_state=101)\n",
    "text_test.sample(3)"
   ]
  },
  {
   "cell_type": "markdown",
   "id": "de5934ca-f647-487c-92a6-8c6f1a7f221e",
   "metadata": {},
   "source": [
    "## 1. Bag of Words"
   ]
  },
  {
   "cell_type": "code",
   "execution_count": 5,
   "id": "8a30322a-794b-4650-a9b4-d187e017d063",
   "metadata": {
    "tags": []
   },
   "outputs": [],
   "source": [
    "\n",
    "bw = CountVectorizer(lowercase=True, stop_words='english')  #Pre-processing\n",
    "bw.fit(text_train)\n",
    "dtm_train = bw.transform(text_train) #document text matrix transformation: text into vectors\n",
    "dtm_test = bw.transform(text_test)"
   ]
  },
  {
   "cell_type": "code",
   "execution_count": 6,
   "id": "7d0d48ba-baa1-4451-9e21-cd4a41065bba",
   "metadata": {
    "tags": []
   },
   "outputs": [
    {
     "name": "stdout",
     "output_type": "stream",
     "text": [
      "Accuracy score = 0.9096283783783784\n",
      "              precision    recall  f1-score   support\n",
      "\n",
      "           0       0.91      0.88      0.89      1029\n",
      "           1       0.91      0.93      0.92      1339\n",
      "\n",
      "    accuracy                           0.91      2368\n",
      "   macro avg       0.91      0.91      0.91      2368\n",
      "weighted avg       0.91      0.91      0.91      2368\n",
      "\n"
     ]
    },
    {
     "data": {
      "text/plain": [
       "<sklearn.metrics._plot.confusion_matrix.ConfusionMatrixDisplay at 0x1b679d86b50>"
      ]
     },
     "execution_count": 6,
     "metadata": {},
     "output_type": "execute_result"
    },
    {
     "data": {
      "image/png": "[encoded data removed]",
      "text/plain": [
       "<Figure size 640x480 with 2 Axes>"
      ]
     },
     "metadata": {},
     "output_type": "display_data"
    }
   ],
   "source": [
    "#Naive Bayes for prediction \n",
    "nb = MultinomialNB()\n",
    "nb.fit(dtm_train, y_train)\n",
    "y_pred = nb.predict(dtm_test)\n",
    "\n",
    "print(f'Accuracy score = {accuracy_score(y_test, y_pred)}')\n",
    "\n",
    "print(classification_report(y_test, y_pred))\n",
    "ConfusionMatrixDisplay.from_estimator(nb, dtm_test, y_test)"
   ]
  },
  {
   "cell_type": "markdown",
   "id": "09e97547-2968-4b23-84ac-4ef0829f126f",
   "metadata": {},
   "source": [
    "## 2. TF-IDF"
   ]
  },
  {
   "cell_type": "code",
   "execution_count": 11,
   "id": "218c7f23-22b8-4e4f-9708-29f9d9af9563",
   "metadata": {
    "tags": []
   },
   "outputs": [],
   "source": [
    "tfidf = TfidfVectorizer(lowercase=True, stop_words='english',ngram_range=(1,2))\n",
    "dtm_train = tfidf.fit_transform(text_train)\n",
    "dtm_test = tfidf.transform(text_test)"
   ]
  },
  {
   "cell_type": "code",
   "execution_count": 12,
   "id": "dc0f0df0-7511-4c13-9635-da4318ae2ed3",
   "metadata": {
    "tags": []
   },
   "outputs": [
    {
     "name": "stdout",
     "output_type": "stream",
     "text": [
      "Accuracy score = 0.8868243243243243\n",
      "              precision    recall  f1-score   support\n",
      "\n",
      "           0       0.96      0.77      0.86      1029\n",
      "           1       0.85      0.98      0.91      1339\n",
      "\n",
      "    accuracy                           0.89      2368\n",
      "   macro avg       0.90      0.87      0.88      2368\n",
      "weighted avg       0.90      0.89      0.88      2368\n",
      "\n"
     ]
    },
    {
     "data": {
      "text/plain": [
       "<sklearn.metrics._plot.confusion_matrix.ConfusionMatrixDisplay at 0x1b679d86910>"
      ]
     },
     "execution_count": 12,
     "metadata": {},
     "output_type": "execute_result"
    },
    {
     "data": {
      "image/png": "[encoded data removed]",
      "text/plain": [
       "<Figure size 640x480 with 2 Axes>"
      ]
     },
     "metadata": {},
     "output_type": "display_data"
    }
   ],
   "source": [
    "#Naive Bayes for prediction \n",
    "nb = MultinomialNB()\n",
    "nb.fit(dtm_train, y_train)\n",
    "y_pred = nb.predict(dtm_test)\n",
    "\n",
    "print(f'Accuracy score = {accuracy_score(y_test, y_pred)}')\n",
    "\n",
    "print(classification_report(y_test, y_pred))\n",
    "ConfusionMatrixDisplay.from_estimator(nb, dtm_test, y_test)"
   ]
  },
  {
   "cell_type": "markdown",
   "id": "b5bb6bdd-bcd7-4570-98cd-e4218e3f1ab3",
   "metadata": {},
   "source": [
    "## Stemming"
   ]
  },
  {
   "cell_type": "code",
   "execution_count": 13,
   "id": "b1501ec9-32f7-4e9a-822c-c0025f06bb6b",
   "metadata": {
    "tags": []
   },
   "outputs": [],
   "source": [
    "def tokenize(text):\n",
    "    tokens = nltk.word_tokenize(text)\n",
    "    tokens = [tkn for tkn in tokens if tkn not in string.punctuation] # , ,=,! ,?\n",
    "    \n",
    "    stems = map(PorterStemmer().stem, tokens)\n",
    "    \n",
    "    return stems"
   ]
  },
  {
   "cell_type": "code",
   "execution_count": 14,
   "id": "4b95481a-a0ef-4f15-a26d-201c22bc5c47",
   "metadata": {
    "tags": []
   },
   "outputs": [
    {
     "name": "stderr",
     "output_type": "stream",
     "text": [
      "[nltk_data] Downloading package punkt to\n",
      "[nltk_data]     C:\\Users\\soyyo\\AppData\\Roaming\\nltk_data...\n",
      "[nltk_data]   Unzipping tokenizers\\punkt.zip.\n"
     ]
    },
    {
     "data": {
      "text/plain": [
       "True"
      ]
     },
     "execution_count": 14,
     "metadata": {},
     "output_type": "execute_result"
    }
   ],
   "source": [
    "nltk.download('punkt')"
   ]
  },
  {
   "cell_type": "code",
   "execution_count": 15,
   "id": "2644ed30-9f68-43df-82e5-3a97d4ea7c1d",
   "metadata": {
    "tags": []
   },
   "outputs": [
    {
     "name": "stderr",
     "output_type": "stream",
     "text": [
      "C:\\Users\\soyyo\\anaconda3\\Lib\\site-packages\\sklearn\\feature_extraction\\text.py:525: UserWarning: The parameter 'token_pattern' will not be used since 'tokenizer' is not None'\n",
      "  warnings.warn(\n",
      "C:\\Users\\soyyo\\anaconda3\\Lib\\site-packages\\sklearn\\feature_extraction\\text.py:408: UserWarning: Your stop_words may be inconsistent with your preprocessing. Tokenizing the stop words generated tokens ['abov', 'afterward', 'alon', 'alreadi', 'alway', 'ani', 'anoth', 'anyon', 'anyth', 'anywher', 'becam', 'becaus', 'becom', 'befor', 'besid', 'cri', 'describ', 'dure', 'els', 'elsewher', 'empti', 'everi', 'everyon', 'everyth', 'everywher', 'fifti', 'formerli', 'forti', 'ha', 'henc', 'hereaft', 'herebi', 'hi', 'howev', 'hundr', 'inde', 'latterli', 'mani', 'meanwhil', 'moreov', 'mostli', 'nobodi', 'noon', 'noth', 'nowher', 'onc', 'onli', 'otherwis', 'ourselv', 'perhap', 'pleas', 'seriou', 'sever', 'sinc', 'sincer', 'sixti', 'someon', 'someth', 'sometim', 'somewher', 'themselv', 'thenc', 'thereaft', 'therebi', 'therefor', 'thi', 'thu', 'togeth', 'twelv', 'twenti', 'veri', 'wa', 'whatev', 'whenc', 'whenev', 'wherea', 'whereaft', 'wherebi', 'wherev', 'whi', 'yourselv'] not in stop_words.\n",
      "  warnings.warn(\n"
     ]
    }
   ],
   "source": [
    "tfidf = TfidfVectorizer(lowercase=True, stop_words='english',ngram_range=(1,2), tokenizer=tokenize)\n",
    "dtm_train = tfidf.fit_transform(text_train)\n",
    "dtm_test = tfidf.transform(text_test)"
   ]
  },
  {
   "cell_type": "code",
   "execution_count": 16,
   "id": "23c08bab-c4da-4248-aca6-e1b922f004e0",
   "metadata": {
    "tags": []
   },
   "outputs": [
    {
     "name": "stdout",
     "output_type": "stream",
     "text": [
      "Accuracy score = 0.8834459459459459\n",
      "              precision    recall  f1-score   support\n",
      "\n",
      "           0       0.97      0.76      0.85      1029\n",
      "           1       0.84      0.98      0.90      1339\n",
      "\n",
      "    accuracy                           0.88      2368\n",
      "   macro avg       0.90      0.87      0.88      2368\n",
      "weighted avg       0.90      0.88      0.88      2368\n",
      "\n"
     ]
    },
    {
     "data": {
      "text/plain": [
       "<sklearn.metrics._plot.confusion_matrix.ConfusionMatrixDisplay at 0x1b67fc76b10>"
      ]
     },
     "execution_count": 16,
     "metadata": {},
     "output_type": "execute_result"
    },
    {
     "data": {
      "image/png": "[encoded data removed]",
      "text/plain": [
       "<Figure size 640x480 with 2 Axes>"
      ]
     },
     "metadata": {},
     "output_type": "display_data"
    }
   ],
   "source": [
    "#Naive Bayes for prediction \n",
    "nb = MultinomialNB()\n",
    "nb.fit(dtm_train, y_train)\n",
    "y_pred = nb.predict(dtm_test)\n",
    "\n",
    "print(f'Accuracy score = {accuracy_score(y_test, y_pred)}')\n",
    "\n",
    "print(classification_report(y_test, y_pred))\n",
    "ConfusionMatrixDisplay.from_estimator(nb, dtm_test, y_test)"
   ]
  },
  {
   "cell_type": "code",
   "execution_count": null,
   "id": "902b804e-9a27-4245-a90f-496748399147",
   "metadata": {},
   "outputs": [],
   "source": []
  }
 ],
 "metadata": {
  "kernelspec": {
   "display_name": "Python 3 (ipykernel)",
   "language": "python",
   "name": "python3"
  },
  "language_info": {
   "codemirror_mode": {
    "name": "ipython",
    "version": 3
   },
   "file_extension": ".py",
   "mimetype": "text/x-python",
   "name": "python",
   "nbconvert_exporter": "python",
   "pygments_lexer": "ipython3",
   "version": "3.11.9"
  }
 },
 "nbformat": 4,
 "nbformat_minor": 5
}
