{
 "cells": [
  {
   "cell_type": "markdown",
   "id": "c7db6f4f-7932-4d34-b92b-b0660e2f8ee9",
   "metadata": {},
   "source": [
    "# 4. Implement an Optimization!"
   ]
  },
  {
   "cell_type": "code",
   "execution_count": 1,
   "id": "d571c6f3-410b-46c1-86b4-ff8af77cf82c",
   "metadata": {
    "tags": []
   },
   "outputs": [],
   "source": [
    "import numpy as np\n",
    "import pandas as pd"
   ]
  },
  {
   "cell_type": "code",
   "execution_count": 3,
   "id": "cb98c7dc-879b-4bf6-8d28-7e5b981da1f1",
   "metadata": {
    "tags": []
   },
   "outputs": [],
   "source": [
    "ret = pd.read_csv(\"data/data4_industry_30_vw_monthly.csv\",\n",
    "                 header=0, index_col=0)/100  \n",
    "ret.index=pd.to_datetime(ret.index,format=\"%Y%m\").to_period(\"m\")\n",
    "ret.columns=ret.columns.str.strip()\n",
    "#ret.head(3)"
   ]
  },
  {
   "cell_type": "code",
   "execution_count": 4,
   "id": "85c3f72a-cf83-4479-9f80-ce7cc3c49ad5",
   "metadata": {
    "tags": []
   },
   "outputs": [
    {
     "data": {
      "text/html": [
       "<div>\n",
       "<style scoped>\n",
       "    .dataframe tbody tr th:only-of-type {\n",
       "        vertical-align: middle;\n",
       "    }\n",
       "\n",
       "    .dataframe tbody tr th {\n",
       "        vertical-align: top;\n",
       "    }\n",
       "\n",
       "    .dataframe thead th {\n",
       "        text-align: right;\n",
       "    }\n",
       "</style>\n",
       "<table border=\"1\" class=\"dataframe\">\n",
       "  <thead>\n",
       "    <tr style=\"text-align: right;\">\n",
       "      <th></th>\n",
       "      <th>Food</th>\n",
       "      <th>Beer</th>\n",
       "      <th>Smoke</th>\n",
       "      <th>Games</th>\n",
       "    </tr>\n",
       "  </thead>\n",
       "  <tbody>\n",
       "    <tr>\n",
       "      <th>Food</th>\n",
       "      <td>0.017245</td>\n",
       "      <td>0.013844</td>\n",
       "      <td>0.016109</td>\n",
       "      <td>0.014420</td>\n",
       "    </tr>\n",
       "    <tr>\n",
       "      <th>Beer</th>\n",
       "      <td>0.013844</td>\n",
       "      <td>0.025237</td>\n",
       "      <td>0.013000</td>\n",
       "      <td>0.012797</td>\n",
       "    </tr>\n",
       "    <tr>\n",
       "      <th>Smoke</th>\n",
       "      <td>0.016109</td>\n",
       "      <td>0.013000</td>\n",
       "      <td>0.053180</td>\n",
       "      <td>0.013268</td>\n",
       "    </tr>\n",
       "    <tr>\n",
       "      <th>Games</th>\n",
       "      <td>0.014420</td>\n",
       "      <td>0.012797</td>\n",
       "      <td>0.013268</td>\n",
       "      <td>0.056781</td>\n",
       "    </tr>\n",
       "  </tbody>\n",
       "</table>\n",
       "</div>"
      ],
      "text/plain": [
       "           Food      Beer     Smoke     Games\n",
       "Food   0.017245  0.013844  0.016109  0.014420\n",
       "Beer   0.013844  0.025237  0.013000  0.012797\n",
       "Smoke  0.016109  0.013000  0.053180  0.013268\n",
       "Games  0.014420  0.012797  0.013268  0.056781"
      ]
     },
     "execution_count": 4,
     "metadata": {},
     "output_type": "execute_result"
    }
   ],
   "source": [
    "n_years=ret[\"1992\":].shape[0]/12 #number of months/12\n",
    "eret=((1+ret[\"1992\":]).prod())**(1/n_years)-1 #annualized expected returns\n",
    "cov=ret[\"1992\":].cov()*12 #.cov() covariance matrix monthly*12--> annualized covariance\n",
    "\n",
    "l=[\"Food\",\"Beer\",\"Smoke\",\"Games\"]\n",
    "eret[l]\n",
    "cov.loc[l,l]"
   ]
  },
  {
   "cell_type": "code",
   "execution_count": 5,
   "id": "9a891474-000b-489d-bd05-10c6dce05f6d",
   "metadata": {
    "tags": []
   },
   "outputs": [],
   "source": [
    "#build functions for portfolio returns and portfolio volatility\n",
    "def portfolio_ret(weights, returns):\n",
    "    return weights.T@returns    "
   ]
  },
  {
   "cell_type": "code",
   "execution_count": 6,
   "id": "b6ef120f-1b92-4805-8789-9cfa767f0da8",
   "metadata": {
    "tags": []
   },
   "outputs": [],
   "source": [
    "def portfolio_vol(weights,covmat):\n",
    "    return (weights.T@covmat@weights)**.5 #or use np.sqrt()"
   ]
  },
  {
   "cell_type": "code",
   "execution_count": 7,
   "id": "200f4f53-d98c-435c-a9cc-1b8ac721254c",
   "metadata": {
    "tags": []
   },
   "outputs": [],
   "source": [
    "from scipy.optimize import minimize #readily available function to minimize in an optimization"
   ]
  },
  {
   "cell_type": "code",
   "execution_count": 8,
   "id": "698c7426-71d8-4d3d-9753-4cdb01fc5356",
   "metadata": {
    "tags": []
   },
   "outputs": [],
   "source": [
    "def minimize_vol(target_return,ereturns,covmat):\n",
    "    \"\"\"\n",
    "    target return--> weights in a minimum-variance portfolio that generates target return\n",
    "    \"\"\"\n",
    "    n=ereturns.shape[0] #number of assets\n",
    "    init_values=np.repeat(1/n,n) #an array of numbers\n",
    "    \n",
    "    bounds=((0,1),)*n  #an array on n elements(tuples)  0<each weights<1\n",
    "    \n",
    "    #Constraints:\n",
    "    weights_sum_to_1={'type':'eq',\n",
    "                     'fun':lambda weights:np.sum(weights)-1}\n",
    "    return_is_target={'type':'eq',\n",
    "                     'args':(ereturns,),\n",
    "                     'fun':lambda weights,ereturns: portfolio_ret(weights,ereturns)-target_return}\n",
    "    \n",
    "    results=minimize(portfolio_vol,\n",
    "                    init_values,\n",
    "                    args=(covmat),\n",
    "                    method='SLSQP',   #Sequential least Squares of quadratic problems?\n",
    "                    bounds=bounds,\n",
    "                    constraints=(weights_sum_to_1,return_is_target),\n",
    "                    options={'disp':False}) \n",
    "    weights=results.x  #The solution(output)\n",
    "    return weights\n",
    "    "
   ]
  },
  {
   "cell_type": "code",
   "execution_count": 9,
   "id": "50d0a9be-0905-4606-beae-1806c2e1fa73",
   "metadata": {
    "tags": []
   },
   "outputs": [
    {
     "data": {
      "text/plain": [
       "array([0.37177817, 0.62822183])"
      ]
     },
     "execution_count": 9,
     "metadata": {},
     "output_type": "execute_result"
    }
   ],
   "source": [
    "l=[\"Games\",\"Beer\"]\n",
    "w11=minimize_vol(0.11,eret[l],cov.loc[l,l])\n",
    "w11"
   ]
  },
  {
   "cell_type": "code",
   "execution_count": 10,
   "id": "ca23fd20-4bb5-4605-8e8f-e717ed1b322c",
   "metadata": {
    "tags": []
   },
   "outputs": [
    {
     "data": {
      "text/plain": [
       "0.11000000004810469"
      ]
     },
     "execution_count": 10,
     "metadata": {},
     "output_type": "execute_result"
    }
   ],
   "source": [
    "portfolio_ret(w11,eret[l])"
   ]
  },
  {
   "cell_type": "code",
   "execution_count": 11,
   "id": "54fdaea6-d7dd-418f-8271-f54e97e5982c",
   "metadata": {
    "tags": []
   },
   "outputs": [
    {
     "data": {
      "text/plain": [
       "0.15422631467144549"
      ]
     },
     "execution_count": 11,
     "metadata": {},
     "output_type": "execute_result"
    }
   ],
   "source": [
    "portfolio_vol(w11,cov.loc[l,l])"
   ]
  },
  {
   "cell_type": "code",
   "execution_count": 12,
   "id": "0e5f166c-aef2-4735-bd6a-2a11b6ce69f1",
   "metadata": {
    "tags": []
   },
   "outputs": [],
   "source": [
    "def optimal_weights(n_points,ereturns,covmat):\n",
    "    \"\"\"\n",
    "    takes expected returns and vols + # of gridpoints--> weights of the efficient frontier portfolio\n",
    "    \"\"\"\n",
    "    target_returns=np.linspace(ereturns.min(),ereturns.max(),n_points)\n",
    "    optimal_weights=[minimize_vol(tr,ereturns,covmat) for tr in target_returns]\n",
    "    \n",
    "    return optimal_weights"
   ]
  },
  {
   "cell_type": "code",
   "execution_count": 14,
   "id": "d64e62f6-220b-432e-8643-023b08139d3a",
   "metadata": {
    "tags": []
   },
   "outputs": [
    {
     "data": {
      "text/plain": [
       "<Axes: xlabel='V'>"
      ]
     },
     "execution_count": 14,
     "metadata": {},
     "output_type": "execute_result"
    },
    {
     "data": {
      "image/png": "[encoded data removed]",
      "text/plain": [
       "<Figure size 640x480 with 1 Axes>"
      ]
     },
     "metadata": {},
     "output_type": "display_data"
    }
   ],
   "source": [
    "l=[\"Food\",\"Fin\",\"Hlth\",\"Autos\"]\n",
    "efweights=optimal_weights(50,eret[l],cov.loc[l,l])\n",
    "pret=[portfolio_ret(w,eret[l]) for w in efweights]\n",
    "pvol=[portfolio_vol(w,cov.loc[l,l]) for w in efweights]\n",
    "\n",
    "ef=pd.DataFrame({\"R\": pret,\n",
    "               \"V\": pvol})\n",
    "ef.plot.line(x=\"V\",y=\"R\",style=\".-\")"
   ]
  },
  {
   "cell_type": "code",
   "execution_count": null,
   "id": "66cdedd3-d1b8-4dfa-8398-c9405a71d7c8",
   "metadata": {},
   "outputs": [],
   "source": []
  }
 ],
 "metadata": {
  "kernelspec": {
   "display_name": "Python 3 (ipykernel)",
   "language": "python",
   "name": "python3"
  },
  "language_info": {
   "codemirror_mode": {
    "name": "ipython",
    "version": 3
   },
   "file_extension": ".py",
   "mimetype": "text/x-python",
   "name": "python",
   "nbconvert_exporter": "python",
   "pygments_lexer": "ipython3",
   "version": "3.11.9"
  }
 },
 "nbformat": 4,
 "nbformat_minor": 5
}
