{
 "cells": [
  {
   "cell_type": "markdown",
   "id": "fb403296-09c1-4b80-a003-393e5aa9abe3",
   "metadata": {},
   "source": [
    "# 3. Two-asset efficient frontier"
   ]
  },
  {
   "cell_type": "code",
   "execution_count": 1,
   "id": "26754d9d-27d2-4cee-b2f3-958dc8836a6e",
   "metadata": {
    "tags": []
   },
   "outputs": [],
   "source": [
    "%load_ext autoreload\n",
    "%autoreload 2"
   ]
  },
  {
   "cell_type": "code",
   "execution_count": 2,
   "id": "3d2d917e-d636-480f-9d0c-6eee8e3272b3",
   "metadata": {
    "tags": []
   },
   "outputs": [],
   "source": [
    "import numpy as np\n",
    "import pandas as pd"
   ]
  },
  {
   "cell_type": "code",
   "execution_count": 3,
   "id": "c88c8887-e876-4415-b4da-1faab47cabb4",
   "metadata": {
    "tags": []
   },
   "outputs": [
    {
     "data": {
      "text/html": [
       "<div>\n",
       "<style scoped>\n",
       "    .dataframe tbody tr th:only-of-type {\n",
       "        vertical-align: middle;\n",
       "    }\n",
       "\n",
       "    .dataframe tbody tr th {\n",
       "        vertical-align: top;\n",
       "    }\n",
       "\n",
       "    .dataframe thead th {\n",
       "        text-align: right;\n",
       "    }\n",
       "</style>\n",
       "<table border=\"1\" class=\"dataframe\">\n",
       "  <thead>\n",
       "    <tr style=\"text-align: right;\">\n",
       "      <th></th>\n",
       "      <th>Food</th>\n",
       "      <th>Beer</th>\n",
       "      <th>Smoke</th>\n",
       "      <th>Games</th>\n",
       "      <th>Books</th>\n",
       "      <th>Hshld</th>\n",
       "      <th>Clths</th>\n",
       "      <th>Hlth</th>\n",
       "      <th>Chems</th>\n",
       "      <th>Txtls</th>\n",
       "      <th>...</th>\n",
       "      <th>Telcm</th>\n",
       "      <th>Servs</th>\n",
       "      <th>BusEq</th>\n",
       "      <th>Paper</th>\n",
       "      <th>Trans</th>\n",
       "      <th>Whlsl</th>\n",
       "      <th>Rtail</th>\n",
       "      <th>Meals</th>\n",
       "      <th>Fin</th>\n",
       "      <th>Other</th>\n",
       "    </tr>\n",
       "  </thead>\n",
       "  <tbody>\n",
       "    <tr>\n",
       "      <th>1926-07</th>\n",
       "      <td>0.0056</td>\n",
       "      <td>-0.0519</td>\n",
       "      <td>0.0129</td>\n",
       "      <td>0.0293</td>\n",
       "      <td>0.1097</td>\n",
       "      <td>-0.0048</td>\n",
       "      <td>0.0808</td>\n",
       "      <td>0.0177</td>\n",
       "      <td>0.0814</td>\n",
       "      <td>0.0039</td>\n",
       "      <td>...</td>\n",
       "      <td>0.0083</td>\n",
       "      <td>0.0922</td>\n",
       "      <td>0.0206</td>\n",
       "      <td>0.0770</td>\n",
       "      <td>0.0191</td>\n",
       "      <td>-0.2379</td>\n",
       "      <td>0.0007</td>\n",
       "      <td>0.0187</td>\n",
       "      <td>-0.0002</td>\n",
       "      <td>0.0520</td>\n",
       "    </tr>\n",
       "    <tr>\n",
       "      <th>1926-08</th>\n",
       "      <td>0.0259</td>\n",
       "      <td>0.2703</td>\n",
       "      <td>0.0650</td>\n",
       "      <td>0.0055</td>\n",
       "      <td>0.1001</td>\n",
       "      <td>-0.0358</td>\n",
       "      <td>-0.0251</td>\n",
       "      <td>0.0425</td>\n",
       "      <td>0.0550</td>\n",
       "      <td>0.0797</td>\n",
       "      <td>...</td>\n",
       "      <td>0.0217</td>\n",
       "      <td>0.0202</td>\n",
       "      <td>0.0439</td>\n",
       "      <td>-0.0238</td>\n",
       "      <td>0.0485</td>\n",
       "      <td>0.0539</td>\n",
       "      <td>-0.0075</td>\n",
       "      <td>-0.0013</td>\n",
       "      <td>0.0447</td>\n",
       "      <td>0.0676</td>\n",
       "    </tr>\n",
       "    <tr>\n",
       "      <th>1926-09</th>\n",
       "      <td>0.0116</td>\n",
       "      <td>0.0402</td>\n",
       "      <td>0.0126</td>\n",
       "      <td>0.0658</td>\n",
       "      <td>-0.0099</td>\n",
       "      <td>0.0073</td>\n",
       "      <td>-0.0051</td>\n",
       "      <td>0.0069</td>\n",
       "      <td>0.0533</td>\n",
       "      <td>0.0230</td>\n",
       "      <td>...</td>\n",
       "      <td>0.0241</td>\n",
       "      <td>0.0225</td>\n",
       "      <td>0.0019</td>\n",
       "      <td>-0.0554</td>\n",
       "      <td>0.0007</td>\n",
       "      <td>-0.0787</td>\n",
       "      <td>0.0025</td>\n",
       "      <td>-0.0056</td>\n",
       "      <td>-0.0161</td>\n",
       "      <td>-0.0386</td>\n",
       "    </tr>\n",
       "  </tbody>\n",
       "</table>\n",
       "<p>3 rows × 30 columns</p>\n",
       "</div>"
      ],
      "text/plain": [
       "          Food    Beer    Smoke   Games   Books   Hshld   Clths   Hlth   \\\n",
       "1926-07  0.0056 -0.0519  0.0129  0.0293  0.1097 -0.0048  0.0808  0.0177   \n",
       "1926-08  0.0259  0.2703  0.0650  0.0055  0.1001 -0.0358 -0.0251  0.0425   \n",
       "1926-09  0.0116  0.0402  0.0126  0.0658 -0.0099  0.0073 -0.0051  0.0069   \n",
       "\n",
       "          Chems   Txtls  ...   Telcm   Servs   BusEq   Paper   Trans   Whlsl  \\\n",
       "1926-07  0.0814  0.0039  ...  0.0083  0.0922  0.0206  0.0770  0.0191 -0.2379   \n",
       "1926-08  0.0550  0.0797  ...  0.0217  0.0202  0.0439 -0.0238  0.0485  0.0539   \n",
       "1926-09  0.0533  0.0230  ...  0.0241  0.0225  0.0019 -0.0554  0.0007 -0.0787   \n",
       "\n",
       "          Rtail   Meals   Fin     Other  \n",
       "1926-07  0.0007  0.0187 -0.0002  0.0520  \n",
       "1926-08 -0.0075 -0.0013  0.0447  0.0676  \n",
       "1926-09  0.0025 -0.0056 -0.0161 -0.0386  \n",
       "\n",
       "[3 rows x 30 columns]"
      ]
     },
     "execution_count": 3,
     "metadata": {},
     "output_type": "execute_result"
    }
   ],
   "source": [
    "ret = pd.read_csv(\"data/data3_industry_30_vw_monthly.csv\",\n",
    "                 header=0, index_col=0)/100   #percentage to decimals right away\n",
    "ret.index = pd.to_datetime(ret.index, format=\"%Y%m\").to_period(\"M\")\n",
    "ret.head(3)"
   ]
  },
  {
   "cell_type": "code",
   "execution_count": 6,
   "id": "07842ad6-948b-4ae7-a506-abe66fecef12",
   "metadata": {
    "tags": []
   },
   "outputs": [
    {
     "data": {
      "text/plain": [
       "Index(['Food', 'Beer', 'Smoke', 'Games', 'Books', 'Hshld', 'Clths', 'Hlth',\n",
       "       'Chems', 'Txtls', 'Cnstr', 'Steel', 'FabPr', 'ElcEq', 'Autos', 'Carry',\n",
       "       'Mines', 'Coal', 'Oil', 'Util', 'Telcm', 'Servs', 'BusEq', 'Paper',\n",
       "       'Trans', 'Whlsl', 'Rtail', 'Meals', 'Fin', 'Other'],\n",
       "      dtype='object')"
      ]
     },
     "execution_count": 6,
     "metadata": {},
     "output_type": "execute_result"
    }
   ],
   "source": [
    "ret.columns"
   ]
  },
  {
   "cell_type": "code",
   "execution_count": 7,
   "id": "8fcacdf4-2a95-44a6-b732-4580c8b38874",
   "metadata": {
    "tags": []
   },
   "outputs": [
    {
     "data": {
      "text/plain": [
       "Index(['Food', 'Beer', 'Smoke', 'Games', 'Books', 'Hshld', 'Clths', 'Hlth',\n",
       "       'Chems', 'Txtls', 'Cnstr', 'Steel', 'FabPr', 'ElcEq', 'Autos', 'Carry',\n",
       "       'Mines', 'Coal', 'Oil', 'Util', 'Telcm', 'Servs', 'BusEq', 'Paper',\n",
       "       'Trans', 'Whlsl', 'Rtail', 'Meals', 'Fin', 'Other'],\n",
       "      dtype='object')"
      ]
     },
     "execution_count": 7,
     "metadata": {},
     "output_type": "execute_result"
    }
   ],
   "source": [
    "ret.columns = ret.columns.str.strip() #remove the extra spaces in the column names\n",
    "ret.columns"
   ]
  },
  {
   "cell_type": "code",
   "execution_count": 10,
   "id": "ce357ffd-fc38-47d2-840f-4501f5fe468c",
   "metadata": {
    "tags": []
   },
   "outputs": [
    {
     "data": {
      "text/plain": [
       "<Axes: >"
      ]
     },
     "execution_count": 10,
     "metadata": {},
     "output_type": "execute_result"
    },
    {
     "data": {
      "image/png": "[encoded data removed]",
      "text/plain": [
       "<Figure size 800x300 with 1 Axes>"
      ]
     },
     "metadata": {},
     "output_type": "display_data"
    }
   ],
   "source": [
    "n_year = ret[\"2002\":].shape[0]/12  #computing the number of years since 2002\n",
    "eret = ((1+ret[\"2002\":]).prod())**(1/n_year)-1  #expected(average) annual return\n",
    "eret.sort_values().plot.bar(figsize=(8,3))"
   ]
  },
  {
   "cell_type": "code",
   "execution_count": 11,
   "id": "9f7bd0c4-e61a-4cf5-9cb9-6d4ea17758fc",
   "metadata": {
    "tags": []
   },
   "outputs": [
    {
     "data": {
      "text/html": [
       "<div>\n",
       "<style scoped>\n",
       "    .dataframe tbody tr th:only-of-type {\n",
       "        vertical-align: middle;\n",
       "    }\n",
       "\n",
       "    .dataframe tbody tr th {\n",
       "        vertical-align: top;\n",
       "    }\n",
       "\n",
       "    .dataframe thead th {\n",
       "        text-align: right;\n",
       "    }\n",
       "</style>\n",
       "<table border=\"1\" class=\"dataframe\">\n",
       "  <thead>\n",
       "    <tr style=\"text-align: right;\">\n",
       "      <th></th>\n",
       "      <th>Food</th>\n",
       "      <th>Beer</th>\n",
       "      <th>Smoke</th>\n",
       "      <th>Games</th>\n",
       "      <th>Books</th>\n",
       "      <th>Hshld</th>\n",
       "      <th>Clths</th>\n",
       "      <th>Hlth</th>\n",
       "      <th>Chems</th>\n",
       "      <th>Txtls</th>\n",
       "      <th>...</th>\n",
       "      <th>Telcm</th>\n",
       "      <th>Servs</th>\n",
       "      <th>BusEq</th>\n",
       "      <th>Paper</th>\n",
       "      <th>Trans</th>\n",
       "      <th>Whlsl</th>\n",
       "      <th>Rtail</th>\n",
       "      <th>Meals</th>\n",
       "      <th>Fin</th>\n",
       "      <th>Other</th>\n",
       "    </tr>\n",
       "  </thead>\n",
       "  <tbody>\n",
       "    <tr>\n",
       "      <th>Food</th>\n",
       "      <td>0.014584</td>\n",
       "      <td>0.011444</td>\n",
       "      <td>0.014720</td>\n",
       "      <td>0.018695</td>\n",
       "      <td>0.016820</td>\n",
       "      <td>0.011146</td>\n",
       "      <td>0.014478</td>\n",
       "      <td>0.010235</td>\n",
       "      <td>0.016717</td>\n",
       "      <td>0.021528</td>\n",
       "      <td>...</td>\n",
       "      <td>0.014347</td>\n",
       "      <td>0.013508</td>\n",
       "      <td>0.014819</td>\n",
       "      <td>0.013971</td>\n",
       "      <td>0.014024</td>\n",
       "      <td>0.014935</td>\n",
       "      <td>0.011871</td>\n",
       "      <td>0.012974</td>\n",
       "      <td>0.015314</td>\n",
       "      <td>0.013737</td>\n",
       "    </tr>\n",
       "    <tr>\n",
       "      <th>Beer</th>\n",
       "      <td>0.011444</td>\n",
       "      <td>0.017883</td>\n",
       "      <td>0.013826</td>\n",
       "      <td>0.013924</td>\n",
       "      <td>0.013194</td>\n",
       "      <td>0.011987</td>\n",
       "      <td>0.011975</td>\n",
       "      <td>0.010005</td>\n",
       "      <td>0.013547</td>\n",
       "      <td>0.016035</td>\n",
       "      <td>...</td>\n",
       "      <td>0.012279</td>\n",
       "      <td>0.010940</td>\n",
       "      <td>0.012070</td>\n",
       "      <td>0.012822</td>\n",
       "      <td>0.012322</td>\n",
       "      <td>0.012130</td>\n",
       "      <td>0.010532</td>\n",
       "      <td>0.011665</td>\n",
       "      <td>0.013083</td>\n",
       "      <td>0.012758</td>\n",
       "    </tr>\n",
       "    <tr>\n",
       "      <th>Smoke</th>\n",
       "      <td>0.014720</td>\n",
       "      <td>0.013826</td>\n",
       "      <td>0.045972</td>\n",
       "      <td>0.017741</td>\n",
       "      <td>0.017690</td>\n",
       "      <td>0.012106</td>\n",
       "      <td>0.013011</td>\n",
       "      <td>0.011872</td>\n",
       "      <td>0.014757</td>\n",
       "      <td>0.018106</td>\n",
       "      <td>...</td>\n",
       "      <td>0.016463</td>\n",
       "      <td>0.013424</td>\n",
       "      <td>0.016980</td>\n",
       "      <td>0.014890</td>\n",
       "      <td>0.014134</td>\n",
       "      <td>0.016097</td>\n",
       "      <td>0.009509</td>\n",
       "      <td>0.013073</td>\n",
       "      <td>0.015603</td>\n",
       "      <td>0.014752</td>\n",
       "    </tr>\n",
       "    <tr>\n",
       "      <th>Games</th>\n",
       "      <td>0.018695</td>\n",
       "      <td>0.013924</td>\n",
       "      <td>0.017741</td>\n",
       "      <td>0.064248</td>\n",
       "      <td>0.041778</td>\n",
       "      <td>0.018038</td>\n",
       "      <td>0.038500</td>\n",
       "      <td>0.020632</td>\n",
       "      <td>0.040233</td>\n",
       "      <td>0.058355</td>\n",
       "      <td>...</td>\n",
       "      <td>0.029437</td>\n",
       "      <td>0.035113</td>\n",
       "      <td>0.039236</td>\n",
       "      <td>0.031388</td>\n",
       "      <td>0.033720</td>\n",
       "      <td>0.033009</td>\n",
       "      <td>0.028029</td>\n",
       "      <td>0.028991</td>\n",
       "      <td>0.038456</td>\n",
       "      <td>0.031805</td>\n",
       "    </tr>\n",
       "  </tbody>\n",
       "</table>\n",
       "<p>4 rows × 30 columns</p>\n",
       "</div>"
      ],
      "text/plain": [
       "           Food      Beer     Smoke     Games     Books     Hshld     Clths  \\\n",
       "Food   0.014584  0.011444  0.014720  0.018695  0.016820  0.011146  0.014478   \n",
       "Beer   0.011444  0.017883  0.013826  0.013924  0.013194  0.011987  0.011975   \n",
       "Smoke  0.014720  0.013826  0.045972  0.017741  0.017690  0.012106  0.013011   \n",
       "Games  0.018695  0.013924  0.017741  0.064248  0.041778  0.018038  0.038500   \n",
       "\n",
       "           Hlth     Chems     Txtls  ...     Telcm     Servs     BusEq  \\\n",
       "Food   0.010235  0.016717  0.021528  ...  0.014347  0.013508  0.014819   \n",
       "Beer   0.010005  0.013547  0.016035  ...  0.012279  0.010940  0.012070   \n",
       "Smoke  0.011872  0.014757  0.018106  ...  0.016463  0.013424  0.016980   \n",
       "Games  0.020632  0.040233  0.058355  ...  0.029437  0.035113  0.039236   \n",
       "\n",
       "          Paper     Trans     Whlsl     Rtail     Meals       Fin     Other  \n",
       "Food   0.013971  0.014024  0.014935  0.011871  0.012974  0.015314  0.013737  \n",
       "Beer   0.012822  0.012322  0.012130  0.010532  0.011665  0.013083  0.012758  \n",
       "Smoke  0.014890  0.014134  0.016097  0.009509  0.013073  0.015603  0.014752  \n",
       "Games  0.031388  0.033720  0.033009  0.028029  0.028991  0.038456  0.031805  \n",
       "\n",
       "[4 rows x 30 columns]"
      ]
     },
     "execution_count": 11,
     "metadata": {},
     "output_type": "execute_result"
    }
   ],
   "source": [
    "# covariance matrix\n",
    "cov = ret[\"2002\":].cov()*12  #annual variance\n",
    "cov.head(4)"
   ]
  },
  {
   "cell_type": "code",
   "execution_count": 12,
   "id": "155dd6fd-2b54-4313-bdc4-c8051077dd63",
   "metadata": {
    "tags": []
   },
   "outputs": [],
   "source": [
    "#making a function for portfolio returns\n",
    "def portfolio_ret(weights, returns):\n",
    "    \"\"\"\n",
    "    weights + returns --> portfolio return\n",
    "    \"\"\"\n",
    "    return weights.T@returns #matrix multiplication: @"
   ]
  },
  {
   "cell_type": "code",
   "execution_count": 13,
   "id": "cf042c4a-b4a9-462f-b198-77259c1b16f4",
   "metadata": {
    "tags": []
   },
   "outputs": [],
   "source": [
    "#making a function for portfolio volatility\n",
    "def portfolio_vol(weights, covmat):\n",
    "    \"\"\"\n",
    "    weights + covariance matrix --> portfolio volatility\n",
    "    \"\"\"\n",
    "    return weights.T@covmat@weights"
   ]
  },
  {
   "cell_type": "code",
   "execution_count": 14,
   "id": "14758c69-da6d-453c-b528-5b7d3dd63536",
   "metadata": {
    "tags": []
   },
   "outputs": [
    {
     "data": {
      "text/plain": [
       "Food     0.083784\n",
       "Beer     0.099543\n",
       "Smoke    0.126471\n",
       "Games    0.115264\n",
       "dtype: float64"
      ]
     },
     "execution_count": 14,
     "metadata": {},
     "output_type": "execute_result"
    }
   ],
   "source": [
    "l = [\"Food\",\"Beer\",\"Smoke\",\"Games\"] \n",
    "eret[l]"
   ]
  },
  {
   "cell_type": "code",
   "execution_count": 16,
   "id": "9cbc08b9-c7d6-4ea7-bc70-15480c09ec3b",
   "metadata": {
    "tags": []
   },
   "outputs": [
    {
     "data": {
      "text/html": [
       "<div>\n",
       "<style scoped>\n",
       "    .dataframe tbody tr th:only-of-type {\n",
       "        vertical-align: middle;\n",
       "    }\n",
       "\n",
       "    .dataframe tbody tr th {\n",
       "        vertical-align: top;\n",
       "    }\n",
       "\n",
       "    .dataframe thead th {\n",
       "        text-align: right;\n",
       "    }\n",
       "</style>\n",
       "<table border=\"1\" class=\"dataframe\">\n",
       "  <thead>\n",
       "    <tr style=\"text-align: right;\">\n",
       "      <th></th>\n",
       "      <th>Food</th>\n",
       "      <th>Beer</th>\n",
       "      <th>Smoke</th>\n",
       "      <th>Games</th>\n",
       "    </tr>\n",
       "  </thead>\n",
       "  <tbody>\n",
       "    <tr>\n",
       "      <th>Food</th>\n",
       "      <td>0.014584</td>\n",
       "      <td>0.011444</td>\n",
       "      <td>0.014720</td>\n",
       "      <td>0.018695</td>\n",
       "    </tr>\n",
       "    <tr>\n",
       "      <th>Beer</th>\n",
       "      <td>0.011444</td>\n",
       "      <td>0.017883</td>\n",
       "      <td>0.013826</td>\n",
       "      <td>0.013924</td>\n",
       "    </tr>\n",
       "    <tr>\n",
       "      <th>Smoke</th>\n",
       "      <td>0.014720</td>\n",
       "      <td>0.013826</td>\n",
       "      <td>0.045972</td>\n",
       "      <td>0.017741</td>\n",
       "    </tr>\n",
       "    <tr>\n",
       "      <th>Games</th>\n",
       "      <td>0.018695</td>\n",
       "      <td>0.013924</td>\n",
       "      <td>0.017741</td>\n",
       "      <td>0.064248</td>\n",
       "    </tr>\n",
       "  </tbody>\n",
       "</table>\n",
       "</div>"
      ],
      "text/plain": [
       "           Food      Beer     Smoke     Games\n",
       "Food   0.014584  0.011444  0.014720  0.018695\n",
       "Beer   0.011444  0.017883  0.013826  0.013924\n",
       "Smoke  0.014720  0.013826  0.045972  0.017741\n",
       "Games  0.018695  0.013924  0.017741  0.064248"
      ]
     },
     "execution_count": 16,
     "metadata": {},
     "output_type": "execute_result"
    }
   ],
   "source": [
    "cov.loc[l,l] #.loc:location, covariance matrix of 4x4 "
   ]
  },
  {
   "cell_type": "code",
   "execution_count": 17,
   "id": "9721fcee-1a40-4809-9294-7377593f0fe0",
   "metadata": {
    "tags": []
   },
   "outputs": [
    {
     "data": {
      "text/plain": [
       "array([0.25, 0.25, 0.25, 0.25])"
      ]
     },
     "execution_count": 17,
     "metadata": {},
     "output_type": "execute_result"
    }
   ],
   "source": [
    "w = np.array([.25,.25,.25,.25])\n",
    "w"
   ]
  },
  {
   "cell_type": "code",
   "execution_count": 19,
   "id": "eb0606f7-7ef3-48b6-b919-1bdc464d530c",
   "metadata": {
    "tags": []
   },
   "outputs": [
    {
     "data": {
      "text/plain": [
       "0.10626554205342381"
      ]
     },
     "execution_count": 19,
     "metadata": {},
     "output_type": "execute_result"
    }
   ],
   "source": [
    "portfolio_ret(w,eret[l])"
   ]
  },
  {
   "cell_type": "code",
   "execution_count": 20,
   "id": "90056149-285e-405f-8af9-7758e64f5010",
   "metadata": {
    "tags": []
   },
   "outputs": [
    {
     "data": {
      "text/plain": [
       "0.020211585566963182"
      ]
     },
     "execution_count": 20,
     "metadata": {},
     "output_type": "execute_result"
    }
   ],
   "source": [
    "portfolio_vol(w,cov.loc[l,l])"
   ]
  },
  {
   "cell_type": "markdown",
   "id": "8ca3de60-e116-4dd6-b310-e103287351a2",
   "metadata": {},
   "source": [
    "## The case of two-assets:"
   ]
  },
  {
   "cell_type": "code",
   "execution_count": 21,
   "id": "62a89b0a-6e08-4f18-b2a8-f0a809b7ac36",
   "metadata": {
    "tags": []
   },
   "outputs": [
    {
     "data": {
      "text/plain": [
       "[array([0., 1.]),\n",
       " array([0.05, 0.95]),\n",
       " array([0.1, 0.9]),\n",
       " array([0.15, 0.85]),\n",
       " array([0.2, 0.8]),\n",
       " array([0.25, 0.75]),\n",
       " array([0.3, 0.7]),\n",
       " array([0.35, 0.65]),\n",
       " array([0.4, 0.6]),\n",
       " array([0.45, 0.55]),\n",
       " array([0.5, 0.5]),\n",
       " array([0.55, 0.45]),\n",
       " array([0.6, 0.4]),\n",
       " array([0.65, 0.35]),\n",
       " array([0.7, 0.3]),\n",
       " array([0.75, 0.25]),\n",
       " array([0.8, 0.2]),\n",
       " array([0.85, 0.15]),\n",
       " array([0.9, 0.1]),\n",
       " array([0.95, 0.05]),\n",
       " array([1., 0.])]"
      ]
     },
     "execution_count": 21,
     "metadata": {},
     "output_type": "execute_result"
    }
   ],
   "source": [
    "weights = [np.array([w,1-w]) for w in np.linspace(0,1,21)]  #list comprehension--> np.linspace: linear spacing btw 2 numbers\n",
    "weights"
   ]
  },
  {
   "cell_type": "code",
   "execution_count": 22,
   "id": "c6f689a3-e469-46b1-ab1a-b166b07d7a1c",
   "metadata": {
    "tags": []
   },
   "outputs": [
    {
     "data": {
      "text/html": [
       "<div>\n",
       "<style scoped>\n",
       "    .dataframe tbody tr th:only-of-type {\n",
       "        vertical-align: middle;\n",
       "    }\n",
       "\n",
       "    .dataframe tbody tr th {\n",
       "        vertical-align: top;\n",
       "    }\n",
       "\n",
       "    .dataframe thead th {\n",
       "        text-align: right;\n",
       "    }\n",
       "</style>\n",
       "<table border=\"1\" class=\"dataframe\">\n",
       "  <thead>\n",
       "    <tr style=\"text-align: right;\">\n",
       "      <th></th>\n",
       "      <th>R</th>\n",
       "      <th>V</th>\n",
       "    </tr>\n",
       "  </thead>\n",
       "  <tbody>\n",
       "    <tr>\n",
       "      <th>0</th>\n",
       "      <td>0.099543</td>\n",
       "      <td>0.017883</td>\n",
       "    </tr>\n",
       "    <tr>\n",
       "      <th>1</th>\n",
       "      <td>0.100329</td>\n",
       "      <td>0.017623</td>\n",
       "    </tr>\n",
       "    <tr>\n",
       "      <th>2</th>\n",
       "      <td>0.101115</td>\n",
       "      <td>0.017634</td>\n",
       "    </tr>\n",
       "    <tr>\n",
       "      <th>3</th>\n",
       "      <td>0.101901</td>\n",
       "      <td>0.017917</td>\n",
       "    </tr>\n",
       "    <tr>\n",
       "      <th>4</th>\n",
       "      <td>0.102687</td>\n",
       "      <td>0.018471</td>\n",
       "    </tr>\n",
       "  </tbody>\n",
       "</table>\n",
       "</div>"
      ],
      "text/plain": [
       "          R         V\n",
       "0  0.099543  0.017883\n",
       "1  0.100329  0.017623\n",
       "2  0.101115  0.017634\n",
       "3  0.101901  0.017917\n",
       "4  0.102687  0.018471"
      ]
     },
     "execution_count": 22,
     "metadata": {},
     "output_type": "execute_result"
    }
   ],
   "source": [
    "l = [\"Games\",\"Beer\"]  #two assets\n",
    "ereturns = [portfolio_ret(w, eret[l]) for w in weights] \n",
    "vols = [portfolio_vol(w,cov.loc[l,l]) for w in weights]\n",
    "ef = pd.DataFrame({\"R\": ereturns,\n",
    "                  \"V\": vols})\n",
    "ef.head()"
   ]
  },
  {
   "cell_type": "code",
   "execution_count": 23,
   "id": "b6ce1ea7-2e70-42cb-b121-01566ee9c10b",
   "metadata": {
    "tags": []
   },
   "outputs": [
    {
     "data": {
      "text/plain": [
       "<Axes: xlabel='V', ylabel='R'>"
      ]
     },
     "execution_count": 23,
     "metadata": {},
     "output_type": "execute_result"
    },
    {
     "data": {
      "image/png": "[encoded data removed]",
      "text/plain": [
       "<Figure size 640x480 with 1 Axes>"
      ]
     },
     "metadata": {},
     "output_type": "display_data"
    }
   ],
   "source": [
    "#plot the efficient frontier\n",
    "ef.plot.scatter(x=\"V\", y=\"R\")"
   ]
  },
  {
   "cell_type": "code",
   "execution_count": 24,
   "id": "aceb6bde-d376-413c-95ea-941fdcad77db",
   "metadata": {
    "tags": []
   },
   "outputs": [
    {
     "data": {
      "text/plain": [
       "<Axes: xlabel='V'>"
      ]
     },
     "execution_count": 24,
     "metadata": {},
     "output_type": "execute_result"
    },
    {
     "data": {
      "image/png": "[encoded data removed]",
      "text/plain": [
       "<Figure size 640x480 with 1 Axes>"
      ]
     },
     "metadata": {},
     "output_type": "display_data"
    }
   ],
   "source": [
    "ef.plot.line(x=\"V\", y=\"R\")"
   ]
  },
  {
   "cell_type": "code",
   "execution_count": null,
   "id": "115af062-6134-4e0d-ada4-8ed75ea4ba14",
   "metadata": {},
   "outputs": [],
   "source": []
  }
 ],
 "metadata": {
  "kernelspec": {
   "display_name": "Python 3 (ipykernel)",
   "language": "python",
   "name": "python3"
  },
  "language_info": {
   "codemirror_mode": {
    "name": "ipython",
    "version": 3
   },
   "file_extension": ".py",
   "mimetype": "text/x-python",
   "name": "python",
   "nbconvert_exporter": "python",
   "pygments_lexer": "ipython3",
   "version": "3.11.9"
  }
 },
 "nbformat": 4,
 "nbformat_minor": 5
}
