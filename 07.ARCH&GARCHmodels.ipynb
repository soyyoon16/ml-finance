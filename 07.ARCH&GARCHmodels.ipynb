{
 "cells": [
  {
   "cell_type": "markdown",
   "id": "58c253ce-16e8-44de-b8c9-444fcdd5914e",
   "metadata": {},
   "source": [
    "# 7. ARCH and GARCH models"
   ]
  },
  {
   "cell_type": "code",
   "execution_count": 2,
   "id": "42c77e09-0f0d-4461-a55b-197405134595",
   "metadata": {
    "tags": []
   },
   "outputs": [],
   "source": [
    "import numpy as np\n",
    "import pandas as pd\n",
    "import matplotlib.pyplot as plt\n",
    "\n",
    "import statsmodels.graphics.tsaplots as sgt #for ACF and PACF\n",
    "import statsmodels.tsa.stattools as sts #for adf test\n",
    "\n",
    "from statsmodels.tsa.arima.model import ARIMA\n"
   ]
  },
  {
   "cell_type": "code",
   "execution_count": 4,
   "id": "d47d44b8-b16c-4622-8a7d-9a54fedd5af3",
   "metadata": {
    "tags": []
   },
   "outputs": [
    {
     "data": {
      "text/html": [
       "<div>\n",
       "<style scoped>\n",
       "    .dataframe tbody tr th:only-of-type {\n",
       "        vertical-align: middle;\n",
       "    }\n",
       "\n",
       "    .dataframe tbody tr th {\n",
       "        vertical-align: top;\n",
       "    }\n",
       "\n",
       "    .dataframe thead th {\n",
       "        text-align: right;\n",
       "    }\n",
       "</style>\n",
       "<table border=\"1\" class=\"dataframe\">\n",
       "  <thead>\n",
       "    <tr style=\"text-align: right;\">\n",
       "      <th></th>\n",
       "      <th>price</th>\n",
       "    </tr>\n",
       "    <tr>\n",
       "      <th>DATE</th>\n",
       "      <th></th>\n",
       "    </tr>\n",
       "  </thead>\n",
       "  <tbody>\n",
       "    <tr>\n",
       "      <th>2013-03-04</th>\n",
       "      <td>1525.20</td>\n",
       "    </tr>\n",
       "    <tr>\n",
       "      <th>2013-03-05</th>\n",
       "      <td>1539.79</td>\n",
       "    </tr>\n",
       "    <tr>\n",
       "      <th>2013-03-06</th>\n",
       "      <td>1541.46</td>\n",
       "    </tr>\n",
       "    <tr>\n",
       "      <th>2013-03-07</th>\n",
       "      <td>1544.26</td>\n",
       "    </tr>\n",
       "    <tr>\n",
       "      <th>2013-03-08</th>\n",
       "      <td>1551.18</td>\n",
       "    </tr>\n",
       "  </tbody>\n",
       "</table>\n",
       "</div>"
      ],
      "text/plain": [
       "              price\n",
       "DATE               \n",
       "2013-03-04  1525.20\n",
       "2013-03-05  1539.79\n",
       "2013-03-06  1541.46\n",
       "2013-03-07  1544.26\n",
       "2013-03-08  1551.18"
      ]
     },
     "execution_count": 4,
     "metadata": {},
     "output_type": "execute_result"
    }
   ],
   "source": [
    "sp = pd.read_csv(\"data/data7_SP500.csv\",\n",
    "                header=0, index_col=0, na_values=\".\")\n",
    "sp.index = pd.to_datetime(sp.index)\n",
    "sp = sp.fillna(method='ffill') \n",
    "sp = sp[\"2013\":\"2022\"]\n",
    "sp.columns = ['price']\n",
    "sp.head()"
   ]
  },
  {
   "cell_type": "code",
   "execution_count": 6,
   "id": "75b28384-0fee-4078-92ff-88965e78e93e",
   "metadata": {
    "tags": []
   },
   "outputs": [
    {
     "data": {
      "text/html": [
       "<div>\n",
       "<style scoped>\n",
       "    .dataframe tbody tr th:only-of-type {\n",
       "        vertical-align: middle;\n",
       "    }\n",
       "\n",
       "    .dataframe tbody tr th {\n",
       "        vertical-align: top;\n",
       "    }\n",
       "\n",
       "    .dataframe thead th {\n",
       "        text-align: right;\n",
       "    }\n",
       "</style>\n",
       "<table border=\"1\" class=\"dataframe\">\n",
       "  <thead>\n",
       "    <tr style=\"text-align: right;\">\n",
       "      <th></th>\n",
       "      <th>price</th>\n",
       "      <th>ret</th>\n",
       "      <th>sqret</th>\n",
       "    </tr>\n",
       "    <tr>\n",
       "      <th>DATE</th>\n",
       "      <th></th>\n",
       "      <th></th>\n",
       "      <th></th>\n",
       "    </tr>\n",
       "  </thead>\n",
       "  <tbody>\n",
       "    <tr>\n",
       "      <th>2013-03-04</th>\n",
       "      <td>1525.20</td>\n",
       "      <td>NaN</td>\n",
       "      <td>NaN</td>\n",
       "    </tr>\n",
       "    <tr>\n",
       "      <th>2013-03-05</th>\n",
       "      <td>1539.79</td>\n",
       "      <td>0.956596</td>\n",
       "      <td>0.915076</td>\n",
       "    </tr>\n",
       "    <tr>\n",
       "      <th>2013-03-06</th>\n",
       "      <td>1541.46</td>\n",
       "      <td>0.108456</td>\n",
       "      <td>0.011763</td>\n",
       "    </tr>\n",
       "  </tbody>\n",
       "</table>\n",
       "</div>"
      ],
      "text/plain": [
       "              price       ret     sqret\n",
       "DATE                                   \n",
       "2013-03-04  1525.20       NaN       NaN\n",
       "2013-03-05  1539.79  0.956596  0.915076\n",
       "2013-03-06  1541.46  0.108456  0.011763"
      ]
     },
     "execution_count": 6,
     "metadata": {},
     "output_type": "execute_result"
    }
   ],
   "source": [
    "sp['ret'] = sp.price.pct_change()*100\n",
    "sp['sqret'] = sp.ret.mul(sp.ret)   #element-wise multiplication  to get the squared returns\n",
    "sp.head(3)"
   ]
  },
  {
   "cell_type": "code",
   "execution_count": 7,
   "id": "f6fb5a3d-d348-4c42-855c-c15f93470160",
   "metadata": {
    "tags": []
   },
   "outputs": [
    {
     "data": {
      "text/plain": [
       "<Axes: xlabel='DATE'>"
      ]
     },
     "execution_count": 7,
     "metadata": {},
     "output_type": "execute_result"
    },
    {
     "data": {
      "image/png": "[encoded data removed]",
      "text/plain": [
       "<Figure size 900x300 with 1 Axes>"
      ]
     },
     "metadata": {},
     "output_type": "display_data"
    }
   ],
   "source": [
    "sp.ret.plot(figsize=(9,3))"
   ]
  },
  {
   "cell_type": "code",
   "execution_count": 9,
   "id": "73ed25be-48b2-437e-857f-f13ba1f04acd",
   "metadata": {
    "tags": []
   },
   "outputs": [
    {
     "data": {
      "text/plain": [
       "<Axes: xlabel='DATE'>"
      ]
     },
     "execution_count": 9,
     "metadata": {},
     "output_type": "execute_result"
    },
    {
     "data": {
      "image/png": "[encoded data removed]",
      "text/plain": [
       "<Figure size 900x300 with 1 Axes>"
      ]
     },
     "metadata": {},
     "output_type": "display_data"
    }
   ],
   "source": [
    "sp.sqret.plot(figsize=(9,3))"
   ]
  },
  {
   "cell_type": "code",
   "execution_count": 10,
   "id": "f636bd76-bdae-463f-b2d5-709e8c08f449",
   "metadata": {
    "tags": []
   },
   "outputs": [
    {
     "data": {
      "text/plain": [
       "Text(0.5, 1.0, 'PACF for sqret')"
      ]
     },
     "execution_count": 10,
     "metadata": {},
     "output_type": "execute_result"
    },
    {
     "data": {
      "image/png": "[encoded data removed]",
      "text/plain": [
       "<Figure size 640x480 with 1 Axes>"
      ]
     },
     "metadata": {},
     "output_type": "display_data"
    }
   ],
   "source": [
    "sgt.plot_pacf(sp.sqret[1:],lags=40,zero=False,method='ols')\n",
    "plt.title('PACF for sqret')"
   ]
  },
  {
   "cell_type": "code",
   "execution_count": 11,
   "id": "eaaa6b15-d373-4f33-9e8d-6c8959f76888",
   "metadata": {
    "tags": []
   },
   "outputs": [
    {
     "name": "stdout",
     "output_type": "stream",
     "text": [
      "Collecting arch\n",
      "  Obtaining dependency information for arch from https://files.pythonhosted.org/packages/24/b4/41ffe91f46eb3f49bf022c66f8768f469617329718d4246953ad3853c073/arch-6.3.0-cp311-cp311-win_amd64.whl.metadata\n",
      "  Downloading arch-6.3.0-cp311-cp311-win_amd64.whl.metadata (14 kB)\n",
      "Requirement already satisfied: numpy>=1.19 in c:\\users\\soyyo\\anaconda3\\lib\\site-packages (from arch) (1.24.3)\n",
      "Requirement already satisfied: scipy>=1.5 in c:\\users\\soyyo\\anaconda3\\lib\\site-packages (from arch) (1.11.1)\n",
      "Requirement already satisfied: pandas>=1.1 in c:\\users\\soyyo\\anaconda3\\lib\\site-packages (from arch) (2.0.3)\n",
      "Requirement already satisfied: statsmodels>=0.12 in c:\\users\\soyyo\\anaconda3\\lib\\site-packages (from arch) (0.14.0)\n",
      "Requirement already satisfied: python-dateutil>=2.8.2 in c:\\users\\soyyo\\anaconda3\\lib\\site-packages (from pandas>=1.1->arch) (2.8.2)\n",
      "Requirement already satisfied: pytz>=2020.1 in c:\\users\\soyyo\\anaconda3\\lib\\site-packages (from pandas>=1.1->arch) (2023.3.post1)\n",
      "Requirement already satisfied: tzdata>=2022.1 in c:\\users\\soyyo\\anaconda3\\lib\\site-packages (from pandas>=1.1->arch) (2023.3)\n",
      "Requirement already satisfied: patsy>=0.5.2 in c:\\users\\soyyo\\anaconda3\\lib\\site-packages (from statsmodels>=0.12->arch) (0.5.3)\n",
      "Requirement already satisfied: packaging>=21.3 in c:\\users\\soyyo\\anaconda3\\lib\\site-packages (from statsmodels>=0.12->arch) (23.1)\n",
      "Requirement already satisfied: six in c:\\users\\soyyo\\anaconda3\\lib\\site-packages (from patsy>=0.5.2->statsmodels>=0.12->arch) (1.16.0)\n",
      "Downloading arch-6.3.0-cp311-cp311-win_amd64.whl (924 kB)\n",
      "   ---------------------------------------- 0.0/924.1 kB ? eta -:--:--\n",
      "   ---------- ----------------------------- 235.5/924.1 kB 7.3 MB/s eta 0:00:01\n",
      "   --------------------------- ------------ 645.1/924.1 kB 8.1 MB/s eta 0:00:01\n",
      "   ---------------------------------------  921.6/924.1 kB 8.4 MB/s eta 0:00:01\n",
      "   ---------------------------------------- 924.1/924.1 kB 6.5 MB/s eta 0:00:00\n",
      "Installing collected packages: arch\n",
      "Successfully installed arch-6.3.0\n",
      "Note: you may need to restart the kernel to use updated packages.\n"
     ]
    }
   ],
   "source": [
    "pip install arch"
   ]
  },
  {
   "cell_type": "code",
   "execution_count": 12,
   "id": "a04f422c-5965-4a70-9d31-9d50122a26e7",
   "metadata": {
    "tags": []
   },
   "outputs": [],
   "source": [
    "from arch import arch_model"
   ]
  },
  {
   "cell_type": "code",
   "execution_count": 13,
   "id": "85e3c260-b0ee-410b-8476-71d90d3403f3",
   "metadata": {
    "tags": []
   },
   "outputs": [
    {
     "name": "stdout",
     "output_type": "stream",
     "text": [
      "Iteration:      2,   Func. Count:     14,   Neg. LLF: 5955.42762009179\n",
      "Iteration:      4,   Func. Count:     27,   Neg. LLF: 3509.529653127005\n",
      "Iteration:      6,   Func. Count:     34,   Neg. LLF: 3509.529526420574\n",
      "Optimization terminated successfully    (Exit mode 0)\n",
      "            Current function value: 3509.5295264205392\n",
      "            Iterations: 6\n",
      "            Function evaluations: 34\n",
      "            Gradient evaluations: 6\n"
     ]
    },
    {
     "data": {
      "text/html": [
       "<table class=\"simpletable\">\n",
       "<caption>Constant Mean - ARCH Model Results</caption>\n",
       "<tr>\n",
       "  <th>Dep. Variable:</th>         <td>ret</td>        <th>  R-squared:         </th>  <td>   0.000</td> \n",
       "</tr>\n",
       "<tr>\n",
       "  <th>Mean Model:</th>       <td>Constant Mean</td>   <th>  Adj. R-squared:    </th>  <td>   0.000</td> \n",
       "</tr>\n",
       "<tr>\n",
       "  <th>Vol Model:</th>            <td>ARCH</td>        <th>  Log-Likelihood:    </th> <td>  -3509.53</td>\n",
       "</tr>\n",
       "<tr>\n",
       "  <th>Distribution:</th>        <td>Normal</td>       <th>  AIC:               </th> <td>   7025.06</td>\n",
       "</tr>\n",
       "<tr>\n",
       "  <th>Method:</th>        <td>Maximum Likelihood</td> <th>  BIC:               </th> <td>   7042.61</td>\n",
       "</tr>\n",
       "<tr>\n",
       "  <th></th>                        <td></td>          <th>  No. Observations:  </th>    <td>2564</td>   \n",
       "</tr>\n",
       "<tr>\n",
       "  <th>Date:</th>           <td>Mon, Mar 04 2024</td>  <th>  Df Residuals:      </th>    <td>2563</td>   \n",
       "</tr>\n",
       "<tr>\n",
       "  <th>Time:</th>               <td>16:18:40</td>      <th>  Df Model:          </th>      <td>1</td>    \n",
       "</tr>\n",
       "</table>\n",
       "<table class=\"simpletable\">\n",
       "<caption>Mean Model</caption>\n",
       "<tr>\n",
       "   <td></td>     <th>coef</th>     <th>std err</th>      <th>t</th>       <th>P>|t|</th>    <th>95.0% Conf. Int.</th>  \n",
       "</tr>\n",
       "<tr>\n",
       "  <th>mu</th> <td>    0.0972</td> <td>1.891e-02</td> <td>    5.142</td> <td>2.721e-07</td> <td>[6.015e-02,  0.134]</td>\n",
       "</tr>\n",
       "</table>\n",
       "<table class=\"simpletable\">\n",
       "<caption>Volatility Model</caption>\n",
       "<tr>\n",
       "      <td></td>        <th>coef</th>     <th>std err</th>      <th>t</th>       <th>P>|t|</th>   <th>95.0% Conf. Int.</th> \n",
       "</tr>\n",
       "<tr>\n",
       "  <th>omega</th>    <td>    0.6056</td> <td>4.262e-02</td> <td>   14.211</td> <td>7.875e-46</td> <td>[  0.522,  0.689]</td>\n",
       "</tr>\n",
       "<tr>\n",
       "  <th>alpha[1]</th> <td>    0.5232</td> <td>8.394e-02</td> <td>    6.234</td> <td>4.560e-10</td> <td>[  0.359,  0.688]</td>\n",
       "</tr>\n",
       "</table><br/><br/>Covariance estimator: robust"
      ],
      "text/latex": [
       "\\begin{center}\n",
       "\\begin{tabular}{lclc}\n",
       "\\toprule\n",
       "\\textbf{Dep. Variable:} &        ret         & \\textbf{  R-squared:         } &     0.000   \\\\\n",
       "\\textbf{Mean Model:}    &   Constant Mean    & \\textbf{  Adj. R-squared:    } &     0.000   \\\\\n",
       "\\textbf{Vol Model:}     &        ARCH        & \\textbf{  Log-Likelihood:    } &   -3509.53  \\\\\n",
       "\\textbf{Distribution:}  &       Normal       & \\textbf{  AIC:               } &    7025.06  \\\\\n",
       "\\textbf{Method:}        & Maximum Likelihood & \\textbf{  BIC:               } &    7042.61  \\\\\n",
       "\\textbf{}               &                    & \\textbf{  No. Observations:  } &    2564     \\\\\n",
       "\\textbf{Date:}          &  Mon, Mar 04 2024  & \\textbf{  Df Residuals:      } &    2563     \\\\\n",
       "\\textbf{Time:}          &      16:18:40      & \\textbf{  Df Model:          } &     1       \\\\\n",
       "\\bottomrule\n",
       "\\end{tabular}\n",
       "\\begin{tabular}{lccccc}\n",
       "            & \\textbf{coef} & \\textbf{std err} & \\textbf{t} & \\textbf{P$> |$t$|$} & \\textbf{95.0\\% Conf. Int.}  \\\\\n",
       "\\midrule\n",
       "\\textbf{mu} &       0.0972  &    1.891e-02     &     5.142  &      2.721e-07       &    [6.015e-02,  0.134]      \\\\\n",
       "                  & \\textbf{coef} & \\textbf{std err} & \\textbf{t} & \\textbf{P$> |$t$|$} & \\textbf{95.0\\% Conf. Int.}  \\\\\n",
       "\\midrule\n",
       "\\textbf{omega}    &       0.6056  &    4.262e-02     &    14.211  &      7.875e-46       &     [  0.522,  0.689]       \\\\\n",
       "\\textbf{alpha[1]} &       0.5232  &    8.394e-02     &     6.234  &      4.560e-10       &     [  0.359,  0.688]       \\\\\n",
       "\\bottomrule\n",
       "\\end{tabular}\n",
       "%\\caption{Constant Mean - ARCH Model Results}\n",
       "\\end{center}\n",
       "\n",
       "Covariance estimator: robust"
      ],
      "text/plain": [
       "<class 'statsmodels.iolib.summary.Summary'>\n",
       "\"\"\"\n",
       "                      Constant Mean - ARCH Model Results                      \n",
       "==============================================================================\n",
       "Dep. Variable:                    ret   R-squared:                       0.000\n",
       "Mean Model:             Constant Mean   Adj. R-squared:                  0.000\n",
       "Vol Model:                       ARCH   Log-Likelihood:               -3509.53\n",
       "Distribution:                  Normal   AIC:                           7025.06\n",
       "Method:            Maximum Likelihood   BIC:                           7042.61\n",
       "                                        No. Observations:                 2564\n",
       "Date:                Mon, Mar 04 2024   Df Residuals:                     2563\n",
       "Time:                        16:18:40   Df Model:                            1\n",
       "                                Mean Model                                \n",
       "==========================================================================\n",
       "                 coef    std err          t      P>|t|    95.0% Conf. Int.\n",
       "--------------------------------------------------------------------------\n",
       "mu             0.0972  1.891e-02      5.142  2.721e-07 [6.015e-02,  0.134]\n",
       "                            Volatility Model                            \n",
       "========================================================================\n",
       "                 coef    std err          t      P>|t|  95.0% Conf. Int.\n",
       "------------------------------------------------------------------------\n",
       "omega          0.6056  4.262e-02     14.211  7.875e-46 [  0.522,  0.689]\n",
       "alpha[1]       0.5232  8.394e-02      6.234  4.560e-10 [  0.359,  0.688]\n",
       "========================================================================\n",
       "\n",
       "Covariance estimator: robust\n",
       "\"\"\""
      ]
     },
     "execution_count": 13,
     "metadata": {},
     "output_type": "execute_result"
    }
   ],
   "source": [
    "# specify mean eq and variance(volatility) eq\n",
    "model_arch1 = arch_model(sp.ret[1:], mean='Constant',vol='ARCH',p=1)  #mean model just constant no AR or MA specified\n",
    "results_arch1 = model_arch1.fit(update_freq=2)\n",
    "results_arch1.summary()"
   ]
  },
  {
   "cell_type": "code",
   "execution_count": 14,
   "id": "8949e93f-15ed-4a14-905f-f8ff9ef40e9b",
   "metadata": {
    "tags": []
   },
   "outputs": [
    {
     "name": "stdout",
     "output_type": "stream",
     "text": [
      "Iteration:      2,   Func. Count:     26,   Neg. LLF: 6083.548695201724\n",
      "Iteration:      4,   Func. Count:     50,   Neg. LLF: 3682.6830044606813\n",
      "Iteration:      6,   Func. Count:     72,   Neg. LLF: 3964.384208206405\n",
      "Iteration:      8,   Func. Count:     94,   Neg. LLF: 3387.914226670022\n",
      "Iteration:     10,   Func. Count:    117,   Neg. LLF: 3283.407682597045\n",
      "Iteration:     12,   Func. Count:    139,   Neg. LLF: 3351.5163933937424\n",
      "Iteration:     14,   Func. Count:    161,   Neg. LLF: 3187.3891696443834\n",
      "Iteration:     16,   Func. Count:    183,   Neg. LLF: 3174.8578709441126\n",
      "Iteration:     18,   Func. Count:    203,   Neg. LLF: 3174.8548230329316\n",
      "Iteration:     20,   Func. Count:    223,   Neg. LLF: 3174.8548072293484\n",
      "Optimization terminated successfully    (Exit mode 0)\n",
      "            Current function value: 3174.8548072293484\n",
      "            Iterations: 20\n",
      "            Function evaluations: 223\n",
      "            Gradient evaluations: 20\n"
     ]
    },
    {
     "data": {
      "text/html": [
       "<table class=\"simpletable\">\n",
       "<caption>Constant Mean - ARCH Model Results</caption>\n",
       "<tr>\n",
       "  <th>Dep. Variable:</th>         <td>ret</td>        <th>  R-squared:         </th>  <td>   0.000</td> \n",
       "</tr>\n",
       "<tr>\n",
       "  <th>Mean Model:</th>       <td>Constant Mean</td>   <th>  Adj. R-squared:    </th>  <td>   0.000</td> \n",
       "</tr>\n",
       "<tr>\n",
       "  <th>Vol Model:</th>            <td>ARCH</td>        <th>  Log-Likelihood:    </th> <td>  -3174.85</td>\n",
       "</tr>\n",
       "<tr>\n",
       "  <th>Distribution:</th>        <td>Normal</td>       <th>  AIC:               </th> <td>   6367.71</td>\n",
       "</tr>\n",
       "<tr>\n",
       "  <th>Method:</th>        <td>Maximum Likelihood</td> <th>  BIC:               </th> <td>   6420.35</td>\n",
       "</tr>\n",
       "<tr>\n",
       "  <th></th>                        <td></td>          <th>  No. Observations:  </th>    <td>2564</td>   \n",
       "</tr>\n",
       "<tr>\n",
       "  <th>Date:</th>           <td>Mon, Mar 04 2024</td>  <th>  Df Residuals:      </th>    <td>2563</td>   \n",
       "</tr>\n",
       "<tr>\n",
       "  <th>Time:</th>               <td>16:23:56</td>      <th>  Df Model:          </th>      <td>1</td>    \n",
       "</tr>\n",
       "</table>\n",
       "<table class=\"simpletable\">\n",
       "<caption>Mean Model</caption>\n",
       "<tr>\n",
       "   <td></td>     <th>coef</th>     <th>std err</th>      <th>t</th>       <th>P>|t|</th>    <th>95.0% Conf. Int.</th>  \n",
       "</tr>\n",
       "<tr>\n",
       "  <th>mu</th> <td>    0.0810</td> <td>1.414e-02</td> <td>    5.728</td> <td>1.018e-08</td> <td>[5.329e-02,  0.109]</td>\n",
       "</tr>\n",
       "</table>\n",
       "<table class=\"simpletable\">\n",
       "<caption>Volatility Model</caption>\n",
       "<tr>\n",
       "      <td></td>        <th>coef</th>     <th>std err</th>      <th>t</th>       <th>P>|t|</th>      <th>95.0% Conf. Int.</th>   \n",
       "</tr>\n",
       "<tr>\n",
       "  <th>omega</th>    <td>    0.1915</td> <td>2.584e-02</td> <td>    7.412</td> <td>1.244e-13</td>    <td>[  0.141,  0.242]</td>  \n",
       "</tr>\n",
       "<tr>\n",
       "  <th>alpha[1]</th> <td>    0.1990</td> <td>4.608e-02</td> <td>    4.319</td> <td>1.570e-05</td>    <td>[  0.109,  0.289]</td>  \n",
       "</tr>\n",
       "<tr>\n",
       "  <th>alpha[2]</th> <td>    0.1660</td> <td>3.171e-02</td> <td>    5.236</td> <td>1.642e-07</td>    <td>[  0.104,  0.228]</td>  \n",
       "</tr>\n",
       "<tr>\n",
       "  <th>alpha[3]</th> <td>    0.1750</td> <td>3.651e-02</td> <td>    4.792</td> <td>1.648e-06</td>    <td>[  0.103,  0.247]</td>  \n",
       "</tr>\n",
       "<tr>\n",
       "  <th>alpha[4]</th> <td>    0.1518</td> <td>4.455e-02</td> <td>    3.407</td> <td>6.579e-04</td>   <td>[6.445e-02,  0.239]</td> \n",
       "</tr>\n",
       "<tr>\n",
       "  <th>alpha[5]</th> <td>    0.0612</td> <td>2.602e-02</td> <td>    2.352</td> <td>1.868e-02</td>   <td>[1.020e-02,  0.112]</td> \n",
       "</tr>\n",
       "<tr>\n",
       "  <th>alpha[6]</th> <td>    0.0868</td> <td>2.865e-02</td> <td>    3.029</td> <td>2.456e-03</td>   <td>[3.062e-02,  0.143]</td> \n",
       "</tr>\n",
       "<tr>\n",
       "  <th>alpha[7]</th> <td>    0.0295</td> <td>2.321e-02</td> <td>    1.273</td> <td>    0.203</td> <td>[-1.595e-02,7.504e-02]</td>\n",
       "</tr>\n",
       "</table><br/><br/>Covariance estimator: robust"
      ],
      "text/latex": [
       "\\begin{center}\n",
       "\\begin{tabular}{lclc}\n",
       "\\toprule\n",
       "\\textbf{Dep. Variable:} &        ret         & \\textbf{  R-squared:         } &     0.000   \\\\\n",
       "\\textbf{Mean Model:}    &   Constant Mean    & \\textbf{  Adj. R-squared:    } &     0.000   \\\\\n",
       "\\textbf{Vol Model:}     &        ARCH        & \\textbf{  Log-Likelihood:    } &   -3174.85  \\\\\n",
       "\\textbf{Distribution:}  &       Normal       & \\textbf{  AIC:               } &    6367.71  \\\\\n",
       "\\textbf{Method:}        & Maximum Likelihood & \\textbf{  BIC:               } &    6420.35  \\\\\n",
       "\\textbf{}               &                    & \\textbf{  No. Observations:  } &    2564     \\\\\n",
       "\\textbf{Date:}          &  Mon, Mar 04 2024  & \\textbf{  Df Residuals:      } &    2563     \\\\\n",
       "\\textbf{Time:}          &      16:23:56      & \\textbf{  Df Model:          } &     1       \\\\\n",
       "\\bottomrule\n",
       "\\end{tabular}\n",
       "\\begin{tabular}{lccccc}\n",
       "            & \\textbf{coef} & \\textbf{std err} & \\textbf{t} & \\textbf{P$> |$t$|$} & \\textbf{95.0\\% Conf. Int.}  \\\\\n",
       "\\midrule\n",
       "\\textbf{mu} &       0.0810  &    1.414e-02     &     5.728  &      1.018e-08       &    [5.329e-02,  0.109]      \\\\\n",
       "                  & \\textbf{coef} & \\textbf{std err} & \\textbf{t} & \\textbf{P$> |$t$|$} & \\textbf{95.0\\% Conf. Int.}  \\\\\n",
       "\\midrule\n",
       "\\textbf{omega}    &       0.1915  &    2.584e-02     &     7.412  &      1.244e-13       &     [  0.141,  0.242]       \\\\\n",
       "\\textbf{alpha[1]} &       0.1990  &    4.608e-02     &     4.319  &      1.570e-05       &     [  0.109,  0.289]       \\\\\n",
       "\\textbf{alpha[2]} &       0.1660  &    3.171e-02     &     5.236  &      1.642e-07       &     [  0.104,  0.228]       \\\\\n",
       "\\textbf{alpha[3]} &       0.1750  &    3.651e-02     &     4.792  &      1.648e-06       &     [  0.103,  0.247]       \\\\\n",
       "\\textbf{alpha[4]} &       0.1518  &    4.455e-02     &     3.407  &      6.579e-04       &    [6.445e-02,  0.239]      \\\\\n",
       "\\textbf{alpha[5]} &       0.0612  &    2.602e-02     &     2.352  &      1.868e-02       &    [1.020e-02,  0.112]      \\\\\n",
       "\\textbf{alpha[6]} &       0.0868  &    2.865e-02     &     3.029  &      2.456e-03       &    [3.062e-02,  0.143]      \\\\\n",
       "\\textbf{alpha[7]} &       0.0295  &    2.321e-02     &     1.273  &          0.203       &   [-1.595e-02,7.504e-02]    \\\\\n",
       "\\bottomrule\n",
       "\\end{tabular}\n",
       "%\\caption{Constant Mean - ARCH Model Results}\n",
       "\\end{center}\n",
       "\n",
       "Covariance estimator: robust"
      ],
      "text/plain": [
       "<class 'statsmodels.iolib.summary.Summary'>\n",
       "\"\"\"\n",
       "                      Constant Mean - ARCH Model Results                      \n",
       "==============================================================================\n",
       "Dep. Variable:                    ret   R-squared:                       0.000\n",
       "Mean Model:             Constant Mean   Adj. R-squared:                  0.000\n",
       "Vol Model:                       ARCH   Log-Likelihood:               -3174.85\n",
       "Distribution:                  Normal   AIC:                           6367.71\n",
       "Method:            Maximum Likelihood   BIC:                           6420.35\n",
       "                                        No. Observations:                 2564\n",
       "Date:                Mon, Mar 04 2024   Df Residuals:                     2563\n",
       "Time:                        16:23:56   Df Model:                            1\n",
       "                                Mean Model                                \n",
       "==========================================================================\n",
       "                 coef    std err          t      P>|t|    95.0% Conf. Int.\n",
       "--------------------------------------------------------------------------\n",
       "mu             0.0810  1.414e-02      5.728  1.018e-08 [5.329e-02,  0.109]\n",
       "                               Volatility Model                              \n",
       "=============================================================================\n",
       "                 coef    std err          t      P>|t|       95.0% Conf. Int.\n",
       "-----------------------------------------------------------------------------\n",
       "omega          0.1915  2.584e-02      7.412  1.244e-13      [  0.141,  0.242]\n",
       "alpha[1]       0.1990  4.608e-02      4.319  1.570e-05      [  0.109,  0.289]\n",
       "alpha[2]       0.1660  3.171e-02      5.236  1.642e-07      [  0.104,  0.228]\n",
       "alpha[3]       0.1750  3.651e-02      4.792  1.648e-06      [  0.103,  0.247]\n",
       "alpha[4]       0.1518  4.455e-02      3.407  6.579e-04    [6.445e-02,  0.239]\n",
       "alpha[5]       0.0612  2.602e-02      2.352  1.868e-02    [1.020e-02,  0.112]\n",
       "alpha[6]       0.0868  2.865e-02      3.029  2.456e-03    [3.062e-02,  0.143]\n",
       "alpha[7]       0.0295  2.321e-02      1.273      0.203 [-1.595e-02,7.504e-02]\n",
       "=============================================================================\n",
       "\n",
       "Covariance estimator: robust\n",
       "\"\"\""
      ]
     },
     "execution_count": 14,
     "metadata": {},
     "output_type": "execute_result"
    }
   ],
   "source": [
    "model_arch = arch_model(sp.ret[1:], mean='Constant',vol='ARCH',p=7)  #mean model just constant no AR or MA specified\n",
    "results_arch = model_arch.fit(update_freq=2)\n",
    "results_arch.summary()"
   ]
  },
  {
   "cell_type": "code",
   "execution_count": 15,
   "id": "a045918c-0db7-48e4-8f70-1b566b15274b",
   "metadata": {
    "tags": []
   },
   "outputs": [
    {
     "name": "stdout",
     "output_type": "stream",
     "text": [
      "Iteration:      2,   Func. Count:     19,   Neg. LLF: 2345846.5069509787\n",
      "Iteration:      4,   Func. Count:     40,   Neg. LLF: 4157289.540611948\n",
      "Iteration:      6,   Func. Count:     58,   Neg. LLF: 3358.3495514926512\n",
      "Iteration:      8,   Func. Count:     74,   Neg. LLF: 3339.418816055104\n",
      "Iteration:     10,   Func. Count:     88,   Neg. LLF: 3339.3471393715627\n",
      "Optimization terminated successfully    (Exit mode 0)\n",
      "            Current function value: 3339.3471393717155\n",
      "            Iterations: 10\n",
      "            Function evaluations: 88\n",
      "            Gradient evaluations: 10\n"
     ]
    },
    {
     "data": {
      "text/html": [
       "<table class=\"simpletable\">\n",
       "<caption>AR - ARCH Model Results</caption>\n",
       "<tr>\n",
       "  <th>Dep. Variable:</th>         <td>ret</td>        <th>  R-squared:         </th>  <td>   0.006</td> \n",
       "</tr>\n",
       "<tr>\n",
       "  <th>Mean Model:</th>            <td>AR</td>         <th>  Adj. R-squared:    </th>  <td>   0.005</td> \n",
       "</tr>\n",
       "<tr>\n",
       "  <th>Vol Model:</th>            <td>ARCH</td>        <th>  Log-Likelihood:    </th> <td>  -3339.35</td>\n",
       "</tr>\n",
       "<tr>\n",
       "  <th>Distribution:</th>        <td>Normal</td>       <th>  AIC:               </th> <td>   6690.69</td>\n",
       "</tr>\n",
       "<tr>\n",
       "  <th>Method:</th>        <td>Maximum Likelihood</td> <th>  BIC:               </th> <td>   6725.79</td>\n",
       "</tr>\n",
       "<tr>\n",
       "  <th></th>                        <td></td>          <th>  No. Observations:  </th>    <td>2562</td>   \n",
       "</tr>\n",
       "<tr>\n",
       "  <th>Date:</th>           <td>Mon, Mar 04 2024</td>  <th>  Df Residuals:      </th>    <td>2559</td>   \n",
       "</tr>\n",
       "<tr>\n",
       "  <th>Time:</th>               <td>16:27:16</td>      <th>  Df Model:          </th>      <td>3</td>    \n",
       "</tr>\n",
       "</table>\n",
       "<table class=\"simpletable\">\n",
       "<caption>Mean Model</caption>\n",
       "<tr>\n",
       "     <td></td>       <th>coef</th>      <th>std err</th>      <th>t</th>       <th>P>|t|</th>      <th>95.0% Conf. Int.</th>   \n",
       "</tr>\n",
       "<tr>\n",
       "  <th>Const</th>  <td>    0.0788</td>  <td>1.784e-02</td> <td>    4.419</td> <td>9.915e-06</td>   <td>[4.386e-02,  0.114]</td> \n",
       "</tr>\n",
       "<tr>\n",
       "  <th>ret[1]</th> <td>-7.8584e-03</td> <td>3.818e-02</td> <td>   -0.206</td> <td>    0.837</td> <td>[-8.269e-02,6.697e-02]</td>\n",
       "</tr>\n",
       "<tr>\n",
       "  <th>ret[2]</th> <td>    0.0450</td>  <td>4.775e-02</td> <td>    0.943</td> <td>    0.346</td>  <td>[-4.855e-02,  0.139]</td> \n",
       "</tr>\n",
       "</table>\n",
       "<table class=\"simpletable\">\n",
       "<caption>Volatility Model</caption>\n",
       "<tr>\n",
       "      <td></td>        <th>coef</th>     <th>std err</th>      <th>t</th>       <th>P>|t|</th>   <th>95.0% Conf. Int.</th> \n",
       "</tr>\n",
       "<tr>\n",
       "  <th>omega</th>    <td>    0.3965</td> <td>3.302e-02</td> <td>   12.009</td> <td>3.199e-33</td> <td>[  0.332,  0.461]</td>\n",
       "</tr>\n",
       "<tr>\n",
       "  <th>alpha[1]</th> <td>    0.3519</td> <td>5.527e-02</td> <td>    6.367</td> <td>1.933e-10</td> <td>[  0.244,  0.460]</td>\n",
       "</tr>\n",
       "<tr>\n",
       "  <th>alpha[2]</th> <td>    0.3398</td> <td>4.994e-02</td> <td>    6.803</td> <td>1.024e-11</td> <td>[  0.242,  0.438]</td>\n",
       "</tr>\n",
       "</table><br/><br/>Covariance estimator: robust"
      ],
      "text/latex": [
       "\\begin{center}\n",
       "\\begin{tabular}{lclc}\n",
       "\\toprule\n",
       "\\textbf{Dep. Variable:} &        ret         & \\textbf{  R-squared:         } &     0.006   \\\\\n",
       "\\textbf{Mean Model:}    &         AR         & \\textbf{  Adj. R-squared:    } &     0.005   \\\\\n",
       "\\textbf{Vol Model:}     &        ARCH        & \\textbf{  Log-Likelihood:    } &   -3339.35  \\\\\n",
       "\\textbf{Distribution:}  &       Normal       & \\textbf{  AIC:               } &    6690.69  \\\\\n",
       "\\textbf{Method:}        & Maximum Likelihood & \\textbf{  BIC:               } &    6725.79  \\\\\n",
       "\\textbf{}               &                    & \\textbf{  No. Observations:  } &    2562     \\\\\n",
       "\\textbf{Date:}          &  Mon, Mar 04 2024  & \\textbf{  Df Residuals:      } &    2559     \\\\\n",
       "\\textbf{Time:}          &      16:27:16      & \\textbf{  Df Model:          } &     3       \\\\\n",
       "\\bottomrule\n",
       "\\end{tabular}\n",
       "\\begin{tabular}{lccccc}\n",
       "                & \\textbf{coef} & \\textbf{std err} & \\textbf{t} & \\textbf{P$> |$t$|$} & \\textbf{95.0\\% Conf. Int.}  \\\\\n",
       "\\midrule\n",
       "\\textbf{Const}  &       0.0788  &    1.784e-02     &     4.419  &      9.915e-06       &    [4.386e-02,  0.114]      \\\\\n",
       "\\textbf{ret[1]} &  -7.8584e-03  &    3.818e-02     &    -0.206  &          0.837       &   [-8.269e-02,6.697e-02]    \\\\\n",
       "\\textbf{ret[2]} &       0.0450  &    4.775e-02     &     0.943  &          0.346       &    [-4.855e-02,  0.139]     \\\\\n",
       "                  & \\textbf{coef} & \\textbf{std err} & \\textbf{t} & \\textbf{P$> |$t$|$} & \\textbf{95.0\\% Conf. Int.}  \\\\\n",
       "\\midrule\n",
       "\\textbf{omega}    &       0.3965  &    3.302e-02     &    12.009  &      3.199e-33       &     [  0.332,  0.461]       \\\\\n",
       "\\textbf{alpha[1]} &       0.3519  &    5.527e-02     &     6.367  &      1.933e-10       &     [  0.244,  0.460]       \\\\\n",
       "\\textbf{alpha[2]} &       0.3398  &    4.994e-02     &     6.803  &      1.024e-11       &     [  0.242,  0.438]       \\\\\n",
       "\\bottomrule\n",
       "\\end{tabular}\n",
       "%\\caption{AR - ARCH Model Results}\n",
       "\\end{center}\n",
       "\n",
       "Covariance estimator: robust"
      ],
      "text/plain": [
       "<class 'statsmodels.iolib.summary.Summary'>\n",
       "\"\"\"\n",
       "                           AR - ARCH Model Results                            \n",
       "==============================================================================\n",
       "Dep. Variable:                    ret   R-squared:                       0.006\n",
       "Mean Model:                        AR   Adj. R-squared:                  0.005\n",
       "Vol Model:                       ARCH   Log-Likelihood:               -3339.35\n",
       "Distribution:                  Normal   AIC:                           6690.69\n",
       "Method:            Maximum Likelihood   BIC:                           6725.79\n",
       "                                        No. Observations:                 2562\n",
       "Date:                Mon, Mar 04 2024   Df Residuals:                     2559\n",
       "Time:                        16:27:16   Df Model:                            3\n",
       "                                  Mean Model                                  \n",
       "==============================================================================\n",
       "                  coef    std err          t      P>|t|       95.0% Conf. Int.\n",
       "------------------------------------------------------------------------------\n",
       "Const           0.0788  1.784e-02      4.419  9.915e-06    [4.386e-02,  0.114]\n",
       "ret[1]     -7.8584e-03  3.818e-02     -0.206      0.837 [-8.269e-02,6.697e-02]\n",
       "ret[2]          0.0450  4.775e-02      0.943      0.346   [-4.855e-02,  0.139]\n",
       "                            Volatility Model                            \n",
       "========================================================================\n",
       "                 coef    std err          t      P>|t|  95.0% Conf. Int.\n",
       "------------------------------------------------------------------------\n",
       "omega          0.3965  3.302e-02     12.009  3.199e-33 [  0.332,  0.461]\n",
       "alpha[1]       0.3519  5.527e-02      6.367  1.933e-10 [  0.244,  0.460]\n",
       "alpha[2]       0.3398  4.994e-02      6.803  1.024e-11 [  0.242,  0.438]\n",
       "========================================================================\n",
       "\n",
       "Covariance estimator: robust\n",
       "\"\"\""
      ]
     },
     "execution_count": 15,
     "metadata": {},
     "output_type": "execute_result"
    }
   ],
   "source": [
    "model_arch1 = arch_model(sp.ret[1:], mean='AR',lags=[1,2],vol='ARCH',p=2)  #mean eq is AR(2) --> \"AR(2)ARCH(2) model\"\n",
    "results_arch1 = model_arch1.fit(update_freq=2)\n",
    "results_arch1.summary()"
   ]
  },
  {
   "cell_type": "code",
   "execution_count": 16,
   "id": "8ba04a86-e6b0-4ab0-accf-0ff106715342",
   "metadata": {
    "tags": []
   },
   "outputs": [
    {
     "name": "stdout",
     "output_type": "stream",
     "text": [
      "Iteration:      2,   Func. Count:     17,   Neg. LLF: 14688.555817198752\n",
      "Iteration:      4,   Func. Count:     34,   Neg. LLF: 3218.779017597559\n",
      "Iteration:      6,   Func. Count:     47,   Neg. LLF: 3167.101548346207\n",
      "Iteration:      8,   Func. Count:     57,   Neg. LLF: 3167.0946377054784\n",
      "Iteration:     10,   Func. Count:     66,   Neg. LLF: 3167.0946264404274\n",
      "Optimization terminated successfully    (Exit mode 0)\n",
      "            Current function value: 3167.0946264404756\n",
      "            Iterations: 10\n",
      "            Function evaluations: 66\n",
      "            Gradient evaluations: 10\n"
     ]
    },
    {
     "data": {
      "text/html": [
       "<table class=\"simpletable\">\n",
       "<caption>Constant Mean - GARCH Model Results</caption>\n",
       "<tr>\n",
       "  <th>Dep. Variable:</th>         <td>ret</td>        <th>  R-squared:         </th>  <td>   0.000</td> \n",
       "</tr>\n",
       "<tr>\n",
       "  <th>Mean Model:</th>       <td>Constant Mean</td>   <th>  Adj. R-squared:    </th>  <td>   0.000</td> \n",
       "</tr>\n",
       "<tr>\n",
       "  <th>Vol Model:</th>            <td>GARCH</td>       <th>  Log-Likelihood:    </th> <td>  -3167.09</td>\n",
       "</tr>\n",
       "<tr>\n",
       "  <th>Distribution:</th>        <td>Normal</td>       <th>  AIC:               </th> <td>   6342.19</td>\n",
       "</tr>\n",
       "<tr>\n",
       "  <th>Method:</th>        <td>Maximum Likelihood</td> <th>  BIC:               </th> <td>   6365.59</td>\n",
       "</tr>\n",
       "<tr>\n",
       "  <th></th>                        <td></td>          <th>  No. Observations:  </th>    <td>2564</td>   \n",
       "</tr>\n",
       "<tr>\n",
       "  <th>Date:</th>           <td>Mon, Mar 04 2024</td>  <th>  Df Residuals:      </th>    <td>2563</td>   \n",
       "</tr>\n",
       "<tr>\n",
       "  <th>Time:</th>               <td>16:31:08</td>      <th>  Df Model:          </th>      <td>1</td>    \n",
       "</tr>\n",
       "</table>\n",
       "<table class=\"simpletable\">\n",
       "<caption>Mean Model</caption>\n",
       "<tr>\n",
       "   <td></td>     <th>coef</th>     <th>std err</th>      <th>t</th>       <th>P>|t|</th>    <th>95.0% Conf. Int.</th>  \n",
       "</tr>\n",
       "<tr>\n",
       "  <th>mu</th> <td>    0.0797</td> <td>1.397e-02</td> <td>    5.706</td> <td>1.158e-08</td> <td>[5.232e-02,  0.107]</td>\n",
       "</tr>\n",
       "</table>\n",
       "<table class=\"simpletable\">\n",
       "<caption>Volatility Model</caption>\n",
       "<tr>\n",
       "      <td></td>        <th>coef</th>     <th>std err</th>      <th>t</th>        <th>P>|t|</th>     <th>95.0% Conf. Int.</th>   \n",
       "</tr>\n",
       "<tr>\n",
       "  <th>omega</th>    <td>    0.0387</td> <td>8.960e-03</td> <td>    4.322</td>  <td>1.544e-05</td> <td>[2.117e-02,5.629e-02]</td>\n",
       "</tr>\n",
       "<tr>\n",
       "  <th>alpha[1]</th> <td>    0.2042</td> <td>3.078e-02</td> <td>    6.634</td>  <td>3.257e-11</td>   <td>[  0.144,  0.265]</td>  \n",
       "</tr>\n",
       "<tr>\n",
       "  <th>beta[1]</th>  <td>    0.7662</td> <td>2.803e-02</td> <td>   27.336</td> <td>1.590e-164</td>   <td>[  0.711,  0.821]</td>  \n",
       "</tr>\n",
       "</table><br/><br/>Covariance estimator: robust"
      ],
      "text/latex": [
       "\\begin{center}\n",
       "\\begin{tabular}{lclc}\n",
       "\\toprule\n",
       "\\textbf{Dep. Variable:} &        ret         & \\textbf{  R-squared:         } &     0.000   \\\\\n",
       "\\textbf{Mean Model:}    &   Constant Mean    & \\textbf{  Adj. R-squared:    } &     0.000   \\\\\n",
       "\\textbf{Vol Model:}     &       GARCH        & \\textbf{  Log-Likelihood:    } &   -3167.09  \\\\\n",
       "\\textbf{Distribution:}  &       Normal       & \\textbf{  AIC:               } &    6342.19  \\\\\n",
       "\\textbf{Method:}        & Maximum Likelihood & \\textbf{  BIC:               } &    6365.59  \\\\\n",
       "\\textbf{}               &                    & \\textbf{  No. Observations:  } &    2564     \\\\\n",
       "\\textbf{Date:}          &  Mon, Mar 04 2024  & \\textbf{  Df Residuals:      } &    2563     \\\\\n",
       "\\textbf{Time:}          &      16:31:08      & \\textbf{  Df Model:          } &     1       \\\\\n",
       "\\bottomrule\n",
       "\\end{tabular}\n",
       "\\begin{tabular}{lccccc}\n",
       "            & \\textbf{coef} & \\textbf{std err} & \\textbf{t} & \\textbf{P$> |$t$|$} & \\textbf{95.0\\% Conf. Int.}  \\\\\n",
       "\\midrule\n",
       "\\textbf{mu} &       0.0797  &    1.397e-02     &     5.706  &      1.158e-08       &    [5.232e-02,  0.107]      \\\\\n",
       "                  & \\textbf{coef} & \\textbf{std err} & \\textbf{t} & \\textbf{P$> |$t$|$} & \\textbf{95.0\\% Conf. Int.}  \\\\\n",
       "\\midrule\n",
       "\\textbf{omega}    &       0.0387  &    8.960e-03     &     4.322  &      1.544e-05       &   [2.117e-02,5.629e-02]     \\\\\n",
       "\\textbf{alpha[1]} &       0.2042  &    3.078e-02     &     6.634  &      3.257e-11       &     [  0.144,  0.265]       \\\\\n",
       "\\textbf{beta[1]}  &       0.7662  &    2.803e-02     &    27.336  &      1.590e-164      &     [  0.711,  0.821]       \\\\\n",
       "\\bottomrule\n",
       "\\end{tabular}\n",
       "%\\caption{Constant Mean - GARCH Model Results}\n",
       "\\end{center}\n",
       "\n",
       "Covariance estimator: robust"
      ],
      "text/plain": [
       "<class 'statsmodels.iolib.summary.Summary'>\n",
       "\"\"\"\n",
       "                     Constant Mean - GARCH Model Results                      \n",
       "==============================================================================\n",
       "Dep. Variable:                    ret   R-squared:                       0.000\n",
       "Mean Model:             Constant Mean   Adj. R-squared:                  0.000\n",
       "Vol Model:                      GARCH   Log-Likelihood:               -3167.09\n",
       "Distribution:                  Normal   AIC:                           6342.19\n",
       "Method:            Maximum Likelihood   BIC:                           6365.59\n",
       "                                        No. Observations:                 2564\n",
       "Date:                Mon, Mar 04 2024   Df Residuals:                     2563\n",
       "Time:                        16:31:08   Df Model:                            1\n",
       "                                Mean Model                                \n",
       "==========================================================================\n",
       "                 coef    std err          t      P>|t|    95.0% Conf. Int.\n",
       "--------------------------------------------------------------------------\n",
       "mu             0.0797  1.397e-02      5.706  1.158e-08 [5.232e-02,  0.107]\n",
       "                              Volatility Model                              \n",
       "============================================================================\n",
       "                 coef    std err          t      P>|t|      95.0% Conf. Int.\n",
       "----------------------------------------------------------------------------\n",
       "omega          0.0387  8.960e-03      4.322  1.544e-05 [2.117e-02,5.629e-02]\n",
       "alpha[1]       0.2042  3.078e-02      6.634  3.257e-11     [  0.144,  0.265]\n",
       "beta[1]        0.7662  2.803e-02     27.336 1.590e-164     [  0.711,  0.821]\n",
       "============================================================================\n",
       "\n",
       "Covariance estimator: robust\n",
       "\"\"\""
      ]
     },
     "execution_count": 16,
     "metadata": {},
     "output_type": "execute_result"
    }
   ],
   "source": [
    "model_arch1 = arch_model(sp.ret[1:], mean='Constant',vol='GARCH',p=1,q=1)  #mean eq is AR(2) --> \"GARCH(1,1) model\"\n",
    "results_arch1 = model_arch1.fit(update_freq=2)\n",
    "results_arch1.summary()"
   ]
  },
  {
   "cell_type": "code",
   "execution_count": 18,
   "id": "86d69e41-9e51-4982-8882-c1dce5183197",
   "metadata": {
    "tags": []
   },
   "outputs": [
    {
     "name": "stdout",
     "output_type": "stream",
     "text": [
      "Iteration:      2,   Func. Count:     18,   Neg. LLF: 12710.575532328674\n",
      "Iteration:      4,   Func. Count:     37,   Neg. LLF: 4304.552286473422\n",
      "Iteration:      6,   Func. Count:     51,   Neg. LLF: 3170.164498869722\n",
      "Iteration:      8,   Func. Count:     65,   Neg. LLF: 3192.3370445114133\n",
      "Iteration:     10,   Func. Count:     79,   Neg. LLF: 3167.001998849769\n",
      "Iteration:     12,   Func. Count:     91,   Neg. LLF: 3167.000194894681\n",
      "Optimization terminated successfully    (Exit mode 0)\n",
      "            Current function value: 3167.000194894681\n",
      "            Iterations: 13\n",
      "            Function evaluations: 96\n",
      "            Gradient evaluations: 13\n"
     ]
    },
    {
     "data": {
      "text/html": [
       "<table class=\"simpletable\">\n",
       "<caption>Constant Mean - GARCH Model Results</caption>\n",
       "<tr>\n",
       "  <th>Dep. Variable:</th>         <td>ret</td>        <th>  R-squared:         </th>  <td>   0.000</td> \n",
       "</tr>\n",
       "<tr>\n",
       "  <th>Mean Model:</th>       <td>Constant Mean</td>   <th>  Adj. R-squared:    </th>  <td>   0.000</td> \n",
       "</tr>\n",
       "<tr>\n",
       "  <th>Vol Model:</th>            <td>GARCH</td>       <th>  Log-Likelihood:    </th> <td>  -3167.00</td>\n",
       "</tr>\n",
       "<tr>\n",
       "  <th>Distribution:</th>        <td>Normal</td>       <th>  AIC:               </th> <td>   6344.00</td>\n",
       "</tr>\n",
       "<tr>\n",
       "  <th>Method:</th>        <td>Maximum Likelihood</td> <th>  BIC:               </th> <td>   6373.25</td>\n",
       "</tr>\n",
       "<tr>\n",
       "  <th></th>                        <td></td>          <th>  No. Observations:  </th>    <td>2564</td>   \n",
       "</tr>\n",
       "<tr>\n",
       "  <th>Date:</th>           <td>Mon, Mar 04 2024</td>  <th>  Df Residuals:      </th>    <td>2563</td>   \n",
       "</tr>\n",
       "<tr>\n",
       "  <th>Time:</th>               <td>16:33:50</td>      <th>  Df Model:          </th>      <td>1</td>    \n",
       "</tr>\n",
       "</table>\n",
       "<table class=\"simpletable\">\n",
       "<caption>Mean Model</caption>\n",
       "<tr>\n",
       "   <td></td>     <th>coef</th>     <th>std err</th>      <th>t</th>       <th>P>|t|</th>    <th>95.0% Conf. Int.</th>  \n",
       "</tr>\n",
       "<tr>\n",
       "  <th>mu</th> <td>    0.0794</td> <td>1.391e-02</td> <td>    5.710</td> <td>1.132e-08</td> <td>[5.217e-02,  0.107]</td>\n",
       "</tr>\n",
       "</table>\n",
       "<table class=\"simpletable\">\n",
       "<caption>Volatility Model</caption>\n",
       "<tr>\n",
       "      <td></td>        <th>coef</th>     <th>std err</th>      <th>t</th>       <th>P>|t|</th>     <th>95.0% Conf. Int.</th>   \n",
       "</tr>\n",
       "<tr>\n",
       "  <th>omega</th>    <td>    0.0403</td> <td>1.069e-02</td> <td>    3.770</td> <td>1.632e-04</td> <td>[1.936e-02,6.127e-02]</td>\n",
       "</tr>\n",
       "<tr>\n",
       "  <th>alpha[1]</th> <td>    0.1961</td> <td>4.522e-02</td> <td>    4.336</td> <td>1.454e-05</td>   <td>[  0.107,  0.285]</td>  \n",
       "</tr>\n",
       "<tr>\n",
       "  <th>alpha[2]</th> <td>    0.0156</td> <td>5.492e-02</td> <td>    0.283</td> <td>    0.777</td> <td>[-9.207e-02,  0.123]</td> \n",
       "</tr>\n",
       "<tr>\n",
       "  <th>beta[1]</th>  <td>    0.7578</td> <td>3.861e-02</td> <td>   19.626</td> <td>9.319e-86</td>   <td>[  0.682,  0.834]</td>  \n",
       "</tr>\n",
       "</table><br/><br/>Covariance estimator: robust"
      ],
      "text/latex": [
       "\\begin{center}\n",
       "\\begin{tabular}{lclc}\n",
       "\\toprule\n",
       "\\textbf{Dep. Variable:} &        ret         & \\textbf{  R-squared:         } &     0.000   \\\\\n",
       "\\textbf{Mean Model:}    &   Constant Mean    & \\textbf{  Adj. R-squared:    } &     0.000   \\\\\n",
       "\\textbf{Vol Model:}     &       GARCH        & \\textbf{  Log-Likelihood:    } &   -3167.00  \\\\\n",
       "\\textbf{Distribution:}  &       Normal       & \\textbf{  AIC:               } &    6344.00  \\\\\n",
       "\\textbf{Method:}        & Maximum Likelihood & \\textbf{  BIC:               } &    6373.25  \\\\\n",
       "\\textbf{}               &                    & \\textbf{  No. Observations:  } &    2564     \\\\\n",
       "\\textbf{Date:}          &  Mon, Mar 04 2024  & \\textbf{  Df Residuals:      } &    2563     \\\\\n",
       "\\textbf{Time:}          &      16:33:50      & \\textbf{  Df Model:          } &     1       \\\\\n",
       "\\bottomrule\n",
       "\\end{tabular}\n",
       "\\begin{tabular}{lccccc}\n",
       "            & \\textbf{coef} & \\textbf{std err} & \\textbf{t} & \\textbf{P$> |$t$|$} & \\textbf{95.0\\% Conf. Int.}  \\\\\n",
       "\\midrule\n",
       "\\textbf{mu} &       0.0794  &    1.391e-02     &     5.710  &      1.132e-08       &    [5.217e-02,  0.107]      \\\\\n",
       "                  & \\textbf{coef} & \\textbf{std err} & \\textbf{t} & \\textbf{P$> |$t$|$} & \\textbf{95.0\\% Conf. Int.}  \\\\\n",
       "\\midrule\n",
       "\\textbf{omega}    &       0.0403  &    1.069e-02     &     3.770  &      1.632e-04       &   [1.936e-02,6.127e-02]     \\\\\n",
       "\\textbf{alpha[1]} &       0.1961  &    4.522e-02     &     4.336  &      1.454e-05       &     [  0.107,  0.285]       \\\\\n",
       "\\textbf{alpha[2]} &       0.0156  &    5.492e-02     &     0.283  &          0.777       &    [-9.207e-02,  0.123]     \\\\\n",
       "\\textbf{beta[1]}  &       0.7578  &    3.861e-02     &    19.626  &      9.319e-86       &     [  0.682,  0.834]       \\\\\n",
       "\\bottomrule\n",
       "\\end{tabular}\n",
       "%\\caption{Constant Mean - GARCH Model Results}\n",
       "\\end{center}\n",
       "\n",
       "Covariance estimator: robust"
      ],
      "text/plain": [
       "<class 'statsmodels.iolib.summary.Summary'>\n",
       "\"\"\"\n",
       "                     Constant Mean - GARCH Model Results                      \n",
       "==============================================================================\n",
       "Dep. Variable:                    ret   R-squared:                       0.000\n",
       "Mean Model:             Constant Mean   Adj. R-squared:                  0.000\n",
       "Vol Model:                      GARCH   Log-Likelihood:               -3167.00\n",
       "Distribution:                  Normal   AIC:                           6344.00\n",
       "Method:            Maximum Likelihood   BIC:                           6373.25\n",
       "                                        No. Observations:                 2564\n",
       "Date:                Mon, Mar 04 2024   Df Residuals:                     2563\n",
       "Time:                        16:33:50   Df Model:                            1\n",
       "                                Mean Model                                \n",
       "==========================================================================\n",
       "                 coef    std err          t      P>|t|    95.0% Conf. Int.\n",
       "--------------------------------------------------------------------------\n",
       "mu             0.0794  1.391e-02      5.710  1.132e-08 [5.217e-02,  0.107]\n",
       "                              Volatility Model                              \n",
       "============================================================================\n",
       "                 coef    std err          t      P>|t|      95.0% Conf. Int.\n",
       "----------------------------------------------------------------------------\n",
       "omega          0.0403  1.069e-02      3.770  1.632e-04 [1.936e-02,6.127e-02]\n",
       "alpha[1]       0.1961  4.522e-02      4.336  1.454e-05     [  0.107,  0.285]\n",
       "alpha[2]       0.0156  5.492e-02      0.283      0.777  [-9.207e-02,  0.123]\n",
       "beta[1]        0.7578  3.861e-02     19.626  9.319e-86     [  0.682,  0.834]\n",
       "============================================================================\n",
       "\n",
       "Covariance estimator: robust\n",
       "\"\"\""
      ]
     },
     "execution_count": 18,
     "metadata": {},
     "output_type": "execute_result"
    }
   ],
   "source": [
    "model_arch1 = arch_model(sp.ret[1:], mean='Constant',vol='GARCH',p=2,q=1)  #mean eq is AR(2) --> \"GARCH(2,1) model\"\n",
    "results_arch1 = model_arch1.fit(update_freq=2)\n",
    "results_arch1.summary()"
   ]
  },
  {
   "cell_type": "markdown",
   "id": "0782aba6-2f0c-441d-af15-b8c3a9531a6a",
   "metadata": {},
   "source": [
    "### Out of sample forecasting"
   ]
  },
  {
   "cell_type": "code",
   "execution_count": 21,
   "id": "4f5dd37d-1552-41b7-bdc4-b67a1e217811",
   "metadata": {
    "tags": []
   },
   "outputs": [
    {
     "data": {
      "text/html": [
       "<div>\n",
       "<style scoped>\n",
       "    .dataframe tbody tr th:only-of-type {\n",
       "        vertical-align: middle;\n",
       "    }\n",
       "\n",
       "    .dataframe tbody tr th {\n",
       "        vertical-align: top;\n",
       "    }\n",
       "\n",
       "    .dataframe thead th {\n",
       "        text-align: right;\n",
       "    }\n",
       "</style>\n",
       "<table border=\"1\" class=\"dataframe\">\n",
       "  <thead>\n",
       "    <tr style=\"text-align: right;\">\n",
       "      <th></th>\n",
       "      <th>gdp</th>\n",
       "      <th>gdpgr</th>\n",
       "    </tr>\n",
       "    <tr>\n",
       "      <th>DATE</th>\n",
       "      <th></th>\n",
       "      <th></th>\n",
       "    </tr>\n",
       "  </thead>\n",
       "  <tbody>\n",
       "    <tr>\n",
       "      <th>1970-01-01</th>\n",
       "      <td>4939.759</td>\n",
       "      <td>NaN</td>\n",
       "    </tr>\n",
       "    <tr>\n",
       "      <th>1970-04-01</th>\n",
       "      <td>4946.770</td>\n",
       "      <td>0.141930</td>\n",
       "    </tr>\n",
       "    <tr>\n",
       "      <th>1970-07-01</th>\n",
       "      <td>4992.357</td>\n",
       "      <td>0.921551</td>\n",
       "    </tr>\n",
       "    <tr>\n",
       "      <th>1970-10-01</th>\n",
       "      <td>4938.857</td>\n",
       "      <td>-1.071638</td>\n",
       "    </tr>\n",
       "    <tr>\n",
       "      <th>1971-01-01</th>\n",
       "      <td>5072.996</td>\n",
       "      <td>2.715993</td>\n",
       "    </tr>\n",
       "  </tbody>\n",
       "</table>\n",
       "</div>"
      ],
      "text/plain": [
       "                 gdp     gdpgr\n",
       "DATE                          \n",
       "1970-01-01  4939.759       NaN\n",
       "1970-04-01  4946.770  0.141930\n",
       "1970-07-01  4992.357  0.921551\n",
       "1970-10-01  4938.857 -1.071638\n",
       "1971-01-01  5072.996  2.715993"
      ]
     },
     "execution_count": 21,
     "metadata": {},
     "output_type": "execute_result"
    }
   ],
   "source": [
    "df = pd.read_csv(\"data/data6_GDP_Q_real_SA.csv\", header=0,index_col=0)\n",
    "df.index = pd.to_datetime(df.index)\n",
    "df=df['1970':'2019']\n",
    "df.columns = ['gdp']\n",
    "df['gdpgr']=df.gdp.pct_change()*100\n",
    "df.head()"
   ]
  },
  {
   "cell_type": "code",
   "execution_count": 24,
   "id": "1a615ee7-ffcf-4341-90f6-bd0f6d9e31f4",
   "metadata": {
    "tags": []
   },
   "outputs": [
    {
     "name": "stderr",
     "output_type": "stream",
     "text": [
      "C:\\Users\\soyyo\\anaconda3\\Lib\\site-packages\\statsmodels\\tsa\\base\\tsa_model.py:473: ValueWarning: No frequency information was provided, so inferred frequency QS-OCT will be used.\n",
      "  self._init_dates(dates, freq)\n",
      "C:\\Users\\soyyo\\anaconda3\\Lib\\site-packages\\statsmodels\\tsa\\base\\tsa_model.py:473: ValueWarning: No frequency information was provided, so inferred frequency QS-OCT will be used.\n",
      "  self._init_dates(dates, freq)\n",
      "C:\\Users\\soyyo\\anaconda3\\Lib\\site-packages\\statsmodels\\tsa\\base\\tsa_model.py:473: ValueWarning: No frequency information was provided, so inferred frequency QS-OCT will be used.\n",
      "  self._init_dates(dates, freq)\n"
     ]
    },
    {
     "data": {
      "text/html": [
       "<table class=\"simpletable\">\n",
       "<caption>SARIMAX Results</caption>\n",
       "<tr>\n",
       "  <th>Dep. Variable:</th>          <td>gdp</td>       <th>  No. Observations:  </th>    <td>200</td>   \n",
       "</tr>\n",
       "<tr>\n",
       "  <th>Model:</th>            <td>ARIMA(1, 1, 1)</td>  <th>  Log Likelihood     </th> <td>-1133.803</td>\n",
       "</tr>\n",
       "<tr>\n",
       "  <th>Date:</th>            <td>Mon, 04 Mar 2024</td> <th>  AIC                </th> <td>2273.607</td> \n",
       "</tr>\n",
       "<tr>\n",
       "  <th>Time:</th>                <td>16:42:44</td>     <th>  BIC                </th> <td>2283.486</td> \n",
       "</tr>\n",
       "<tr>\n",
       "  <th>Sample:</th>             <td>01-01-1970</td>    <th>  HQIC               </th> <td>2277.605</td> \n",
       "</tr>\n",
       "<tr>\n",
       "  <th></th>                   <td>- 10-01-2019</td>   <th>                     </th>     <td> </td>    \n",
       "</tr>\n",
       "<tr>\n",
       "  <th>Covariance Type:</th>        <td>opg</td>       <th>                     </th>     <td> </td>    \n",
       "</tr>\n",
       "</table>\n",
       "<table class=\"simpletable\">\n",
       "<tr>\n",
       "     <td></td>       <th>coef</th>     <th>std err</th>      <th>z</th>      <th>P>|z|</th>  <th>[0.025</th>    <th>0.975]</th>  \n",
       "</tr>\n",
       "<tr>\n",
       "  <th>ar.L1</th>  <td>    0.9403</td> <td>    0.032</td> <td>   29.056</td> <td> 0.000</td> <td>    0.877</td> <td>    1.004</td>\n",
       "</tr>\n",
       "<tr>\n",
       "  <th>ma.L1</th>  <td>   -0.5901</td> <td>    0.065</td> <td>   -9.053</td> <td> 0.000</td> <td>   -0.718</td> <td>   -0.462</td>\n",
       "</tr>\n",
       "<tr>\n",
       "  <th>sigma2</th> <td> 5176.8765</td> <td>  385.449</td> <td>   13.431</td> <td> 0.000</td> <td> 4421.410</td> <td> 5932.343</td>\n",
       "</tr>\n",
       "</table>\n",
       "<table class=\"simpletable\">\n",
       "<tr>\n",
       "  <th>Ljung-Box (L1) (Q):</th>     <td>0.06</td> <th>  Jarque-Bera (JB):  </th> <td>62.40</td>\n",
       "</tr>\n",
       "<tr>\n",
       "  <th>Prob(Q):</th>                <td>0.81</td> <th>  Prob(JB):          </th> <td>0.00</td> \n",
       "</tr>\n",
       "<tr>\n",
       "  <th>Heteroskedasticity (H):</th> <td>1.55</td> <th>  Skew:              </th> <td>-0.52</td>\n",
       "</tr>\n",
       "<tr>\n",
       "  <th>Prob(H) (two-sided):</th>    <td>0.08</td> <th>  Kurtosis:          </th> <td>5.53</td> \n",
       "</tr>\n",
       "</table><br/><br/>Warnings:<br/>[1] Covariance matrix calculated using the outer product of gradients (complex-step)."
      ],
      "text/latex": [
       "\\begin{center}\n",
       "\\begin{tabular}{lclc}\n",
       "\\toprule\n",
       "\\textbf{Dep. Variable:}          &       gdp        & \\textbf{  No. Observations:  } &    200      \\\\\n",
       "\\textbf{Model:}                  &  ARIMA(1, 1, 1)  & \\textbf{  Log Likelihood     } & -1133.803   \\\\\n",
       "\\textbf{Date:}                   & Mon, 04 Mar 2024 & \\textbf{  AIC                } &  2273.607   \\\\\n",
       "\\textbf{Time:}                   &     16:42:44     & \\textbf{  BIC                } &  2283.486   \\\\\n",
       "\\textbf{Sample:}                 &    01-01-1970    & \\textbf{  HQIC               } &  2277.605   \\\\\n",
       "\\textbf{}                        &   - 10-01-2019   & \\textbf{                     } &             \\\\\n",
       "\\textbf{Covariance Type:}        &       opg        & \\textbf{                     } &             \\\\\n",
       "\\bottomrule\n",
       "\\end{tabular}\n",
       "\\begin{tabular}{lcccccc}\n",
       "                & \\textbf{coef} & \\textbf{std err} & \\textbf{z} & \\textbf{P$> |$z$|$} & \\textbf{[0.025} & \\textbf{0.975]}  \\\\\n",
       "\\midrule\n",
       "\\textbf{ar.L1}  &       0.9403  &        0.032     &    29.056  &         0.000        &        0.877    &        1.004     \\\\\n",
       "\\textbf{ma.L1}  &      -0.5901  &        0.065     &    -9.053  &         0.000        &       -0.718    &       -0.462     \\\\\n",
       "\\textbf{sigma2} &    5176.8765  &      385.449     &    13.431  &         0.000        &     4421.410    &     5932.343     \\\\\n",
       "\\bottomrule\n",
       "\\end{tabular}\n",
       "\\begin{tabular}{lclc}\n",
       "\\textbf{Ljung-Box (L1) (Q):}     & 0.06 & \\textbf{  Jarque-Bera (JB):  } & 62.40  \\\\\n",
       "\\textbf{Prob(Q):}                & 0.81 & \\textbf{  Prob(JB):          } &  0.00  \\\\\n",
       "\\textbf{Heteroskedasticity (H):} & 1.55 & \\textbf{  Skew:              } & -0.52  \\\\\n",
       "\\textbf{Prob(H) (two-sided):}    & 0.08 & \\textbf{  Kurtosis:          } &  5.53  \\\\\n",
       "\\bottomrule\n",
       "\\end{tabular}\n",
       "%\\caption{SARIMAX Results}\n",
       "\\end{center}\n",
       "\n",
       "Warnings: \\newline\n",
       " [1] Covariance matrix calculated using the outer product of gradients (complex-step)."
      ],
      "text/plain": [
       "<class 'statsmodels.iolib.summary.Summary'>\n",
       "\"\"\"\n",
       "                               SARIMAX Results                                \n",
       "==============================================================================\n",
       "Dep. Variable:                    gdp   No. Observations:                  200\n",
       "Model:                 ARIMA(1, 1, 1)   Log Likelihood               -1133.803\n",
       "Date:                Mon, 04 Mar 2024   AIC                           2273.607\n",
       "Time:                        16:42:44   BIC                           2283.486\n",
       "Sample:                    01-01-1970   HQIC                          2277.605\n",
       "                         - 10-01-2019                                         \n",
       "Covariance Type:                  opg                                         \n",
       "==============================================================================\n",
       "                 coef    std err          z      P>|z|      [0.025      0.975]\n",
       "------------------------------------------------------------------------------\n",
       "ar.L1          0.9403      0.032     29.056      0.000       0.877       1.004\n",
       "ma.L1         -0.5901      0.065     -9.053      0.000      -0.718      -0.462\n",
       "sigma2      5176.8765    385.449     13.431      0.000    4421.410    5932.343\n",
       "===================================================================================\n",
       "Ljung-Box (L1) (Q):                   0.06   Jarque-Bera (JB):                62.40\n",
       "Prob(Q):                              0.81   Prob(JB):                         0.00\n",
       "Heteroskedasticity (H):               1.55   Skew:                            -0.52\n",
       "Prob(H) (two-sided):                  0.08   Kurtosis:                         5.53\n",
       "===================================================================================\n",
       "\n",
       "Warnings:\n",
       "[1] Covariance matrix calculated using the outer product of gradients (complex-step).\n",
       "\"\"\""
      ]
     },
     "execution_count": 24,
     "metadata": {},
     "output_type": "execute_result"
    }
   ],
   "source": [
    "model_gdp = ARIMA(df.gdp, order=(1,1,1))  #ARIMA(1,1,1) model\n",
    "results_gdp = model_gdp.fit()\n",
    "results_gdp.summary()"
   ]
  },
  {
   "cell_type": "code",
   "execution_count": 25,
   "id": "212ce0bb-33a7-40b1-8298-3ff011f68c07",
   "metadata": {
    "tags": []
   },
   "outputs": [
    {
     "name": "stderr",
     "output_type": "stream",
     "text": [
      "C:\\Users\\soyyo\\anaconda3\\Lib\\site-packages\\statsmodels\\tsa\\base\\tsa_model.py:473: ValueWarning: No frequency information was provided, so inferred frequency QS-OCT will be used.\n",
      "  self._init_dates(dates, freq)\n",
      "C:\\Users\\soyyo\\anaconda3\\Lib\\site-packages\\statsmodels\\tsa\\base\\tsa_model.py:473: ValueWarning: No frequency information was provided, so inferred frequency QS-OCT will be used.\n",
      "  self._init_dates(dates, freq)\n",
      "C:\\Users\\soyyo\\anaconda3\\Lib\\site-packages\\statsmodels\\tsa\\base\\tsa_model.py:473: ValueWarning: No frequency information was provided, so inferred frequency QS-OCT will be used.\n",
      "  self._init_dates(dates, freq)\n"
     ]
    },
    {
     "data": {
      "text/html": [
       "<table class=\"simpletable\">\n",
       "<caption>SARIMAX Results</caption>\n",
       "<tr>\n",
       "  <th>Dep. Variable:</th>          <td>gdp</td>       <th>  No. Observations:  </th>    <td>200</td>   \n",
       "</tr>\n",
       "<tr>\n",
       "  <th>Model:</th>            <td>ARIMA(2, 1, 1)</td>  <th>  Log Likelihood     </th> <td>-1129.573</td>\n",
       "</tr>\n",
       "<tr>\n",
       "  <th>Date:</th>            <td>Mon, 04 Mar 2024</td> <th>  AIC                </th> <td>2267.147</td> \n",
       "</tr>\n",
       "<tr>\n",
       "  <th>Time:</th>                <td>16:46:17</td>     <th>  BIC                </th> <td>2280.320</td> \n",
       "</tr>\n",
       "<tr>\n",
       "  <th>Sample:</th>             <td>01-01-1970</td>    <th>  HQIC               </th> <td>2272.478</td> \n",
       "</tr>\n",
       "<tr>\n",
       "  <th></th>                   <td>- 10-01-2019</td>   <th>                     </th>     <td> </td>    \n",
       "</tr>\n",
       "<tr>\n",
       "  <th>Covariance Type:</th>        <td>opg</td>       <th>                     </th>     <td> </td>    \n",
       "</tr>\n",
       "</table>\n",
       "<table class=\"simpletable\">\n",
       "<tr>\n",
       "     <td></td>       <th>coef</th>     <th>std err</th>      <th>z</th>      <th>P>|z|</th>  <th>[0.025</th>    <th>0.975]</th>  \n",
       "</tr>\n",
       "<tr>\n",
       "  <th>ar.L1</th>  <td>    1.3495</td> <td>    0.063</td> <td>   21.268</td> <td> 0.000</td> <td>    1.225</td> <td>    1.474</td>\n",
       "</tr>\n",
       "<tr>\n",
       "  <th>ar.L2</th>  <td>   -0.3500</td> <td>    0.063</td> <td>   -5.573</td> <td> 0.000</td> <td>   -0.473</td> <td>   -0.227</td>\n",
       "</tr>\n",
       "<tr>\n",
       "  <th>ma.L1</th>  <td>   -0.9750</td> <td>    0.024</td> <td>  -40.785</td> <td> 0.000</td> <td>   -1.022</td> <td>   -0.928</td>\n",
       "</tr>\n",
       "<tr>\n",
       "  <th>sigma2</th> <td> 4930.5269</td> <td>  351.834</td> <td>   14.014</td> <td> 0.000</td> <td> 4240.945</td> <td> 5620.109</td>\n",
       "</tr>\n",
       "</table>\n",
       "<table class=\"simpletable\">\n",
       "<tr>\n",
       "  <th>Ljung-Box (L1) (Q):</th>     <td>0.82</td> <th>  Jarque-Bera (JB):  </th> <td>139.49</td>\n",
       "</tr>\n",
       "<tr>\n",
       "  <th>Prob(Q):</th>                <td>0.37</td> <th>  Prob(JB):          </th>  <td>0.00</td> \n",
       "</tr>\n",
       "<tr>\n",
       "  <th>Heteroskedasticity (H):</th> <td>1.51</td> <th>  Skew:              </th>  <td>-0.87</td>\n",
       "</tr>\n",
       "<tr>\n",
       "  <th>Prob(H) (two-sided):</th>    <td>0.10</td> <th>  Kurtosis:          </th>  <td>6.71</td> \n",
       "</tr>\n",
       "</table><br/><br/>Warnings:<br/>[1] Covariance matrix calculated using the outer product of gradients (complex-step)."
      ],
      "text/latex": [
       "\\begin{center}\n",
       "\\begin{tabular}{lclc}\n",
       "\\toprule\n",
       "\\textbf{Dep. Variable:}          &       gdp        & \\textbf{  No. Observations:  } &    200      \\\\\n",
       "\\textbf{Model:}                  &  ARIMA(2, 1, 1)  & \\textbf{  Log Likelihood     } & -1129.573   \\\\\n",
       "\\textbf{Date:}                   & Mon, 04 Mar 2024 & \\textbf{  AIC                } &  2267.147   \\\\\n",
       "\\textbf{Time:}                   &     16:46:17     & \\textbf{  BIC                } &  2280.320   \\\\\n",
       "\\textbf{Sample:}                 &    01-01-1970    & \\textbf{  HQIC               } &  2272.478   \\\\\n",
       "\\textbf{}                        &   - 10-01-2019   & \\textbf{                     } &             \\\\\n",
       "\\textbf{Covariance Type:}        &       opg        & \\textbf{                     } &             \\\\\n",
       "\\bottomrule\n",
       "\\end{tabular}\n",
       "\\begin{tabular}{lcccccc}\n",
       "                & \\textbf{coef} & \\textbf{std err} & \\textbf{z} & \\textbf{P$> |$z$|$} & \\textbf{[0.025} & \\textbf{0.975]}  \\\\\n",
       "\\midrule\n",
       "\\textbf{ar.L1}  &       1.3495  &        0.063     &    21.268  &         0.000        &        1.225    &        1.474     \\\\\n",
       "\\textbf{ar.L2}  &      -0.3500  &        0.063     &    -5.573  &         0.000        &       -0.473    &       -0.227     \\\\\n",
       "\\textbf{ma.L1}  &      -0.9750  &        0.024     &   -40.785  &         0.000        &       -1.022    &       -0.928     \\\\\n",
       "\\textbf{sigma2} &    4930.5269  &      351.834     &    14.014  &         0.000        &     4240.945    &     5620.109     \\\\\n",
       "\\bottomrule\n",
       "\\end{tabular}\n",
       "\\begin{tabular}{lclc}\n",
       "\\textbf{Ljung-Box (L1) (Q):}     & 0.82 & \\textbf{  Jarque-Bera (JB):  } & 139.49  \\\\\n",
       "\\textbf{Prob(Q):}                & 0.37 & \\textbf{  Prob(JB):          } &  0.00   \\\\\n",
       "\\textbf{Heteroskedasticity (H):} & 1.51 & \\textbf{  Skew:              } & -0.87   \\\\\n",
       "\\textbf{Prob(H) (two-sided):}    & 0.10 & \\textbf{  Kurtosis:          } &  6.71   \\\\\n",
       "\\bottomrule\n",
       "\\end{tabular}\n",
       "%\\caption{SARIMAX Results}\n",
       "\\end{center}\n",
       "\n",
       "Warnings: \\newline\n",
       " [1] Covariance matrix calculated using the outer product of gradients (complex-step)."
      ],
      "text/plain": [
       "<class 'statsmodels.iolib.summary.Summary'>\n",
       "\"\"\"\n",
       "                               SARIMAX Results                                \n",
       "==============================================================================\n",
       "Dep. Variable:                    gdp   No. Observations:                  200\n",
       "Model:                 ARIMA(2, 1, 1)   Log Likelihood               -1129.573\n",
       "Date:                Mon, 04 Mar 2024   AIC                           2267.147\n",
       "Time:                        16:46:17   BIC                           2280.320\n",
       "Sample:                    01-01-1970   HQIC                          2272.478\n",
       "                         - 10-01-2019                                         \n",
       "Covariance Type:                  opg                                         \n",
       "==============================================================================\n",
       "                 coef    std err          z      P>|z|      [0.025      0.975]\n",
       "------------------------------------------------------------------------------\n",
       "ar.L1          1.3495      0.063     21.268      0.000       1.225       1.474\n",
       "ar.L2         -0.3500      0.063     -5.573      0.000      -0.473      -0.227\n",
       "ma.L1         -0.9750      0.024    -40.785      0.000      -1.022      -0.928\n",
       "sigma2      4930.5269    351.834     14.014      0.000    4240.945    5620.109\n",
       "===================================================================================\n",
       "Ljung-Box (L1) (Q):                   0.82   Jarque-Bera (JB):               139.49\n",
       "Prob(Q):                              0.37   Prob(JB):                         0.00\n",
       "Heteroskedasticity (H):               1.51   Skew:                            -0.87\n",
       "Prob(H) (two-sided):                  0.10   Kurtosis:                         6.71\n",
       "===================================================================================\n",
       "\n",
       "Warnings:\n",
       "[1] Covariance matrix calculated using the outer product of gradients (complex-step).\n",
       "\"\"\""
      ]
     },
     "execution_count": 25,
     "metadata": {},
     "output_type": "execute_result"
    }
   ],
   "source": [
    "model_gdp = ARIMA(df.gdp, order=(2,1,1))  #ARIMA(2,1,1) model\n",
    "results_gdp = model_gdp.fit()\n",
    "results_gdp.summary()"
   ]
  },
  {
   "cell_type": "code",
   "execution_count": 26,
   "id": "10c623ba-34aa-463b-9eaf-4b1bf6578a67",
   "metadata": {
    "tags": []
   },
   "outputs": [],
   "source": [
    "train = df.gdp[:180]   #0~179 data\n",
    "test = df.gdp[180:]"
   ]
  },
  {
   "cell_type": "code",
   "execution_count": 27,
   "id": "d3a26c16-0426-47c1-b175-9ded07167b10",
   "metadata": {
    "tags": []
   },
   "outputs": [
    {
     "name": "stderr",
     "output_type": "stream",
     "text": [
      "C:\\Users\\soyyo\\anaconda3\\Lib\\site-packages\\statsmodels\\tsa\\base\\tsa_model.py:473: ValueWarning: No frequency information was provided, so inferred frequency QS-OCT will be used.\n",
      "  self._init_dates(dates, freq)\n",
      "C:\\Users\\soyyo\\anaconda3\\Lib\\site-packages\\statsmodels\\tsa\\base\\tsa_model.py:473: ValueWarning: No frequency information was provided, so inferred frequency QS-OCT will be used.\n",
      "  self._init_dates(dates, freq)\n",
      "C:\\Users\\soyyo\\anaconda3\\Lib\\site-packages\\statsmodels\\tsa\\base\\tsa_model.py:473: ValueWarning: No frequency information was provided, so inferred frequency QS-OCT will be used.\n",
      "  self._init_dates(dates, freq)\n"
     ]
    }
   ],
   "source": [
    "model_gdp = ARIMA(train, order=(2,1,1))  #ARIMA(2,1,1) model using the training sample for forecasting \n",
    "results_gdp = model_gdp.fit()"
   ]
  },
  {
   "cell_type": "code",
   "execution_count": 28,
   "id": "5855ec1e-865b-461d-9339-11ea23b06f30",
   "metadata": {
    "tags": []
   },
   "outputs": [
    {
     "name": "stderr",
     "output_type": "stream",
     "text": [
      "C:\\Users\\soyyo\\anaconda3\\Lib\\site-packages\\statsmodels\\tsa\\statespace\\representation.py:374: FutureWarning: Unknown keyword arguments: dict_keys(['alpha']).Passing unknown keyword arguments will raise a TypeError beginning in version 0.15.\n",
      "  warnings.warn(msg, FutureWarning)\n"
     ]
    },
    {
     "data": {
      "text/html": [
       "<div>\n",
       "<style scoped>\n",
       "    .dataframe tbody tr th:only-of-type {\n",
       "        vertical-align: middle;\n",
       "    }\n",
       "\n",
       "    .dataframe tbody tr th {\n",
       "        vertical-align: top;\n",
       "    }\n",
       "\n",
       "    .dataframe thead th {\n",
       "        text-align: right;\n",
       "    }\n",
       "</style>\n",
       "<table border=\"1\" class=\"dataframe\">\n",
       "  <thead>\n",
       "    <tr style=\"text-align: right;\">\n",
       "      <th>gdp</th>\n",
       "      <th>mean</th>\n",
       "      <th>mean_se</th>\n",
       "      <th>mean_ci_lower</th>\n",
       "      <th>mean_ci_upper</th>\n",
       "    </tr>\n",
       "  </thead>\n",
       "  <tbody>\n",
       "    <tr>\n",
       "      <th>2015-01-01</th>\n",
       "      <td>17214.853346</td>\n",
       "      <td>72.887817</td>\n",
       "      <td>17071.995851</td>\n",
       "      <td>17357.710841</td>\n",
       "    </tr>\n",
       "    <tr>\n",
       "      <th>2015-04-01</th>\n",
       "      <td>17287.390718</td>\n",
       "      <td>123.579957</td>\n",
       "      <td>17045.178453</td>\n",
       "      <td>17529.602983</td>\n",
       "    </tr>\n",
       "    <tr>\n",
       "      <th>2015-07-01</th>\n",
       "      <td>17359.511675</td>\n",
       "      <td>165.969708</td>\n",
       "      <td>17034.217024</td>\n",
       "      <td>17684.806326</td>\n",
       "    </tr>\n",
       "    <tr>\n",
       "      <th>2015-10-01</th>\n",
       "      <td>17431.446298</td>\n",
       "      <td>202.642641</td>\n",
       "      <td>17034.274019</td>\n",
       "      <td>17828.618576</td>\n",
       "    </tr>\n",
       "    <tr>\n",
       "      <th>2016-01-01</th>\n",
       "      <td>17503.274270</td>\n",
       "      <td>235.425265</td>\n",
       "      <td>17041.849229</td>\n",
       "      <td>17964.699311</td>\n",
       "    </tr>\n",
       "  </tbody>\n",
       "</table>\n",
       "</div>"
      ],
      "text/plain": [
       "gdp                 mean     mean_se  mean_ci_lower  mean_ci_upper\n",
       "2015-01-01  17214.853346   72.887817   17071.995851   17357.710841\n",
       "2015-04-01  17287.390718  123.579957   17045.178453   17529.602983\n",
       "2015-07-01  17359.511675  165.969708   17034.217024   17684.806326\n",
       "2015-10-01  17431.446298  202.642641   17034.274019   17828.618576\n",
       "2016-01-01  17503.274270  235.425265   17041.849229   17964.699311"
      ]
     },
     "execution_count": 28,
     "metadata": {},
     "output_type": "execute_result"
    }
   ],
   "source": [
    "fc = results_gdp.get_forecast(steps=20, alpha=0.05).summary_frame()\n",
    "fc.head()   #Forecasts"
   ]
  },
  {
   "cell_type": "code",
   "execution_count": 31,
   "id": "bf5ad08d-f48a-4b50-8868-357e1c93f455",
   "metadata": {
    "tags": []
   },
   "outputs": [
    {
     "data": {
      "text/plain": [
       "<matplotlib.legend.Legend at 0x23dc1707610>"
      ]
     },
     "execution_count": 31,
     "metadata": {},
     "output_type": "execute_result"
    },
    {
     "data": {
      "image/png": "[encoded data removed]",
      "text/plain": [
       "<Figure size 900x500 with 1 Axes>"
      ]
     },
     "metadata": {},
     "output_type": "display_data"
    }
   ],
   "source": [
    "plt.figure(figsize=(9,5))\n",
    "plt.plot(train, label='training')\n",
    "plt.plot(test, label='actual')\n",
    "plt.plot(fc['mean'],label='forecast')\n",
    "plt.fill_between(fc.index, fc.mean_ci_lower,fc.mean_ci_upper, color='k',alpha=0.15)  #confidence shade\n",
    "plt.title('Forecasts vs Actual')\n",
    "plt.legend(loc='upper left', fontsize=10)"
   ]
  },
  {
   "cell_type": "code",
   "execution_count": 32,
   "id": "416691ca-85ec-4a91-9621-802e2bc3fced",
   "metadata": {
    "tags": []
   },
   "outputs": [],
   "source": [
    "def forecast_accuracy(forecast, actual):\n",
    "    me = np.mean(forecast-actual)\n",
    "    mae = np.mean(np.abs(forecast-actual))\n",
    "    mpe = np.mean((forecast-actual)/actual)\n",
    "    mape = np.mean(np.abs(forecast-actual)/np.abs(actual))\n",
    "    rsme = np.mean((forecast-actual)**2)**.5\n",
    "    \n",
    "    return({'me':me,'mae':mae,'mpe':mpe,'mape':mape,'rsme':rsme})"
   ]
  },
  {
   "cell_type": "code",
   "execution_count": 34,
   "id": "5b7bdaa9-bd11-448d-b53d-0bc60a5e0ec2",
   "metadata": {
    "tags": []
   },
   "outputs": [
    {
     "data": {
      "text/plain": [
       "{'me': -261.8841798957168,\n",
       " 'mae': 261.8841798957168,\n",
       " 'mpe': -0.014071962192111773,\n",
       " 'mape': 0.014071962192111773,\n",
       " 'rsme': 333.03789247915347}"
      ]
     },
     "execution_count": 34,
     "metadata": {},
     "output_type": "execute_result"
    }
   ],
   "source": [
    "forecast_accuracy(fc['mean'], test.values)"
   ]
  },
  {
   "cell_type": "code",
   "execution_count": null,
   "id": "4e61bba1-b563-4de2-983c-cb23b1036dd7",
   "metadata": {},
   "outputs": [],
   "source": []
  }
 ],
 "metadata": {
  "kernelspec": {
   "display_name": "Python 3 (ipykernel)",
   "language": "python",
   "name": "python3"
  },
  "language_info": {
   "codemirror_mode": {
    "name": "ipython",
    "version": 3
   },
   "file_extension": ".py",
   "mimetype": "text/x-python",
   "name": "python",
   "nbconvert_exporter": "python",
   "pygments_lexer": "ipython3",
   "version": "3.11.9"
  }
 },
 "nbformat": 4,
 "nbformat_minor": 5
}
